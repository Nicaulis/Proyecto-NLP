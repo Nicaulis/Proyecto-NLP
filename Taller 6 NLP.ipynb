{
 "cells": [
  {
   "cell_type": "markdown",
   "metadata": {},
   "source": [
    "<img src='https://encrypted-tbn0.gstatic.com/images?q=tbn%3AANd9GcQ-VfNtOyJbsaxu43Kztf_cv1mgBG6ZIQZEVw&usqp=CAU'>\n",
    "\n",
    "# Procesamiento de Lenguage Natural\n",
    "\n",
    "## Taller #6: Word2Vec\n",
    "`Fecha de entrega: Septiembre 19, 2020. (Antes del inicio de la próxima clase).`\n",
    "\n",
    "`Modo de entrega: Subir link de GitHub al aula virtual.`\n",
    "\n",
    "\n",
    "\n",
    "Datos: Libre elección\n",
    "\n",
    "Expectativas:\n",
    "- Pre-procesamiento del texto\n",
    "- Uso de Word2Vec (Consejo: jugar con los parámetros)\n",
    "- Mostrar las palabras más parecidas (`most_similar`) de tres palabras que le llamen la atención\n",
    "- Responder:\n",
    "    - ¿Su modelo da buenos resultados? ¿Por qué sí o por qué no?\n",
    "    - ¿Qué problemas encontró al realizar este taller?\n",
    "\n",
    "\n",
    "Bonus: \n",
    "- Usar una función que no hayamos visto en clase ([Aquí](https://radimrehurek.com/gensim/models/word2vec.html#module-gensim.models.word2vec))\n",
    "- Visualizar el modelo usando PCA"
   ]
  },
  {
   "cell_type": "code",
   "execution_count": 1,
   "metadata": {},
   "outputs": [],
   "source": [
    "import re\n",
    "import sys\n",
    "import numpy as np\n",
    "import pandas as pd\n",
    "from nltk.corpus import stopwords\n",
    "stopwords_sp = stopwords.words('spanish')\n",
    "import gensim.models.word2vec as w2v"
   ]
  },
  {
   "cell_type": "markdown",
   "metadata": {},
   "source": [
    "# Leer Archivo\n"
   ]
  },
  {
   "cell_type": "code",
   "execution_count": 2,
   "metadata": {},
   "outputs": [
    {
     "data": {
      "text/html": [
       "<div>\n",
       "<style scoped>\n",
       "    .dataframe tbody tr th:only-of-type {\n",
       "        vertical-align: middle;\n",
       "    }\n",
       "\n",
       "    .dataframe tbody tr th {\n",
       "        vertical-align: top;\n",
       "    }\n",
       "\n",
       "    .dataframe thead th {\n",
       "        text-align: right;\n",
       "    }\n",
       "</style>\n",
       "<table border=\"1\" class=\"dataframe\">\n",
       "  <thead>\n",
       "    <tr style=\"text-align: right;\">\n",
       "      <th></th>\n",
       "      <th>Locución</th>\n",
       "    </tr>\n",
       "  </thead>\n",
       "  <tbody>\n",
       "    <tr>\n",
       "      <th>0</th>\n",
       "      <td>Francamente no</td>\n",
       "    </tr>\n",
       "    <tr>\n",
       "      <th>1</th>\n",
       "      <td>Lo del canadiense. Por favor, como que vosotro...</td>\n",
       "    </tr>\n",
       "    <tr>\n",
       "      <th>2</th>\n",
       "      <td>Tienes razón. A lo mejor así te liberas de tu ...</td>\n",
       "    </tr>\n",
       "    <tr>\n",
       "      <th>3</th>\n",
       "      <td>Pues, tú sabrás</td>\n",
       "    </tr>\n",
       "    <tr>\n",
       "      <th>4</th>\n",
       "      <td>Para mí que fue Krieger</td>\n",
       "    </tr>\n",
       "    <tr>\n",
       "      <th>...</th>\n",
       "      <td>...</td>\n",
       "    </tr>\n",
       "    <tr>\n",
       "      <th>954</th>\n",
       "      <td>Yo qué sé, digo yo qué será</td>\n",
       "    </tr>\n",
       "    <tr>\n",
       "      <th>955</th>\n",
       "      <td>Lo han entendido mal. Las joyas que venden en ...</td>\n",
       "    </tr>\n",
       "    <tr>\n",
       "      <th>956</th>\n",
       "      <td>Oooo... Me llamo Vivian</td>\n",
       "    </tr>\n",
       "    <tr>\n",
       "      <th>957</th>\n",
       "      <td>¿De dónde? ¿Del coño de tu madre?</td>\n",
       "    </tr>\n",
       "    <tr>\n",
       "      <th>958</th>\n",
       "      <td>Ah, sí esto podría funcionar</td>\n",
       "    </tr>\n",
       "  </tbody>\n",
       "</table>\n",
       "<p>959 rows × 1 columns</p>\n",
       "</div>"
      ],
      "text/plain": [
       "                                              Locución\n",
       "0                                       Francamente no\n",
       "1    Lo del canadiense. Por favor, como que vosotro...\n",
       "2    Tienes razón. A lo mejor así te liberas de tu ...\n",
       "3                                      Pues, tú sabrás\n",
       "4                              Para mí que fue Krieger\n",
       "..                                                 ...\n",
       "954                        Yo qué sé, digo yo qué será\n",
       "955  Lo han entendido mal. Las joyas que venden en ...\n",
       "956                            Oooo... Me llamo Vivian\n",
       "957                  ¿De dónde? ¿Del coño de tu madre?\n",
       "958                       Ah, sí esto podría funcionar\n",
       "\n",
       "[959 rows x 1 columns]"
      ]
     },
     "execution_count": 2,
     "metadata": {},
     "output_type": "execute_result"
    }
   ],
   "source": [
    "texto = pd.read_csv(\"C:/Users/practicas/Downloads/dialogos.csv\")\n",
    "texto"
   ]
  },
  {
   "cell_type": "markdown",
   "metadata": {},
   "source": [
    "# Procesamiento Texto "
   ]
  },
  {
   "cell_type": "code",
   "execution_count": 3,
   "metadata": {},
   "outputs": [
    {
     "data": {
      "text/html": [
       "<div>\n",
       "<style scoped>\n",
       "    .dataframe tbody tr th:only-of-type {\n",
       "        vertical-align: middle;\n",
       "    }\n",
       "\n",
       "    .dataframe tbody tr th {\n",
       "        vertical-align: top;\n",
       "    }\n",
       "\n",
       "    .dataframe thead th {\n",
       "        text-align: right;\n",
       "    }\n",
       "</style>\n",
       "<table border=\"1\" class=\"dataframe\">\n",
       "  <thead>\n",
       "    <tr style=\"text-align: right;\">\n",
       "      <th></th>\n",
       "      <th>Locución</th>\n",
       "      <th>procesado</th>\n",
       "    </tr>\n",
       "  </thead>\n",
       "  <tbody>\n",
       "    <tr>\n",
       "      <th>0</th>\n",
       "      <td>Francamente no</td>\n",
       "      <td>[francamente]</td>\n",
       "    </tr>\n",
       "    <tr>\n",
       "      <th>1</th>\n",
       "      <td>Lo del canadiense. Por favor, como que vosotro...</td>\n",
       "      <td>[canadiense, favor, tiraríais, allí, si, pudie...</td>\n",
       "    </tr>\n",
       "    <tr>\n",
       "      <th>2</th>\n",
       "      <td>Tienes razón. A lo mejor así te liberas de tu ...</td>\n",
       "      <td>[razón, mejor, así, liberas, energía, nagativa]</td>\n",
       "    </tr>\n",
       "    <tr>\n",
       "      <th>3</th>\n",
       "      <td>Pues, tú sabrás</td>\n",
       "      <td>[pues, sabrás]</td>\n",
       "    </tr>\n",
       "    <tr>\n",
       "      <th>4</th>\n",
       "      <td>Para mí que fue Krieger</td>\n",
       "      <td>[krieger]</td>\n",
       "    </tr>\n",
       "  </tbody>\n",
       "</table>\n",
       "</div>"
      ],
      "text/plain": [
       "                                            Locución  \\\n",
       "0                                     Francamente no   \n",
       "1  Lo del canadiense. Por favor, como que vosotro...   \n",
       "2  Tienes razón. A lo mejor así te liberas de tu ...   \n",
       "3                                    Pues, tú sabrás   \n",
       "4                            Para mí que fue Krieger   \n",
       "\n",
       "                                           procesado  \n",
       "0                                      [francamente]  \n",
       "1  [canadiense, favor, tiraríais, allí, si, pudie...  \n",
       "2    [razón, mejor, así, liberas, energía, nagativa]  \n",
       "3                                     [pues, sabrás]  \n",
       "4                                          [krieger]  "
      ]
     },
     "execution_count": 3,
     "metadata": {},
     "output_type": "execute_result"
    }
   ],
   "source": [
    "def pre_procesado(texto):\n",
    "    texto = texto.lower()\n",
    "    texto = re.sub(r\"[\\W\\d_]+\", \" \", texto)\n",
    "    texto = \" \".join([palabra for palabra in texto.split() if palabra not in stopwords_sp])\n",
    "    return texto.split()\n",
    "\n",
    "texto['procesado'] = texto['Locución'].apply(lambda texto: pre_procesado(texto))\n",
    "texto.head()"
   ]
  },
  {
   "cell_type": "markdown",
   "metadata": {},
   "source": [
    "# Modelo"
   ]
  },
  {
   "cell_type": "code",
   "execution_count": 4,
   "metadata": {},
   "outputs": [
    {
     "name": "stdout",
     "output_type": "stream",
     "text": [
      "Wall time: 126 ms\n"
     ]
    }
   ],
   "source": [
    "%%time\n",
    "modelo = w2v.Word2Vec(texto['procesado'].values,\n",
    "                         sg=1,        # Skip_gram o Bolsa palabras\n",
    "                         seed=9,      # Semilla\n",
    "                         size=50,     # Numero dimensiones \n",
    "                         min_count=4, # Numero de minimo que aparece cada palabra\n",
    "                         window=12)   # ventana\n"
   ]
  },
  {
   "cell_type": "code",
   "execution_count": 5,
   "metadata": {},
   "outputs": [
    {
     "data": {
      "text/plain": [
       "{'favor': <gensim.models.keyedvectors.Vocab at 0x1cabf651700>,\n",
       " 'allí': <gensim.models.keyedvectors.Vocab at 0x1cabf6517c0>,\n",
       " 'si': <gensim.models.keyedvectors.Vocab at 0x1cabf651a00>,\n",
       " 'mejor': <gensim.models.keyedvectors.Vocab at 0x1cabf651970>,\n",
       " 'así': <gensim.models.keyedvectors.Vocab at 0x1cabf651bb0>,\n",
       " 'pues': <gensim.models.keyedvectors.Vocab at 0x1cabf651af0>,\n",
       " 'krieger': <gensim.models.keyedvectors.Vocab at 0x1cabf651b80>,\n",
       " 'bebé': <gensim.models.keyedvectors.Vocab at 0x1cabf651be0>,\n",
       " 'lando': <gensim.models.keyedvectors.Vocab at 0x1cabf651a90>,\n",
       " 'serio': <gensim.models.keyedvectors.Vocab at 0x1cabf651df0>,\n",
       " 'randy': <gensim.models.keyedvectors.Vocab at 0x1cabf651dc0>,\n",
       " 'creo': <gensim.models.keyedvectors.Vocab at 0x1cabf651d00>,\n",
       " 'deporte': <gensim.models.keyedvectors.Vocab at 0x1cabf651ca0>,\n",
       " 'daño': <gensim.models.keyedvectors.Vocab at 0x1cabf651c70>,\n",
       " 'cerebro': <gensim.models.keyedvectors.Vocab at 0x1cabf651e80>,\n",
       " 'esperad': <gensim.models.keyedvectors.Vocab at 0x1cabf651e20>,\n",
       " 'archer': <gensim.models.keyedvectors.Vocab at 0x1cabf651fa0>,\n",
       " 'usted': <gensim.models.keyedvectors.Vocab at 0x1cabf651f40>,\n",
       " 'dios': <gensim.models.keyedvectors.Vocab at 0x1cabf651220>,\n",
       " 'claro': <gensim.models.keyedvectors.Vocab at 0x1caba2cf910>,\n",
       " 'niña': <gensim.models.keyedvectors.Vocab at 0x1caba2cf3d0>,\n",
       " 'decir': <gensim.models.keyedvectors.Vocab at 0x1cabf6db070>,\n",
       " 'dónde': <gensim.models.keyedvectors.Vocab at 0x1cabf6db0d0>,\n",
       " 'coño': <gensim.models.keyedvectors.Vocab at 0x1cabf6db130>,\n",
       " 'mano': <gensim.models.keyedvectors.Vocab at 0x1cabf6db190>,\n",
       " 'venga': <gensim.models.keyedvectors.Vocab at 0x1cabf6db1f0>,\n",
       " 'jodas': <gensim.models.keyedvectors.Vocab at 0x1cabf6db250>,\n",
       " 'cyril': <gensim.models.keyedvectors.Vocab at 0x1cabf6db2b0>,\n",
       " 'haces': <gensim.models.keyedvectors.Vocab at 0x1cabf6db310>,\n",
       " 'dice': <gensim.models.keyedvectors.Vocab at 0x1cabf6db370>,\n",
       " 'perdón': <gensim.models.keyedvectors.Vocab at 0x1cabf6db3d0>,\n",
       " 'voy': <gensim.models.keyedvectors.Vocab at 0x1cabf6db430>,\n",
       " 'deberíamos': <gensim.models.keyedvectors.Vocab at 0x1cabf6db490>,\n",
       " 'tener': <gensim.models.keyedvectors.Vocab at 0x1cabf6db4f0>,\n",
       " 'diez': <gensim.models.keyedvectors.Vocab at 0x1cabf6db550>,\n",
       " 'sarcasmobol': <gensim.models.keyedvectors.Vocab at 0x1cabf6db5b0>,\n",
       " 'jugar': <gensim.models.keyedvectors.Vocab at 0x1cabf6db610>,\n",
       " 'ah': <gensim.models.keyedvectors.Vocab at 0x1cabf6db670>,\n",
       " 'mierda': <gensim.models.keyedvectors.Vocab at 0x1cabf6db6d0>,\n",
       " 'bien': <gensim.models.keyedvectors.Vocab at 0x1cabf6db730>,\n",
       " 'ustedes': <gensim.models.keyedvectors.Vocab at 0x1cabf6db790>,\n",
       " 'juego': <gensim.models.keyedvectors.Vocab at 0x1cabf6db7f0>,\n",
       " 'genial': <gensim.models.keyedvectors.Vocab at 0x1cabf6db850>,\n",
       " 'coronel': <gensim.models.keyedvectors.Vocab at 0x1cabf6db8b0>,\n",
       " 'importa': <gensim.models.keyedvectors.Vocab at 0x1cabf6db910>,\n",
       " 'oro': <gensim.models.keyedvectors.Vocab at 0x1cabf6db970>,\n",
       " 'quilates': <gensim.models.keyedvectors.Vocab at 0x1cabf6db9d0>,\n",
       " 'diamantes': <gensim.models.keyedvectors.Vocab at 0x1cabf6dba30>,\n",
       " 'entonces': <gensim.models.keyedvectors.Vocab at 0x1cabf6dba90>,\n",
       " 'plan': <gensim.models.keyedvectors.Vocab at 0x1cabf6dbaf0>,\n",
       " 'conway': <gensim.models.keyedvectors.Vocab at 0x1cabf6dbb50>,\n",
       " 'parece': <gensim.models.keyedvectors.Vocab at 0x1cabf6dbbb0>,\n",
       " 'globo': <gensim.models.keyedvectors.Vocab at 0x1cabf6dbc10>,\n",
       " 'entrenador': <gensim.models.keyedvectors.Vocab at 0x1cabf6dbc70>,\n",
       " 'marsh': <gensim.models.keyedvectors.Vocab at 0x1cabf6dbcd0>,\n",
       " 'ahora': <gensim.models.keyedvectors.Vocab at 0x1cabf6dbd30>,\n",
       " 'hago': <gensim.models.keyedvectors.Vocab at 0x1cabf6dbd90>,\n",
       " 'madre': <gensim.models.keyedvectors.Vocab at 0x1cabf6dbdf0>,\n",
       " 'ser': <gensim.models.keyedvectors.Vocab at 0x1cabf6dbe50>,\n",
       " 'sarcástico': <gensim.models.keyedvectors.Vocab at 0x1cabf6dbeb0>,\n",
       " 'armas': <gensim.models.keyedvectors.Vocab at 0x1cabf6dbf10>,\n",
       " 'oh': <gensim.models.keyedvectors.Vocab at 0x1cabf6dbf70>,\n",
       " 'siento': <gensim.models.keyedvectors.Vocab at 0x1cabf6dbfd0>,\n",
       " 'chicos': <gensim.models.keyedvectors.Vocab at 0x1cabf6dc070>,\n",
       " 'papá': <gensim.models.keyedvectors.Vocab at 0x1cabf6dc0d0>,\n",
       " 'broncos': <gensim.models.keyedvectors.Vocab at 0x1cabf6dc130>,\n",
       " 'tiempo': <gensim.models.keyedvectors.Vocab at 0x1cabf6dc190>,\n",
       " 'oye': <gensim.models.keyedvectors.Vocab at 0x1cabf6dc1f0>,\n",
       " 'va': <gensim.models.keyedvectors.Vocab at 0x1cabf6dc250>,\n",
       " 'crees': <gensim.models.keyedvectors.Vocab at 0x1cabf6dc2b0>,\n",
       " 'dicho': <gensim.models.keyedvectors.Vocab at 0x1cabf6dc310>,\n",
       " 'cómo': <gensim.models.keyedvectors.Vocab at 0x1cabf6dc370>,\n",
       " 'puede': <gensim.models.keyedvectors.Vocab at 0x1cabf6dc3d0>,\n",
       " 'espera': <gensim.models.keyedvectors.Vocab at 0x1cabf6dc430>,\n",
       " 'eh': <gensim.models.keyedvectors.Vocab at 0x1cabf6dc490>,\n",
       " 'puedo': <gensim.models.keyedvectors.Vocab at 0x1cabf6dc4f0>,\n",
       " 'quieren': <gensim.models.keyedvectors.Vocab at 0x1cabf6dc550>,\n",
       " 'preocupes': <gensim.models.keyedvectors.Vocab at 0x1cabf6dc5b0>,\n",
       " 'haber': <gensim.models.keyedvectors.Vocab at 0x1cabf6dc610>,\n",
       " 'lugar': <gensim.models.keyedvectors.Vocab at 0x1cabf6dc670>,\n",
       " 'hija': <gensim.models.keyedvectors.Vocab at 0x1cabf6dc6d0>,\n",
       " 'aquí': <gensim.models.keyedvectors.Vocab at 0x1cabf6dc730>,\n",
       " 'misión': <gensim.models.keyedvectors.Vocab at 0x1cabf6dc790>,\n",
       " 'lana': <gensim.models.keyedvectors.Vocab at 0x1cabf6dc7f0>,\n",
       " 'mira': <gensim.models.keyedvectors.Vocab at 0x1cabf6dc850>,\n",
       " 'solo': <gensim.models.keyedvectors.Vocab at 0x1cabf6dc8b0>,\n",
       " 'ayuda': <gensim.models.keyedvectors.Vocab at 0x1cabf6dc910>,\n",
       " 'slater': <gensim.models.keyedvectors.Vocab at 0x1cabf6dc970>,\n",
       " 'da': <gensim.models.keyedvectors.Vocab at 0x1cabf6dc9d0>,\n",
       " 'literalmente': <gensim.models.keyedvectors.Vocab at 0x1cabf6dca30>,\n",
       " 'ver': <gensim.models.keyedvectors.Vocab at 0x1cabf6dca90>,\n",
       " 'sarcasmo': <gensim.models.keyedvectors.Vocab at 0x1cabf6dcac0>,\n",
       " 'buscar': <gensim.models.keyedvectors.Vocab at 0x1cabf6dcb20>,\n",
       " 'tres': <gensim.models.keyedvectors.Vocab at 0x1cabf6dcb80>,\n",
       " 'dólares': <gensim.models.keyedvectors.Vocab at 0x1cabf6dcbe0>,\n",
       " 'haciendo': <gensim.models.keyedvectors.Vocab at 0x1cabf6dcc40>,\n",
       " 'buen': <gensim.models.keyedvectors.Vocab at 0x1cabf6dcca0>,\n",
       " 'hace': <gensim.models.keyedvectors.Vocab at 0x1cabf6dcd00>,\n",
       " 'compasión': <gensim.models.keyedvectors.Vocab at 0x1cabf6dcd60>,\n",
       " 'campo': <gensim.models.keyedvectors.Vocab at 0x1cabf6dcdc0>,\n",
       " 'miren': <gensim.models.keyedvectors.Vocab at 0x1cabf6dce20>,\n",
       " 'corbata': <gensim.models.keyedvectors.Vocab at 0x1cabf6dce80>,\n",
       " 'hermosa': <gensim.models.keyedvectors.Vocab at 0x1cabf6dcee0>,\n",
       " 'stan': <gensim.models.keyedvectors.Vocab at 0x1cabf6dcf40>,\n",
       " 'muchas': <gensim.models.keyedvectors.Vocab at 0x1cabf6dcfa0>,\n",
       " 'acerca': <gensim.models.keyedvectors.Vocab at 0x1cabf6de040>,\n",
       " 'vas': <gensim.models.keyedvectors.Vocab at 0x1cabf6de0a0>,\n",
       " 'mal': <gensim.models.keyedvectors.Vocab at 0x1cabf6de100>,\n",
       " 'equipo': <gensim.models.keyedvectors.Vocab at 0x1cabf6de160>,\n",
       " 'tan': <gensim.models.keyedvectors.Vocab at 0x1cabf6de1c0>,\n",
       " 'idiotas': <gensim.models.keyedvectors.Vocab at 0x1cabf6de220>,\n",
       " 'hijos': <gensim.models.keyedvectors.Vocab at 0x1cabf6de280>,\n",
       " 'puta': <gensim.models.keyedvectors.Vocab at 0x1cabf6de2e0>,\n",
       " 'toda': <gensim.models.keyedvectors.Vocab at 0x1cabf6de340>,\n",
       " 'todas': <gensim.models.keyedvectors.Vocab at 0x1cabf6de3a0>,\n",
       " 'negro': <gensim.models.keyedvectors.Vocab at 0x1cabf6de400>,\n",
       " 'bueno': <gensim.models.keyedvectors.Vocab at 0x1cabf6de460>,\n",
       " 'gracias': <gensim.models.keyedvectors.Vocab at 0x1cabf6de4c0>,\n",
       " 'disco': <gensim.models.keyedvectors.Vocab at 0x1cabf6de520>,\n",
       " 'van': <gensim.models.keyedvectors.Vocab at 0x1cabf6de580>,\n",
       " 'podemos': <gensim.models.keyedvectors.Vocab at 0x1cabf6de5e0>,\n",
       " 'hacer': <gensim.models.keyedvectors.Vocab at 0x1cabf6de640>,\n",
       " 'ido': <gensim.models.keyedvectors.Vocab at 0x1cabf6de6a0>,\n",
       " 'buena': <gensim.models.keyedvectors.Vocab at 0x1cabf6de700>,\n",
       " 'recuerdo': <gensim.models.keyedvectors.Vocab at 0x1cabf6de760>,\n",
       " 'vez': <gensim.models.keyedvectors.Vocab at 0x1cabf6de7c0>,\n",
       " 'visto': <gensim.models.keyedvectors.Vocab at 0x1cabf6de820>,\n",
       " 'cierto': <gensim.models.keyedvectors.Vocab at 0x1cabf6de880>,\n",
       " 'eric': <gensim.models.keyedvectors.Vocab at 0x1cabf6de8e0>,\n",
       " 'debería': <gensim.models.keyedvectors.Vocab at 0x1cabf6de940>,\n",
       " 'malo': <gensim.models.keyedvectors.Vocab at 0x1cabf6de9a0>,\n",
       " 'idiota': <gensim.models.keyedvectors.Vocab at 0x1cabf6dea00>,\n",
       " 'verdad': <gensim.models.keyedvectors.Vocab at 0x1cabf6dea60>,\n",
       " 'seguro': <gensim.models.keyedvectors.Vocab at 0x1cabf6deac0>,\n",
       " 'iba': <gensim.models.keyedvectors.Vocab at 0x1cabf6deb20>,\n",
       " 'cremoso': <gensim.models.keyedvectors.Vocab at 0x1cabf6deb80>,\n",
       " 'jugadores': <gensim.models.keyedvectors.Vocab at 0x1cabf6debe0>,\n",
       " 'mundo': <gensim.models.keyedvectors.Vocab at 0x1cabf6dec40>,\n",
       " 'luego': <gensim.models.keyedvectors.Vocab at 0x1cabf6deca0>,\n",
       " 'victoria': <gensim.models.keyedvectors.Vocab at 0x1cabf6ded00>,\n",
       " 'dos': <gensim.models.keyedvectors.Vocab at 0x1cabf6ded60>,\n",
       " 'hola': <gensim.models.keyedvectors.Vocab at 0x1cabf6dedc0>,\n",
       " 'dijo': <gensim.models.keyedvectors.Vocab at 0x1cabf6dee20>,\n",
       " 'día': <gensim.models.keyedvectors.Vocab at 0x1cabf6dee80>,\n",
       " 'vale': <gensim.models.keyedvectors.Vocab at 0x1cabf6deee0>,\n",
       " 'digo': <gensim.models.keyedvectors.Vocab at 0x1cabf6def40>,\n",
       " 'creía': <gensim.models.keyedvectors.Vocab at 0x1cabf6defa0>,\n",
       " 'seis': <gensim.models.keyedvectors.Vocab at 0x1cabf6df040>,\n",
       " 'mil': <gensim.models.keyedvectors.Vocab at 0x1cabf6df0a0>,\n",
       " 'baruk': <gensim.models.keyedvectors.Vocab at 0x1cabf6df100>,\n",
       " 'espía': <gensim.models.keyedvectors.Vocab at 0x1cabf6df160>,\n",
       " 'inteligencia': <gensim.models.keyedvectors.Vocab at 0x1cabf6df1c0>,\n",
       " 'abuelo': <gensim.models.keyedvectors.Vocab at 0x1cabf6df220>,\n",
       " 'futbol': <gensim.models.keyedvectors.Vocab at 0x1cabf6df280>,\n",
       " 'padre': <gensim.models.keyedvectors.Vocab at 0x1cabf6df2e0>,\n",
       " 'niño': <gensim.models.keyedvectors.Vocab at 0x1cabf6df340>,\n",
       " 'fin': <gensim.models.keyedvectors.Vocab at 0x1cabf6df3a0>,\n",
       " 'joyas': <gensim.models.keyedvectors.Vocab at 0x1cabf6df400>,\n",
       " 'pueda': <gensim.models.keyedvectors.Vocab at 0x1cabf6df460>,\n",
       " 'cia': <gensim.models.keyedvectors.Vocab at 0x1cabf6df4c0>,\n",
       " 'siempre': <gensim.models.keyedvectors.Vocab at 0x1cabf6df520>,\n",
       " 'villy': <gensim.models.keyedvectors.Vocab at 0x1cabf6df580>,\n",
       " 'leche': <gensim.models.keyedvectors.Vocab at 0x1cabf6df5e0>,\n",
       " 'gente': <gensim.models.keyedvectors.Vocab at 0x1cabf6df640>,\n",
       " 'saber': <gensim.models.keyedvectors.Vocab at 0x1cabf6df6a0>,\n",
       " 'país': <gensim.models.keyedvectors.Vocab at 0x1cabf6df700>,\n",
       " 'hijo': <gensim.models.keyedvectors.Vocab at 0x1cabf6df760>,\n",
       " 'trece': <gensim.models.keyedvectors.Vocab at 0x1cabf6df7c0>,\n",
       " 'pistola': <gensim.models.keyedvectors.Vocab at 0x1cabf6df820>,\n",
       " 'momento': <gensim.models.keyedvectors.Vocab at 0x1cabf6df880>,\n",
       " 'cuánto': <gensim.models.keyedvectors.Vocab at 0x1cabf6df8e0>,\n",
       " 'hecho': <gensim.models.keyedvectors.Vocab at 0x1cabf6df940>,\n",
       " 'pasado': <gensim.models.keyedvectors.Vocab at 0x1cabf6df9a0>,\n",
       " 'jugo': <gensim.models.keyedvectors.Vocab at 0x1cabf6dfa00>,\n",
       " 'butters': <gensim.models.keyedvectors.Vocab at 0x1cabf6dfa60>,\n",
       " 'beber': <gensim.models.keyedvectors.Vocab at 0x1cabf6dfac0>,\n",
       " 'mientras': <gensim.models.keyedvectors.Vocab at 0x1cabf6dfb20>,\n",
       " 'casa': <gensim.models.keyedvectors.Vocab at 0x1cabf6dfb80>,\n",
       " 'señor': <gensim.models.keyedvectors.Vocab at 0x1cabf6dfbe0>,\n",
       " 'sé': <gensim.models.keyedvectors.Vocab at 0x1cabf6dfc40>,\n",
       " 'dices': <gensim.models.keyedvectors.Vocab at 0x1cabf6dfca0>,\n",
       " 'quieres': <gensim.models.keyedvectors.Vocab at 0x1cabf6dfd00>,\n",
       " 'quiero': <gensim.models.keyedvectors.Vocab at 0x1cabf6dfd60>,\n",
       " 'vamos': <gensim.models.keyedvectors.Vocab at 0x1cabf6dfdc0>,\n",
       " 'niños': <gensim.models.keyedvectors.Vocab at 0x1cabf6dfe20>,\n",
       " 'espalda': <gensim.models.keyedvectors.Vocab at 0x1cabf6dfe80>,\n",
       " 'venganza': <gensim.models.keyedvectors.Vocab at 0x1cabf6dfee0>,\n",
       " 'jackson': <gensim.models.keyedvectors.Vocab at 0x1cabf6dff40>,\n",
       " 'cree': <gensim.models.keyedvectors.Vocab at 0x1cabf6dffa0>,\n",
       " 'nfl': <gensim.models.keyedvectors.Vocab at 0x1cabf6e1040>,\n",
       " 'unas': <gensim.models.keyedvectors.Vocab at 0x1cabf6e10a0>,\n",
       " 'veces': <gensim.models.keyedvectors.Vocab at 0x1cabf6e1100>,\n",
       " 'aj': <gensim.models.keyedvectors.Vocab at 0x1cabf6e1160>,\n",
       " 'pasa': <gensim.models.keyedvectors.Vocab at 0x1cabf6e11c0>,\n",
       " 'acuerdo': <gensim.models.keyedvectors.Vocab at 0x1cabf6e1220>,\n",
       " 'noche': <gensim.models.keyedvectors.Vocab at 0x1cabf6e1280>,\n",
       " 'todavía': <gensim.models.keyedvectors.Vocab at 0x1cabf6e12e0>,\n",
       " 'denver': <gensim.models.keyedvectors.Vocab at 0x1cabf6e1340>,\n",
       " 'regalo': <gensim.models.keyedvectors.Vocab at 0x1cabf6e13a0>,\n",
       " 'dinero': <gensim.models.keyedvectors.Vocab at 0x1cabf6e1400>,\n",
       " 'gusta': <gensim.models.keyedvectors.Vocab at 0x1cabf6e1460>,\n",
       " 'nunca': <gensim.models.keyedvectors.Vocab at 0x1cabf6e14c0>,\n",
       " 'sido': <gensim.models.keyedvectors.Vocab at 0x1cabf6e1520>,\n",
       " 'cuesta': <gensim.models.keyedvectors.Vocab at 0x1cabf6e1580>,\n",
       " 'piso': <gensim.models.keyedvectors.Vocab at 0x1cabf6e15e0>,\n",
       " 'cero': <gensim.models.keyedvectors.Vocab at 0x1cabf6e1640>,\n",
       " 'supongo': <gensim.models.keyedvectors.Vocab at 0x1cabf6e16a0>,\n",
       " 'poker': <gensim.models.keyedvectors.Vocab at 0x1cabf6e1700>,\n",
       " 'violencia': <gensim.models.keyedvectors.Vocab at 0x1cabf6e1760>,\n",
       " 'necesito': <gensim.models.keyedvectors.Vocab at 0x1cabf6e17c0>,\n",
       " 'mañana': <gensim.models.keyedvectors.Vocab at 0x1cabf6e1820>,\n",
       " 'siquiera': <gensim.models.keyedvectors.Vocab at 0x1cabf6e1880>,\n",
       " 'topo': <gensim.models.keyedvectors.Vocab at 0x1cabf6e18e0>,\n",
       " 'dentro': <gensim.models.keyedvectors.Vocab at 0x1cabf6e1940>,\n",
       " 'idea': <gensim.models.keyedvectors.Vocab at 0x1cabf6e19a0>,\n",
       " 'dije': <gensim.models.keyedvectors.Vocab at 0x1cabf6e1a00>,\n",
       " 'cosas': <gensim.models.keyedvectors.Vocab at 0x1cabf6e1a60>,\n",
       " 'alguien': <gensim.models.keyedvectors.Vocab at 0x1cabf6e1ac0>,\n",
       " 'hablando': <gensim.models.keyedvectors.Vocab at 0x1cabf6e1b20>,\n",
       " 'cago': <gensim.models.keyedvectors.Vocab at 0x1cabf6e1b80>,\n",
       " 'quería': <gensim.models.keyedvectors.Vocab at 0x1cabf6e1be0>,\n",
       " 'joder': <gensim.models.keyedvectors.Vocab at 0x1cabf6e1c40>,\n",
       " 'menos': <gensim.models.keyedvectors.Vocab at 0x1cabf6e1ca0>,\n",
       " 'hoy': <gensim.models.keyedvectors.Vocab at 0x1cabf6e1d00>,\n",
       " 'amable': <gensim.models.keyedvectors.Vocab at 0x1cabf6e1d60>,\n",
       " 'sentimientos': <gensim.models.keyedvectors.Vocab at 0x1cabf6e1dc0>,\n",
       " 'mismo': <gensim.models.keyedvectors.Vocab at 0x1cabf6e1e20>,\n",
       " 'canguro': <gensim.models.keyedvectors.Vocab at 0x1cabf6e1e80>,\n",
       " 'hablar': <gensim.models.keyedvectors.Vocab at 0x1cabf6e1ee0>,\n",
       " 'tal': <gensim.models.keyedvectors.Vocab at 0x1cabf6e1f40>,\n",
       " 'caso': <gensim.models.keyedvectors.Vocab at 0x1cabf6e1fa0>,\n",
       " 'cállate': <gensim.models.keyedvectors.Vocab at 0x1cabf6e2040>,\n",
       " 'igual': <gensim.models.keyedvectors.Vocab at 0x1cabf6e20a0>,\n",
       " 'sterling': <gensim.models.keyedvectors.Vocab at 0x1cabf6e2100>,\n",
       " 'seguridad': <gensim.models.keyedvectors.Vocab at 0x1cabf6e2160>,\n",
       " 'quién': <gensim.models.keyedvectors.Vocab at 0x1cabf6e21c0>,\n",
       " 'aunque': <gensim.models.keyedvectors.Vocab at 0x1cabf6e2220>,\n",
       " 'negocio': <gensim.models.keyedvectors.Vocab at 0x1cabf6e2280>,\n",
       " 'ridículo': <gensim.models.keyedvectors.Vocab at 0x1cabf6e22e0>,\n",
       " 'argentina': <gensim.models.keyedvectors.Vocab at 0x1cabf6e2340>,\n",
       " 'cañero': <gensim.models.keyedvectors.Vocab at 0x1cabf6e23a0>,\n",
       " 'jugando': <gensim.models.keyedvectors.Vocab at 0x1cabf6e2400>,\n",
       " 'sabía': <gensim.models.keyedvectors.Vocab at 0x1cabf6e2460>,\n",
       " 'cremosidad': <gensim.models.keyedvectors.Vocab at 0x1cabf6e24c0>,\n",
       " 'ley': <gensim.models.keyedvectors.Vocab at 0x1cabf6e2520>,\n",
       " 'programa': <gensim.models.keyedvectors.Vocab at 0x1cabf6e2580>,\n",
       " 'amigo': <gensim.models.keyedvectors.Vocab at 0x1cabf6e25e0>,\n",
       " 'aretes': <gensim.models.keyedvectors.Vocab at 0x1cabf6e2640>,\n",
       " 'faux': <gensim.models.keyedvectors.Vocab at 0x1cabf6e26a0>,\n",
       " 'cuatorce': <gensim.models.keyedvectors.Vocab at 0x1cabf6e2700>,\n",
       " 'capas': <gensim.models.keyedvectors.Vocab at 0x1cabf6e2760>,\n",
       " 'ves': <gensim.models.keyedvectors.Vocab at 0x1cabf6e27c0>}"
      ]
     },
     "execution_count": 5,
     "metadata": {},
     "output_type": "execute_result"
    }
   ],
   "source": [
    "modelo.wv.vocab"
   ]
  },
  {
   "cell_type": "code",
   "execution_count": 6,
   "metadata": {},
   "outputs": [
    {
     "data": {
      "text/plain": [
       "[('faux', 0.6125144362449646),\n",
       " ('quilates', 0.6018350124359131),\n",
       " ('veces', 0.5764104723930359),\n",
       " ('visto', 0.5731015801429749),\n",
       " ('juego', 0.5709453821182251),\n",
       " ('aretes', 0.5407878160476685),\n",
       " ('futbol', 0.5066079497337341),\n",
       " ('globo', 0.5032805800437927),\n",
       " ('corbata', 0.5014967918395996),\n",
       " ('jugadores', 0.4581395387649536)]"
      ]
     },
     "execution_count": 6,
     "metadata": {},
     "output_type": "execute_result"
    }
   ],
   "source": [
    "modelo.wv.most_similar(\"cuatorce\")"
   ]
  },
  {
   "cell_type": "code",
   "execution_count": 7,
   "metadata": {},
   "outputs": [
    {
     "data": {
      "text/plain": [
       "[('papá', 0.37386929988861084),\n",
       " ('stan', 0.35318678617477417),\n",
       " ('pues', 0.3354177474975586),\n",
       " ('amable', 0.3336073160171509),\n",
       " ('toda', 0.3319058120250702),\n",
       " ('programa', 0.3281063437461853),\n",
       " ('cuesta', 0.3120603859424591),\n",
       " ('entrenador', 0.31166791915893555),\n",
       " ('tan', 0.30922186374664307),\n",
       " ('claro', 0.3073864281177521)]"
      ]
     },
     "execution_count": 7,
     "metadata": {},
     "output_type": "execute_result"
    }
   ],
   "source": [
    "modelo.wv.most_similar(\"mejor\")"
   ]
  },
  {
   "cell_type": "code",
   "execution_count": 8,
   "metadata": {},
   "outputs": [
    {
     "data": {
      "text/plain": [
       "[('jugando', 0.3788006901741028),\n",
       " ('vas', 0.3514792025089264),\n",
       " ('violencia', 0.34980642795562744),\n",
       " ('hoy', 0.335712730884552),\n",
       " ('negro', 0.30175086855888367),\n",
       " ('creo', 0.3015078604221344),\n",
       " ('gracias', 0.30117395520210266),\n",
       " ('ustedes', 0.29348623752593994),\n",
       " ('mientras', 0.29227378964424133),\n",
       " ('allí', 0.2877221703529358)]"
      ]
     },
     "execution_count": 8,
     "metadata": {},
     "output_type": "execute_result"
    }
   ],
   "source": [
    "modelo.wv.most_similar(\"ley\")"
   ]
  },
  {
   "cell_type": "code",
   "execution_count": 9,
   "metadata": {},
   "outputs": [
    {
     "data": {
      "text/plain": [
       "[('juego', 0.582168698310852),\n",
       " ('globo', 0.5718696713447571),\n",
       " ('visto', 0.5464701652526855),\n",
       " ('randy', 0.5181059837341309),\n",
       " ('trece', 0.5090720653533936),\n",
       " ('cuatorce', 0.5066079497337341),\n",
       " ('señor', 0.49678635597229004),\n",
       " ('denver', 0.49021780490875244),\n",
       " ('faux', 0.4892917275428772),\n",
       " ('sé', 0.47350719571113586)]"
      ]
     },
     "execution_count": 9,
     "metadata": {},
     "output_type": "execute_result"
    }
   ],
   "source": [
    "modelo.wv.most_similar(\"futbol\")"
   ]
  },
  {
   "cell_type": "code",
   "execution_count": 11,
   "metadata": {},
   "outputs": [
    {
     "data": {
      "text/plain": [
       "[('creo', 0.45964759588241577),\n",
       " ('niños', 0.41369158029556274),\n",
       " ('faux', 0.4002017378807068),\n",
       " ('oh', 0.38681560754776),\n",
       " ('favor', 0.3857085108757019),\n",
       " ('hola', 0.37848764657974243),\n",
       " ('acerca', 0.37536555528640747),\n",
       " ('mientras', 0.36076340079307556),\n",
       " ('menos', 0.3484331965446472),\n",
       " ('seguridad', 0.3391709327697754)]"
      ]
     },
     "execution_count": 11,
     "metadata": {},
     "output_type": "execute_result"
    }
   ],
   "source": [
    "modelo.wv.most_similar(\"gracias\")"
   ]
  },
  {
   "cell_type": "code",
   "execution_count": 13,
   "metadata": {},
   "outputs": [],
   "source": [
    "from sklearn.decomposition import PCA\n",
    "\n",
    "import matplotlib.pyplot as plt\n",
    "import plotly.graph_objs as go\n",
    "from plotly.offline import iplot\n"
   ]
  },
  {
   "cell_type": "code",
   "execution_count": 14,
   "metadata": {
    "scrolled": true
   },
   "outputs": [
    {
     "name": "stdout",
     "output_type": "stream",
     "text": [
      "['faux', 'quilates', 'veces', 'visto', 'juego', 'aretes', 'futbol', 'globo', 'corbata', 'jugadores', 'papá', 'stan', 'pues', 'amable', 'toda', 'programa', 'cuesta', 'entrenador', 'tan', 'claro']\n"
     ]
    }
   ],
   "source": [
    "\n",
    "vocab = [e[0] for e in modelo.wv.most_similar(\"cuatorce\")]+[e[0] for e in modelo.wv.most_similar(\"mejor\")]\n",
    "print(vocab)\n"
   ]
  },
  {
   "cell_type": "code",
   "execution_count": 15,
   "metadata": {
    "scrolled": true
   },
   "outputs": [
    {
     "name": "stderr",
     "output_type": "stream",
     "text": [
      "<ipython-input-15-742a09174b35>:1: DeprecationWarning:\n",
      "\n",
      "Call to deprecated `__getitem__` (Method will be removed in 4.0.0, use self.wv.__getitem__() instead).\n",
      "\n"
     ]
    },
    {
     "data": {
      "text/html": [
       "<div>\n",
       "<style scoped>\n",
       "    .dataframe tbody tr th:only-of-type {\n",
       "        vertical-align: middle;\n",
       "    }\n",
       "\n",
       "    .dataframe tbody tr th {\n",
       "        vertical-align: top;\n",
       "    }\n",
       "\n",
       "    .dataframe thead th {\n",
       "        text-align: right;\n",
       "    }\n",
       "</style>\n",
       "<table border=\"1\" class=\"dataframe\">\n",
       "  <thead>\n",
       "    <tr style=\"text-align: right;\">\n",
       "      <th></th>\n",
       "      <th>0</th>\n",
       "      <th>1</th>\n",
       "      <th>2</th>\n",
       "      <th>3</th>\n",
       "      <th>4</th>\n",
       "      <th>5</th>\n",
       "      <th>6</th>\n",
       "      <th>7</th>\n",
       "      <th>8</th>\n",
       "      <th>9</th>\n",
       "      <th>...</th>\n",
       "      <th>40</th>\n",
       "      <th>41</th>\n",
       "      <th>42</th>\n",
       "      <th>43</th>\n",
       "      <th>44</th>\n",
       "      <th>45</th>\n",
       "      <th>46</th>\n",
       "      <th>47</th>\n",
       "      <th>48</th>\n",
       "      <th>49</th>\n",
       "    </tr>\n",
       "  </thead>\n",
       "  <tbody>\n",
       "    <tr>\n",
       "      <th>favor</th>\n",
       "      <td>0.006337</td>\n",
       "      <td>-0.001577</td>\n",
       "      <td>0.002047</td>\n",
       "      <td>-0.002859</td>\n",
       "      <td>-0.001201</td>\n",
       "      <td>0.009571</td>\n",
       "      <td>0.005973</td>\n",
       "      <td>0.005674</td>\n",
       "      <td>0.008432</td>\n",
       "      <td>0.001757</td>\n",
       "      <td>...</td>\n",
       "      <td>-0.007500</td>\n",
       "      <td>-0.000993</td>\n",
       "      <td>0.008265</td>\n",
       "      <td>-0.005015</td>\n",
       "      <td>-0.009085</td>\n",
       "      <td>0.004860</td>\n",
       "      <td>-0.006159</td>\n",
       "      <td>0.008054</td>\n",
       "      <td>0.001837</td>\n",
       "      <td>0.006904</td>\n",
       "    </tr>\n",
       "    <tr>\n",
       "      <th>allí</th>\n",
       "      <td>0.004879</td>\n",
       "      <td>0.011667</td>\n",
       "      <td>-0.002090</td>\n",
       "      <td>-0.001280</td>\n",
       "      <td>0.002236</td>\n",
       "      <td>0.003145</td>\n",
       "      <td>0.009522</td>\n",
       "      <td>0.005783</td>\n",
       "      <td>0.012247</td>\n",
       "      <td>-0.005618</td>\n",
       "      <td>...</td>\n",
       "      <td>0.003760</td>\n",
       "      <td>0.002171</td>\n",
       "      <td>-0.002696</td>\n",
       "      <td>-0.007555</td>\n",
       "      <td>-0.005079</td>\n",
       "      <td>0.003870</td>\n",
       "      <td>-0.005018</td>\n",
       "      <td>0.008566</td>\n",
       "      <td>-0.003566</td>\n",
       "      <td>-0.008952</td>\n",
       "    </tr>\n",
       "    <tr>\n",
       "      <th>si</th>\n",
       "      <td>0.016943</td>\n",
       "      <td>-0.006138</td>\n",
       "      <td>-0.005483</td>\n",
       "      <td>-0.007141</td>\n",
       "      <td>0.006703</td>\n",
       "      <td>-0.004364</td>\n",
       "      <td>0.000775</td>\n",
       "      <td>0.003193</td>\n",
       "      <td>0.011499</td>\n",
       "      <td>0.002363</td>\n",
       "      <td>...</td>\n",
       "      <td>-0.003947</td>\n",
       "      <td>-0.007350</td>\n",
       "      <td>0.007325</td>\n",
       "      <td>0.006138</td>\n",
       "      <td>-0.008262</td>\n",
       "      <td>0.003294</td>\n",
       "      <td>0.007087</td>\n",
       "      <td>0.012508</td>\n",
       "      <td>0.003137</td>\n",
       "      <td>-0.002007</td>\n",
       "    </tr>\n",
       "    <tr>\n",
       "      <th>mejor</th>\n",
       "      <td>0.007994</td>\n",
       "      <td>0.003794</td>\n",
       "      <td>0.001792</td>\n",
       "      <td>-0.000439</td>\n",
       "      <td>0.005266</td>\n",
       "      <td>0.009249</td>\n",
       "      <td>0.009324</td>\n",
       "      <td>-0.007955</td>\n",
       "      <td>-0.003495</td>\n",
       "      <td>-0.002208</td>\n",
       "      <td>...</td>\n",
       "      <td>-0.004012</td>\n",
       "      <td>0.008852</td>\n",
       "      <td>0.005767</td>\n",
       "      <td>0.006051</td>\n",
       "      <td>0.007948</td>\n",
       "      <td>-0.000075</td>\n",
       "      <td>0.007444</td>\n",
       "      <td>-0.000880</td>\n",
       "      <td>0.001865</td>\n",
       "      <td>-0.000460</td>\n",
       "    </tr>\n",
       "    <tr>\n",
       "      <th>así</th>\n",
       "      <td>0.011997</td>\n",
       "      <td>0.001160</td>\n",
       "      <td>0.006744</td>\n",
       "      <td>0.007273</td>\n",
       "      <td>-0.009984</td>\n",
       "      <td>-0.005638</td>\n",
       "      <td>-0.004667</td>\n",
       "      <td>-0.000151</td>\n",
       "      <td>-0.002082</td>\n",
       "      <td>0.009063</td>\n",
       "      <td>...</td>\n",
       "      <td>-0.010708</td>\n",
       "      <td>-0.001127</td>\n",
       "      <td>-0.006375</td>\n",
       "      <td>0.008774</td>\n",
       "      <td>-0.004954</td>\n",
       "      <td>0.006588</td>\n",
       "      <td>-0.005148</td>\n",
       "      <td>0.011522</td>\n",
       "      <td>0.008274</td>\n",
       "      <td>0.001044</td>\n",
       "    </tr>\n",
       "    <tr>\n",
       "      <th>...</th>\n",
       "      <td>...</td>\n",
       "      <td>...</td>\n",
       "      <td>...</td>\n",
       "      <td>...</td>\n",
       "      <td>...</td>\n",
       "      <td>...</td>\n",
       "      <td>...</td>\n",
       "      <td>...</td>\n",
       "      <td>...</td>\n",
       "      <td>...</td>\n",
       "      <td>...</td>\n",
       "      <td>...</td>\n",
       "      <td>...</td>\n",
       "      <td>...</td>\n",
       "      <td>...</td>\n",
       "      <td>...</td>\n",
       "      <td>...</td>\n",
       "      <td>...</td>\n",
       "      <td>...</td>\n",
       "      <td>...</td>\n",
       "      <td>...</td>\n",
       "    </tr>\n",
       "    <tr>\n",
       "      <th>aretes</th>\n",
       "      <td>0.020226</td>\n",
       "      <td>0.013625</td>\n",
       "      <td>-0.011296</td>\n",
       "      <td>0.001530</td>\n",
       "      <td>-0.000766</td>\n",
       "      <td>0.001469</td>\n",
       "      <td>-0.002348</td>\n",
       "      <td>0.004734</td>\n",
       "      <td>0.018681</td>\n",
       "      <td>0.010457</td>\n",
       "      <td>...</td>\n",
       "      <td>-0.000064</td>\n",
       "      <td>0.009261</td>\n",
       "      <td>-0.001809</td>\n",
       "      <td>0.001871</td>\n",
       "      <td>0.005476</td>\n",
       "      <td>0.020180</td>\n",
       "      <td>-0.008961</td>\n",
       "      <td>0.018738</td>\n",
       "      <td>0.005319</td>\n",
       "      <td>-0.000811</td>\n",
       "    </tr>\n",
       "    <tr>\n",
       "      <th>faux</th>\n",
       "      <td>0.011153</td>\n",
       "      <td>0.014396</td>\n",
       "      <td>-0.001299</td>\n",
       "      <td>-0.010696</td>\n",
       "      <td>0.006674</td>\n",
       "      <td>-0.001186</td>\n",
       "      <td>0.004069</td>\n",
       "      <td>0.013262</td>\n",
       "      <td>0.013606</td>\n",
       "      <td>-0.002433</td>\n",
       "      <td>...</td>\n",
       "      <td>-0.007502</td>\n",
       "      <td>-0.006382</td>\n",
       "      <td>-0.001725</td>\n",
       "      <td>-0.001294</td>\n",
       "      <td>-0.007163</td>\n",
       "      <td>0.012058</td>\n",
       "      <td>-0.003592</td>\n",
       "      <td>0.022413</td>\n",
       "      <td>-0.009195</td>\n",
       "      <td>0.011707</td>\n",
       "    </tr>\n",
       "    <tr>\n",
       "      <th>cuatorce</th>\n",
       "      <td>0.012622</td>\n",
       "      <td>0.012125</td>\n",
       "      <td>-0.005218</td>\n",
       "      <td>-0.000502</td>\n",
       "      <td>0.000133</td>\n",
       "      <td>0.003353</td>\n",
       "      <td>0.005841</td>\n",
       "      <td>0.001042</td>\n",
       "      <td>0.006223</td>\n",
       "      <td>-0.004003</td>\n",
       "      <td>...</td>\n",
       "      <td>0.003491</td>\n",
       "      <td>0.011745</td>\n",
       "      <td>-0.010948</td>\n",
       "      <td>0.003711</td>\n",
       "      <td>0.003578</td>\n",
       "      <td>0.013580</td>\n",
       "      <td>-0.010122</td>\n",
       "      <td>0.006277</td>\n",
       "      <td>-0.011141</td>\n",
       "      <td>0.004985</td>\n",
       "    </tr>\n",
       "    <tr>\n",
       "      <th>capas</th>\n",
       "      <td>-0.006824</td>\n",
       "      <td>-0.005492</td>\n",
       "      <td>0.004787</td>\n",
       "      <td>-0.003534</td>\n",
       "      <td>0.005373</td>\n",
       "      <td>0.009382</td>\n",
       "      <td>0.009729</td>\n",
       "      <td>0.000960</td>\n",
       "      <td>-0.000004</td>\n",
       "      <td>-0.001364</td>\n",
       "      <td>...</td>\n",
       "      <td>-0.007535</td>\n",
       "      <td>-0.002221</td>\n",
       "      <td>0.007218</td>\n",
       "      <td>-0.008160</td>\n",
       "      <td>0.003995</td>\n",
       "      <td>0.000034</td>\n",
       "      <td>-0.005922</td>\n",
       "      <td>-0.006926</td>\n",
       "      <td>0.004940</td>\n",
       "      <td>-0.003514</td>\n",
       "    </tr>\n",
       "    <tr>\n",
       "      <th>ves</th>\n",
       "      <td>-0.005149</td>\n",
       "      <td>0.007342</td>\n",
       "      <td>0.001610</td>\n",
       "      <td>-0.000504</td>\n",
       "      <td>0.001535</td>\n",
       "      <td>-0.007694</td>\n",
       "      <td>0.002476</td>\n",
       "      <td>0.003131</td>\n",
       "      <td>0.005589</td>\n",
       "      <td>0.003174</td>\n",
       "      <td>...</td>\n",
       "      <td>-0.001434</td>\n",
       "      <td>0.010423</td>\n",
       "      <td>0.008612</td>\n",
       "      <td>-0.004012</td>\n",
       "      <td>-0.006178</td>\n",
       "      <td>-0.003129</td>\n",
       "      <td>-0.009465</td>\n",
       "      <td>-0.002480</td>\n",
       "      <td>0.001384</td>\n",
       "      <td>-0.003206</td>\n",
       "    </tr>\n",
       "  </tbody>\n",
       "</table>\n",
       "<p>252 rows × 50 columns</p>\n",
       "</div>"
      ],
      "text/plain": [
       "                0         1         2         3         4         5   \\\n",
       "favor     0.006337 -0.001577  0.002047 -0.002859 -0.001201  0.009571   \n",
       "allí      0.004879  0.011667 -0.002090 -0.001280  0.002236  0.003145   \n",
       "si        0.016943 -0.006138 -0.005483 -0.007141  0.006703 -0.004364   \n",
       "mejor     0.007994  0.003794  0.001792 -0.000439  0.005266  0.009249   \n",
       "así       0.011997  0.001160  0.006744  0.007273 -0.009984 -0.005638   \n",
       "...            ...       ...       ...       ...       ...       ...   \n",
       "aretes    0.020226  0.013625 -0.011296  0.001530 -0.000766  0.001469   \n",
       "faux      0.011153  0.014396 -0.001299 -0.010696  0.006674 -0.001186   \n",
       "cuatorce  0.012622  0.012125 -0.005218 -0.000502  0.000133  0.003353   \n",
       "capas    -0.006824 -0.005492  0.004787 -0.003534  0.005373  0.009382   \n",
       "ves      -0.005149  0.007342  0.001610 -0.000504  0.001535 -0.007694   \n",
       "\n",
       "                6         7         8         9   ...        40        41  \\\n",
       "favor     0.005973  0.005674  0.008432  0.001757  ... -0.007500 -0.000993   \n",
       "allí      0.009522  0.005783  0.012247 -0.005618  ...  0.003760  0.002171   \n",
       "si        0.000775  0.003193  0.011499  0.002363  ... -0.003947 -0.007350   \n",
       "mejor     0.009324 -0.007955 -0.003495 -0.002208  ... -0.004012  0.008852   \n",
       "así      -0.004667 -0.000151 -0.002082  0.009063  ... -0.010708 -0.001127   \n",
       "...            ...       ...       ...       ...  ...       ...       ...   \n",
       "aretes   -0.002348  0.004734  0.018681  0.010457  ... -0.000064  0.009261   \n",
       "faux      0.004069  0.013262  0.013606 -0.002433  ... -0.007502 -0.006382   \n",
       "cuatorce  0.005841  0.001042  0.006223 -0.004003  ...  0.003491  0.011745   \n",
       "capas     0.009729  0.000960 -0.000004 -0.001364  ... -0.007535 -0.002221   \n",
       "ves       0.002476  0.003131  0.005589  0.003174  ... -0.001434  0.010423   \n",
       "\n",
       "                42        43        44        45        46        47  \\\n",
       "favor     0.008265 -0.005015 -0.009085  0.004860 -0.006159  0.008054   \n",
       "allí     -0.002696 -0.007555 -0.005079  0.003870 -0.005018  0.008566   \n",
       "si        0.007325  0.006138 -0.008262  0.003294  0.007087  0.012508   \n",
       "mejor     0.005767  0.006051  0.007948 -0.000075  0.007444 -0.000880   \n",
       "así      -0.006375  0.008774 -0.004954  0.006588 -0.005148  0.011522   \n",
       "...            ...       ...       ...       ...       ...       ...   \n",
       "aretes   -0.001809  0.001871  0.005476  0.020180 -0.008961  0.018738   \n",
       "faux     -0.001725 -0.001294 -0.007163  0.012058 -0.003592  0.022413   \n",
       "cuatorce -0.010948  0.003711  0.003578  0.013580 -0.010122  0.006277   \n",
       "capas     0.007218 -0.008160  0.003995  0.000034 -0.005922 -0.006926   \n",
       "ves       0.008612 -0.004012 -0.006178 -0.003129 -0.009465 -0.002480   \n",
       "\n",
       "                48        49  \n",
       "favor     0.001837  0.006904  \n",
       "allí     -0.003566 -0.008952  \n",
       "si        0.003137 -0.002007  \n",
       "mejor     0.001865 -0.000460  \n",
       "así       0.008274  0.001044  \n",
       "...            ...       ...  \n",
       "aretes    0.005319 -0.000811  \n",
       "faux     -0.009195  0.011707  \n",
       "cuatorce -0.011141  0.004985  \n",
       "capas     0.004940 -0.003514  \n",
       "ves       0.001384 -0.003206  \n",
       "\n",
       "[252 rows x 50 columns]"
      ]
     },
     "execution_count": 15,
     "metadata": {},
     "output_type": "execute_result"
    }
   ],
   "source": [
    "X = modelo[modelo.wv.vocab]\n",
    "matrix = pd.DataFrame(X)\n",
    "matrix.index = modelo.wv.vocab.keys()\n",
    "matrix\n"
   ]
  },
  {
   "cell_type": "code",
   "execution_count": 16,
   "metadata": {},
   "outputs": [
    {
     "data": {
      "text/plain": [
       "(252, 50)"
      ]
     },
     "execution_count": 16,
     "metadata": {},
     "output_type": "execute_result"
    }
   ],
   "source": [
    "matrix.shape"
   ]
  },
  {
   "cell_type": "code",
   "execution_count": 17,
   "metadata": {},
   "outputs": [
    {
     "data": {
      "text/html": [
       "<div>\n",
       "<style scoped>\n",
       "    .dataframe tbody tr th:only-of-type {\n",
       "        vertical-align: middle;\n",
       "    }\n",
       "\n",
       "    .dataframe tbody tr th {\n",
       "        vertical-align: top;\n",
       "    }\n",
       "\n",
       "    .dataframe thead th {\n",
       "        text-align: right;\n",
       "    }\n",
       "</style>\n",
       "<table border=\"1\" class=\"dataframe\">\n",
       "  <thead>\n",
       "    <tr style=\"text-align: right;\">\n",
       "      <th></th>\n",
       "      <th>X</th>\n",
       "      <th>Y</th>\n",
       "      <th>Palabra</th>\n",
       "    </tr>\n",
       "  </thead>\n",
       "  <tbody>\n",
       "    <tr>\n",
       "      <th>0</th>\n",
       "      <td>0.006015</td>\n",
       "      <td>0.009881</td>\n",
       "      <td>favor</td>\n",
       "    </tr>\n",
       "    <tr>\n",
       "      <th>1</th>\n",
       "      <td>0.004321</td>\n",
       "      <td>-0.000271</td>\n",
       "      <td>allí</td>\n",
       "    </tr>\n",
       "    <tr>\n",
       "      <th>2</th>\n",
       "      <td>0.011373</td>\n",
       "      <td>0.023007</td>\n",
       "      <td>si</td>\n",
       "    </tr>\n",
       "    <tr>\n",
       "      <th>3</th>\n",
       "      <td>-0.004112</td>\n",
       "      <td>0.001529</td>\n",
       "      <td>mejor</td>\n",
       "    </tr>\n",
       "    <tr>\n",
       "      <th>4</th>\n",
       "      <td>0.001843</td>\n",
       "      <td>-0.007212</td>\n",
       "      <td>así</td>\n",
       "    </tr>\n",
       "    <tr>\n",
       "      <th>...</th>\n",
       "      <td>...</td>\n",
       "      <td>...</td>\n",
       "      <td>...</td>\n",
       "    </tr>\n",
       "    <tr>\n",
       "      <th>247</th>\n",
       "      <td>0.039873</td>\n",
       "      <td>-0.007396</td>\n",
       "      <td>aretes</td>\n",
       "    </tr>\n",
       "    <tr>\n",
       "      <th>248</th>\n",
       "      <td>0.048325</td>\n",
       "      <td>0.016153</td>\n",
       "      <td>faux</td>\n",
       "    </tr>\n",
       "    <tr>\n",
       "      <th>249</th>\n",
       "      <td>0.025535</td>\n",
       "      <td>-0.000155</td>\n",
       "      <td>cuatorce</td>\n",
       "    </tr>\n",
       "    <tr>\n",
       "      <th>250</th>\n",
       "      <td>-0.010407</td>\n",
       "      <td>0.006522</td>\n",
       "      <td>capas</td>\n",
       "    </tr>\n",
       "    <tr>\n",
       "      <th>251</th>\n",
       "      <td>-0.006548</td>\n",
       "      <td>0.006056</td>\n",
       "      <td>ves</td>\n",
       "    </tr>\n",
       "  </tbody>\n",
       "</table>\n",
       "<p>252 rows × 3 columns</p>\n",
       "</div>"
      ],
      "text/plain": [
       "            X         Y   Palabra\n",
       "0    0.006015  0.009881     favor\n",
       "1    0.004321 -0.000271      allí\n",
       "2    0.011373  0.023007        si\n",
       "3   -0.004112  0.001529     mejor\n",
       "4    0.001843 -0.007212       así\n",
       "..        ...       ...       ...\n",
       "247  0.039873 -0.007396    aretes\n",
       "248  0.048325  0.016153      faux\n",
       "249  0.025535 -0.000155  cuatorce\n",
       "250 -0.010407  0.006522     capas\n",
       "251 -0.006548  0.006056       ves\n",
       "\n",
       "[252 rows x 3 columns]"
      ]
     },
     "execution_count": 17,
     "metadata": {},
     "output_type": "execute_result"
    }
   ],
   "source": [
    "pca = PCA(n_components=2)\n",
    "\n",
    "result = pca.fit_transform(matrix)\n",
    "result = pd.DataFrame(result)\n",
    "result.columns = ['X', 'Y']\n",
    "result['Palabra'] = matrix.index.values\n",
    "\n",
    "result"
   ]
  },
  {
   "cell_type": "code",
   "execution_count": 19,
   "metadata": {},
   "outputs": [
    {
     "data": {
      "application/vnd.plotly.v1+json": {
       "config": {
        "linkText": "Export to plot.ly",
        "plotlyServerURL": "https://plot.ly",
        "showLink": false
       },
       "data": [
        {
         "mode": "markers",
         "text": [
          "favor",
          "allí",
          "si",
          "mejor",
          "así",
          "pues",
          "krieger",
          "bebé",
          "lando",
          "serio",
          "randy",
          "creo",
          "deporte",
          "daño",
          "cerebro",
          "esperad",
          "archer",
          "usted",
          "dios",
          "claro",
          "niña",
          "decir",
          "dónde",
          "coño",
          "mano",
          "venga",
          "jodas",
          "cyril",
          "haces",
          "dice",
          "perdón",
          "voy",
          "deberíamos",
          "tener",
          "diez",
          "sarcasmobol",
          "jugar",
          "ah",
          "mierda",
          "bien",
          "ustedes",
          "juego",
          "genial",
          "coronel",
          "importa",
          "oro",
          "quilates",
          "diamantes",
          "entonces",
          "plan",
          "conway",
          "parece",
          "globo",
          "entrenador",
          "marsh",
          "ahora",
          "hago",
          "madre",
          "ser",
          "sarcástico",
          "armas",
          "oh",
          "siento",
          "chicos",
          "papá",
          "broncos",
          "tiempo",
          "oye",
          "va",
          "crees",
          "dicho",
          "cómo",
          "puede",
          "espera",
          "eh",
          "puedo",
          "quieren",
          "preocupes",
          "haber",
          "lugar",
          "hija",
          "aquí",
          "misión",
          "lana",
          "mira",
          "solo",
          "ayuda",
          "slater",
          "da",
          "literalmente",
          "ver",
          "sarcasmo",
          "buscar",
          "tres",
          "dólares",
          "haciendo",
          "buen",
          "hace",
          "compasión",
          "campo",
          "miren",
          "corbata",
          "hermosa",
          "stan",
          "muchas",
          "acerca",
          "vas",
          "mal",
          "equipo",
          "tan",
          "idiotas",
          "hijos",
          "puta",
          "toda",
          "todas",
          "negro",
          "bueno",
          "gracias",
          "disco",
          "van",
          "podemos",
          "hacer",
          "ido",
          "buena",
          "recuerdo",
          "vez",
          "visto",
          "cierto",
          "eric",
          "debería",
          "malo",
          "idiota",
          "verdad",
          "seguro",
          "iba",
          "cremoso",
          "jugadores",
          "mundo",
          "luego",
          "victoria",
          "dos",
          "hola",
          "dijo",
          "día",
          "vale",
          "digo",
          "creía",
          "seis",
          "mil",
          "baruk",
          "espía",
          "inteligencia",
          "abuelo",
          "futbol",
          "padre",
          "niño",
          "fin",
          "joyas",
          "pueda",
          "cia",
          "siempre",
          "villy",
          "leche",
          "gente",
          "saber",
          "país",
          "hijo",
          "trece",
          "pistola",
          "momento",
          "cuánto",
          "hecho",
          "pasado",
          "jugo",
          "butters",
          "beber",
          "mientras",
          "casa",
          "señor",
          "sé",
          "dices",
          "quieres",
          "quiero",
          "vamos",
          "niños",
          "espalda",
          "venganza",
          "jackson",
          "cree",
          "nfl",
          "unas",
          "veces",
          "aj",
          "pasa",
          "acuerdo",
          "noche",
          "todavía",
          "denver",
          "regalo",
          "dinero",
          "gusta",
          "nunca",
          "sido",
          "cuesta",
          "piso",
          "cero",
          "supongo",
          "poker",
          "violencia",
          "necesito",
          "mañana",
          "siquiera",
          "topo",
          "dentro",
          "idea",
          "dije",
          "cosas",
          "alguien",
          "hablando",
          "cago",
          "quería",
          "joder",
          "menos",
          "hoy",
          "amable",
          "sentimientos",
          "mismo",
          "canguro",
          "hablar",
          "tal",
          "caso",
          "cállate",
          "igual",
          "sterling",
          "seguridad",
          "quién",
          "aunque",
          "negocio",
          "ridículo",
          "argentina",
          "cañero",
          "jugando",
          "sabía",
          "cremosidad",
          "ley",
          "programa",
          "amigo",
          "aretes",
          "faux",
          "cuatorce",
          "capas",
          "ves"
         ],
         "type": "scatter",
         "x": [
          0.006015252321958542,
          0.00432091299444437,
          0.01137320976704359,
          -0.004112112335860729,
          0.0018428366165608168,
          -0.005027563311159611,
          -0.012597333639860153,
          -0.0013708947226405144,
          -0.009178990498185158,
          -0.008020682260394096,
          0.0075735291466116905,
          0.003709611017256975,
          0.008099207654595375,
          -0.011820345185697079,
          -0.005017481278628111,
          -0.01750774495303631,
          -0.008006339892745018,
          -0.01056386437267065,
          0.007813707925379276,
          -0.0073473332449793816,
          0.0029093935154378414,
          -0.009151831269264221,
          -0.007320347707718611,
          -0.012810259126126766,
          -0.0031310010235756636,
          -0.014469181187450886,
          -0.01659296452999115,
          -0.016899073496460915,
          -0.001510503119789064,
          0.006455008871853352,
          0.0022436343133449554,
          -0.02288113720715046,
          0.017131993547081947,
          0.002896546619012952,
          0.004055797588080168,
          0.020544031634926796,
          -0.016531800851225853,
          -0.013500556349754333,
          -0.020753363147377968,
          0.0045097144320607185,
          0.008076364174485207,
          0.0343688428401947,
          -0.00015790403995197266,
          -0.0055793579667806625,
          -0.007837947458028793,
          0.01777680031955242,
          0.03457529470324516,
          0.007228877395391464,
          -0.008492170833051205,
          -0.004605324938893318,
          -0.014369545504450798,
          0.02335745096206665,
          0.01949349045753479,
          0.005044269375503063,
          0.022677604109048843,
          0.00615291204303503,
          0.0018723602406680584,
          -0.004342685919255018,
          0.0019287167815491557,
          0.004746525548398495,
          -0.0008773637237027287,
          0.008494370616972446,
          -0.017184792086482048,
          0.006482403725385666,
          0.003446063259616494,
          0.014093965291976929,
          -0.0009910471271723509,
          0.014864264987409115,
          0.007948527112603188,
          -0.00844220444560051,
          -0.008655382320284843,
          0.007951592095196247,
          -0.006236918270587921,
          0.0066442047245800495,
          -0.013695664703845978,
          0.011500023305416107,
          -0.009272956289350986,
          0.004669492598623037,
          0.004379216115921736,
          0.006155400071293116,
          -0.0024172456469386816,
          0.004400096833705902,
          -0.00872765388339758,
          -0.00016218432574532926,
          -0.015764912590384483,
          0.0005098364199511707,
          -0.004424511920660734,
          -0.005990475416183472,
          -0.004455056972801685,
          -0.006423840299248695,
          0.03396506980061531,
          -0.005295406561344862,
          0.0026796769816428423,
          0.007160872686654329,
          0.00794912688434124,
          -0.004684550687670708,
          -0.006404304876923561,
          0.0009330232860520482,
          -0.005614899564534426,
          0.004983511287719011,
          0.012337072752416134,
          0.008334887214004993,
          -0.0010100970976054668,
          -0.004443613812327385,
          -0.00506255216896534,
          0.021507147699594498,
          -0.007693292573094368,
          -0.009287627413868904,
          -0.0003154051082674414,
          0.005822397768497467,
          -0.0017615582328289747,
          0.002360742073506117,
          -0.002696097129955888,
          0.006584309507161379,
          0.004009017255157232,
          -0.02243334986269474,
          -0.004966494627296925,
          0.0021880476269870996,
          0.003316309070214629,
          -0.010928557254374027,
          -0.008645708672702312,
          0.0004480138886719942,
          -0.013408933766186237,
          -0.005395600572228432,
          -0.007553784642368555,
          0.0033726361580193043,
          0.021581292152404785,
          0.0014574455562978983,
          0.009182796813547611,
          0.0019324157619848847,
          -0.0009296774514950812,
          -0.015188772231340408,
          -0.003918888978660107,
          0.01673245243728161,
          0.003244801890105009,
          0.010205341503024101,
          0.006408647634088993,
          0.0036171404644846916,
          -0.007104949094355106,
          -0.008385115303099155,
          0.010798678733408451,
          -0.005491691641509533,
          0.002210328122600913,
          -0.009970422834157944,
          -0.0007849484100006521,
          -0.01603247970342636,
          0.004413011018186808,
          0.02537900023162365,
          -0.016766436398029327,
          -0.0033489654306322336,
          -0.008967867121100426,
          0.00589735759422183,
          0.011921683326363564,
          0.018416866660118103,
          0.0007105647819116712,
          -0.011010666377842426,
          0.0032259582076221704,
          0.004867682233452797,
          -0.0032921943347901106,
          0.009853622876107693,
          0.008456363342702389,
          0.00218970631249249,
          -0.0015827147290110588,
          0.006103907246142626,
          -0.009057997725903988,
          -0.009686831384897232,
          0.006522322539240122,
          0.006148788146674633,
          -0.0034287036396563053,
          -0.005466643255203962,
          -0.002227189252153039,
          0.0023776120506227016,
          -0.013996630907058716,
          0.0007545112166553736,
          0.01627001352608204,
          -0.0135986702516675,
          0.01409000065177679,
          0.0004063068190589547,
          -0.0002535019302740693,
          0.013616835698485374,
          -0.00843093078583479,
          0.0045228386297822,
          0.011981520801782608,
          0.005056430585682392,
          0.00035551399923861027,
          -0.01031656377017498,
          -0.0031355172395706177,
          -0.014249172993004322,
          -0.008641610853374004,
          0.002626899629831314,
          -0.010630370117723942,
          0.05170585587620735,
          0.0007261423743329942,
          -0.013524698093533516,
          -0.007718460634350777,
          0.003907986916601658,
          -0.0009513823897577822,
          -0.0020132199861109257,
          -0.007010562811046839,
          -0.010012202896177769,
          -0.011987927369773388,
          -0.009982476010918617,
          0.008210796862840652,
          -0.002866744762286544,
          -0.01085242722183466,
          0.007801608648151159,
          -0.005278510507196188,
          -0.005243136081844568,
          -0.010554926469922066,
          -0.004464984871447086,
          -0.023080116137862206,
          0.005020219832658768,
          -0.009395317174494267,
          -0.018897484987974167,
          0.003414804581552744,
          -0.00485763605684042,
          -0.004949754569679499,
          0.0010612615151330829,
          -0.01390698179602623,
          -0.011817236430943012,
          -0.00830022245645523,
          0.00545861478894949,
          0.006060054991394281,
          0.00986474845558405,
          0.011974737048149109,
          0.02522876299917698,
          0.015055103227496147,
          -0.0034309967886656523,
          0.0032339608296751976,
          -0.01588764600455761,
          -0.0006701789097860456,
          0.00431393226608634,
          -0.005825402680784464,
          0.0006343103013932705,
          0.01759219914674759,
          0.005516365636140108,
          -0.0016406361246481538,
          -0.0039311000145971775,
          -0.015987923368811607,
          -0.017346737906336784,
          0.000192780775250867,
          -0.009498469531536102,
          -0.01122172363102436,
          0.003731712233275175,
          -0.014237877912819386,
          -0.005247647874057293,
          -0.017983824014663696,
          0.03987254947423935,
          0.04832463711500168,
          0.02553490176796913,
          -0.010407495312392712,
          -0.006548397243022919
         ],
         "y": [
          0.009881110861897469,
          -0.0002712504647206515,
          0.02300667017698288,
          0.0015294719487428665,
          -0.007212471216917038,
          0.01605665124952793,
          -0.015400437638163567,
          0.0038156299851834774,
          0.0008764000958763063,
          0.0006515223067253828,
          0.0031422716565430164,
          0.007544965948909521,
          0.013356403447687626,
          -0.006702992599457502,
          0.00456306291744113,
          -0.003277432406321168,
          0.005787404719740152,
          0.0017393941525369883,
          -0.0035345719661563635,
          -0.010059323161840439,
          -0.010223901830613613,
          0.004025780130177736,
          0.0026242341846227646,
          -0.004132435191422701,
          -0.011570006608963013,
          -0.00941092986613512,
          0.018463246524333954,
          0.010989722795784473,
          0.015155230648815632,
          0.0006505223573185503,
          0.007146830670535564,
          0.013068508356809616,
          0.006961135193705559,
          -0.005550330504775047,
          0.013080771081149578,
          -0.005157134961336851,
          0.010191754437983036,
          0.008247839286923409,
          -0.0009476084960624576,
          0.007140565197914839,
          -0.007945291697978973,
          -0.007684606593102217,
          -0.0161933284252882,
          0.009075400419533253,
          -0.0011106837773695588,
          -0.0008671900141052902,
          0.007403333205729723,
          -0.01052352786064148,
          0.009312030859291553,
          -0.004577793646603823,
          -0.009892537258565426,
          -0.009877176955342293,
          0.0017540061380714178,
          0.005913224071264267,
          -0.0004250229394529015,
          0.007257196586579084,
          -0.015398538671433926,
          0.0032041261438280344,
          -0.012574597261846066,
          -0.004640085622668266,
          0.01043198723345995,
          -0.0012552504194900393,
          -0.015607621520757675,
          0.004973664879798889,
          -0.0013983636163175106,
          -0.008368137292563915,
          0.00361009337939322,
          -0.019671766087412834,
          -0.001993838232010603,
          0.0017336128512397408,
          -0.012813566252589226,
          -0.0035677405539900064,
          -0.006916068959981203,
          -0.0011522409040480852,
          0.001115298131480813,
          0.01087330561131239,
          -0.008119462989270687,
          0.00938613060861826,
          0.004087542649358511,
          -0.003950406797230244,
          -0.011544466949999332,
          -0.015328433364629745,
          -0.0045868088491261005,
          0.009905882179737091,
          -0.00043485898640938103,
          -0.011424161493778229,
          -0.0019508309196680784,
          -0.008772588334977627,
          0.0018032386433333158,
          -0.0021805271971970797,
          -0.006142936646938324,
          0.005276505369693041,
          0.004852687008678913,
          -0.01141552533954382,
          -0.002878857310861349,
          -0.004039261024445295,
          0.0015011305222287774,
          0.0025900532491505146,
          -0.003653894877061248,
          0.006138256751000881,
          -0.006253989413380623,
          0.016403531655669212,
          -0.010674267075955868,
          -0.008514461107552052,
          -0.003953475970774889,
          0.0003201646322850138,
          -0.008844411000609398,
          -0.011922487057745457,
          0.007222539279609919,
          0.0015312260948121548,
          -0.008994733914732933,
          -0.004113357979804277,
          0.0010161381214857101,
          0.0006551208207383752,
          0.0018987251678481698,
          -0.00939339492470026,
          0.001830696826800704,
          0.005050334148108959,
          1.190518287330633e-05,
          -0.012676355428993702,
          -0.009004362858831882,
          -0.006103291176259518,
          -0.003185450565069914,
          0.015234000980854034,
          0.01287996955215931,
          0.00802967045456171,
          -0.0023669362999498844,
          -0.003127083647996187,
          0.00046769468463025987,
          -0.0033924244344234467,
          0.01132358517497778,
          -0.013241039589047432,
          -0.007157064974308014,
          -0.00087777926819399,
          0.009405097924172878,
          0.004781307186931372,
          -0.0022444804199039936,
          0.004404063802212477,
          -0.005199877079576254,
          -0.008193625137209892,
          0.0008957578102126718,
          0.005947528872638941,
          0.009144879877567291,
          -0.0006126987282186747,
          -0.010047205723822117,
          -0.01275146659463644,
          -0.009432084858417511,
          0.006003655958920717,
          -0.007435708772391081,
          0.002793337684124708,
          0.011031275615096092,
          0.005941456183791161,
          -0.013657370582222939,
          0.008419230580329895,
          -0.00423729931935668,
          -0.008423139341175556,
          0.006087386980652809,
          -0.008246971294283867,
          0.006657302845269442,
          0.0010604180861264467,
          0.010061755776405334,
          0.009415999986231327,
          0.010083198547363281,
          0.002024092013016343,
          0.00027261293143965304,
          0.007683111354708672,
          -0.00369214522652328,
          -0.0013888574903830886,
          -2.401950587227475e-05,
          0.013015375472605228,
          0.0015788257587701082,
          -0.0019143291283398867,
          -0.008633734658360481,
          0.01973012462258339,
          0.010100800544023514,
          0.0072347973473370075,
          -0.007132474333047867,
          0.005857881624251604,
          0.012397660873830318,
          0.008009376935660839,
          0.006459665950387716,
          0.013428719714283943,
          0.0010286644101142883,
          -0.02044704370200634,
          0.014558937400579453,
          -0.015333136543631554,
          -0.004137303214520216,
          0.016786273568868637,
          0.004432153422385454,
          -0.005147585179656744,
          0.009203137829899788,
          -0.021428706124424934,
          -0.006018979009240866,
          -0.01256483606994152,
          0.0035310673993080854,
          0.007141735404729843,
          0.009127880446612835,
          0.009595549665391445,
          0.00814936775714159,
          0.003907621372491121,
          0.0054836580529809,
          -0.008398418314754963,
          0.00824190303683281,
          -0.001943629584275186,
          0.002629108726978302,
          -0.016415851190686226,
          -0.004501855466514826,
          -0.005679475609213114,
          -0.004495890811085701,
          -0.005081611219793558,
          0.0021833309438079596,
          -0.0024905044119805098,
          0.011742214672267437,
          -0.002256413223221898,
          0.004721721634268761,
          0.008083155378699303,
          0.00976356491446495,
          -0.007093621417880058,
          -0.00034507791860960424,
          -0.0026657574344426394,
          0.00463865464553237,
          -0.0009026213665492833,
          0.006999656558036804,
          -0.011135690845549107,
          -0.001207558554597199,
          0.006161714904010296,
          -0.0034670077729970217,
          -0.008296413347125053,
          -0.005910675041377544,
          0.011571468785405159,
          -0.010510423220694065,
          0.003845737548545003,
          0.0013546920381486416,
          0.004765234421938658,
          0.0075015537440776825,
          -0.007184324786067009,
          0.009104602038860321,
          -0.013595668599009514,
          -0.0014637442072853446,
          0.0039037331007421017,
          -0.005865567829459906,
          -0.01702851429581642,
          -0.0009498681756667793,
          -0.006565074436366558,
          -0.01095770113170147,
          0.0007369348895736039,
          0.005106692668050528,
          -0.007395908236503601,
          0.016152622178196907,
          -0.00015486415941268206,
          0.006522097624838352,
          0.006055998615920544
         ]
        }
       ],
       "layout": {
        "template": {
         "data": {
          "bar": [
           {
            "error_x": {
             "color": "#2a3f5f"
            },
            "error_y": {
             "color": "#2a3f5f"
            },
            "marker": {
             "line": {
              "color": "#E5ECF6",
              "width": 0.5
             }
            },
            "type": "bar"
           }
          ],
          "barpolar": [
           {
            "marker": {
             "line": {
              "color": "#E5ECF6",
              "width": 0.5
             }
            },
            "type": "barpolar"
           }
          ],
          "carpet": [
           {
            "aaxis": {
             "endlinecolor": "#2a3f5f",
             "gridcolor": "white",
             "linecolor": "white",
             "minorgridcolor": "white",
             "startlinecolor": "#2a3f5f"
            },
            "baxis": {
             "endlinecolor": "#2a3f5f",
             "gridcolor": "white",
             "linecolor": "white",
             "minorgridcolor": "white",
             "startlinecolor": "#2a3f5f"
            },
            "type": "carpet"
           }
          ],
          "choropleth": [
           {
            "colorbar": {
             "outlinewidth": 0,
             "ticks": ""
            },
            "type": "choropleth"
           }
          ],
          "contour": [
           {
            "colorbar": {
             "outlinewidth": 0,
             "ticks": ""
            },
            "colorscale": [
             [
              0,
              "#0d0887"
             ],
             [
              0.1111111111111111,
              "#46039f"
             ],
             [
              0.2222222222222222,
              "#7201a8"
             ],
             [
              0.3333333333333333,
              "#9c179e"
             ],
             [
              0.4444444444444444,
              "#bd3786"
             ],
             [
              0.5555555555555556,
              "#d8576b"
             ],
             [
              0.6666666666666666,
              "#ed7953"
             ],
             [
              0.7777777777777778,
              "#fb9f3a"
             ],
             [
              0.8888888888888888,
              "#fdca26"
             ],
             [
              1,
              "#f0f921"
             ]
            ],
            "type": "contour"
           }
          ],
          "contourcarpet": [
           {
            "colorbar": {
             "outlinewidth": 0,
             "ticks": ""
            },
            "type": "contourcarpet"
           }
          ],
          "heatmap": [
           {
            "colorbar": {
             "outlinewidth": 0,
             "ticks": ""
            },
            "colorscale": [
             [
              0,
              "#0d0887"
             ],
             [
              0.1111111111111111,
              "#46039f"
             ],
             [
              0.2222222222222222,
              "#7201a8"
             ],
             [
              0.3333333333333333,
              "#9c179e"
             ],
             [
              0.4444444444444444,
              "#bd3786"
             ],
             [
              0.5555555555555556,
              "#d8576b"
             ],
             [
              0.6666666666666666,
              "#ed7953"
             ],
             [
              0.7777777777777778,
              "#fb9f3a"
             ],
             [
              0.8888888888888888,
              "#fdca26"
             ],
             [
              1,
              "#f0f921"
             ]
            ],
            "type": "heatmap"
           }
          ],
          "heatmapgl": [
           {
            "colorbar": {
             "outlinewidth": 0,
             "ticks": ""
            },
            "colorscale": [
             [
              0,
              "#0d0887"
             ],
             [
              0.1111111111111111,
              "#46039f"
             ],
             [
              0.2222222222222222,
              "#7201a8"
             ],
             [
              0.3333333333333333,
              "#9c179e"
             ],
             [
              0.4444444444444444,
              "#bd3786"
             ],
             [
              0.5555555555555556,
              "#d8576b"
             ],
             [
              0.6666666666666666,
              "#ed7953"
             ],
             [
              0.7777777777777778,
              "#fb9f3a"
             ],
             [
              0.8888888888888888,
              "#fdca26"
             ],
             [
              1,
              "#f0f921"
             ]
            ],
            "type": "heatmapgl"
           }
          ],
          "histogram": [
           {
            "marker": {
             "colorbar": {
              "outlinewidth": 0,
              "ticks": ""
             }
            },
            "type": "histogram"
           }
          ],
          "histogram2d": [
           {
            "colorbar": {
             "outlinewidth": 0,
             "ticks": ""
            },
            "colorscale": [
             [
              0,
              "#0d0887"
             ],
             [
              0.1111111111111111,
              "#46039f"
             ],
             [
              0.2222222222222222,
              "#7201a8"
             ],
             [
              0.3333333333333333,
              "#9c179e"
             ],
             [
              0.4444444444444444,
              "#bd3786"
             ],
             [
              0.5555555555555556,
              "#d8576b"
             ],
             [
              0.6666666666666666,
              "#ed7953"
             ],
             [
              0.7777777777777778,
              "#fb9f3a"
             ],
             [
              0.8888888888888888,
              "#fdca26"
             ],
             [
              1,
              "#f0f921"
             ]
            ],
            "type": "histogram2d"
           }
          ],
          "histogram2dcontour": [
           {
            "colorbar": {
             "outlinewidth": 0,
             "ticks": ""
            },
            "colorscale": [
             [
              0,
              "#0d0887"
             ],
             [
              0.1111111111111111,
              "#46039f"
             ],
             [
              0.2222222222222222,
              "#7201a8"
             ],
             [
              0.3333333333333333,
              "#9c179e"
             ],
             [
              0.4444444444444444,
              "#bd3786"
             ],
             [
              0.5555555555555556,
              "#d8576b"
             ],
             [
              0.6666666666666666,
              "#ed7953"
             ],
             [
              0.7777777777777778,
              "#fb9f3a"
             ],
             [
              0.8888888888888888,
              "#fdca26"
             ],
             [
              1,
              "#f0f921"
             ]
            ],
            "type": "histogram2dcontour"
           }
          ],
          "mesh3d": [
           {
            "colorbar": {
             "outlinewidth": 0,
             "ticks": ""
            },
            "type": "mesh3d"
           }
          ],
          "parcoords": [
           {
            "line": {
             "colorbar": {
              "outlinewidth": 0,
              "ticks": ""
             }
            },
            "type": "parcoords"
           }
          ],
          "pie": [
           {
            "automargin": true,
            "type": "pie"
           }
          ],
          "scatter": [
           {
            "marker": {
             "colorbar": {
              "outlinewidth": 0,
              "ticks": ""
             }
            },
            "type": "scatter"
           }
          ],
          "scatter3d": [
           {
            "line": {
             "colorbar": {
              "outlinewidth": 0,
              "ticks": ""
             }
            },
            "marker": {
             "colorbar": {
              "outlinewidth": 0,
              "ticks": ""
             }
            },
            "type": "scatter3d"
           }
          ],
          "scattercarpet": [
           {
            "marker": {
             "colorbar": {
              "outlinewidth": 0,
              "ticks": ""
             }
            },
            "type": "scattercarpet"
           }
          ],
          "scattergeo": [
           {
            "marker": {
             "colorbar": {
              "outlinewidth": 0,
              "ticks": ""
             }
            },
            "type": "scattergeo"
           }
          ],
          "scattergl": [
           {
            "marker": {
             "colorbar": {
              "outlinewidth": 0,
              "ticks": ""
             }
            },
            "type": "scattergl"
           }
          ],
          "scattermapbox": [
           {
            "marker": {
             "colorbar": {
              "outlinewidth": 0,
              "ticks": ""
             }
            },
            "type": "scattermapbox"
           }
          ],
          "scatterpolar": [
           {
            "marker": {
             "colorbar": {
              "outlinewidth": 0,
              "ticks": ""
             }
            },
            "type": "scatterpolar"
           }
          ],
          "scatterpolargl": [
           {
            "marker": {
             "colorbar": {
              "outlinewidth": 0,
              "ticks": ""
             }
            },
            "type": "scatterpolargl"
           }
          ],
          "scatterternary": [
           {
            "marker": {
             "colorbar": {
              "outlinewidth": 0,
              "ticks": ""
             }
            },
            "type": "scatterternary"
           }
          ],
          "surface": [
           {
            "colorbar": {
             "outlinewidth": 0,
             "ticks": ""
            },
            "colorscale": [
             [
              0,
              "#0d0887"
             ],
             [
              0.1111111111111111,
              "#46039f"
             ],
             [
              0.2222222222222222,
              "#7201a8"
             ],
             [
              0.3333333333333333,
              "#9c179e"
             ],
             [
              0.4444444444444444,
              "#bd3786"
             ],
             [
              0.5555555555555556,
              "#d8576b"
             ],
             [
              0.6666666666666666,
              "#ed7953"
             ],
             [
              0.7777777777777778,
              "#fb9f3a"
             ],
             [
              0.8888888888888888,
              "#fdca26"
             ],
             [
              1,
              "#f0f921"
             ]
            ],
            "type": "surface"
           }
          ],
          "table": [
           {
            "cells": {
             "fill": {
              "color": "#EBF0F8"
             },
             "line": {
              "color": "white"
             }
            },
            "header": {
             "fill": {
              "color": "#C8D4E3"
             },
             "line": {
              "color": "white"
             }
            },
            "type": "table"
           }
          ]
         },
         "layout": {
          "annotationdefaults": {
           "arrowcolor": "#2a3f5f",
           "arrowhead": 0,
           "arrowwidth": 1
          },
          "coloraxis": {
           "colorbar": {
            "outlinewidth": 0,
            "ticks": ""
           }
          },
          "colorscale": {
           "diverging": [
            [
             0,
             "#8e0152"
            ],
            [
             0.1,
             "#c51b7d"
            ],
            [
             0.2,
             "#de77ae"
            ],
            [
             0.3,
             "#f1b6da"
            ],
            [
             0.4,
             "#fde0ef"
            ],
            [
             0.5,
             "#f7f7f7"
            ],
            [
             0.6,
             "#e6f5d0"
            ],
            [
             0.7,
             "#b8e186"
            ],
            [
             0.8,
             "#7fbc41"
            ],
            [
             0.9,
             "#4d9221"
            ],
            [
             1,
             "#276419"
            ]
           ],
           "sequential": [
            [
             0,
             "#0d0887"
            ],
            [
             0.1111111111111111,
             "#46039f"
            ],
            [
             0.2222222222222222,
             "#7201a8"
            ],
            [
             0.3333333333333333,
             "#9c179e"
            ],
            [
             0.4444444444444444,
             "#bd3786"
            ],
            [
             0.5555555555555556,
             "#d8576b"
            ],
            [
             0.6666666666666666,
             "#ed7953"
            ],
            [
             0.7777777777777778,
             "#fb9f3a"
            ],
            [
             0.8888888888888888,
             "#fdca26"
            ],
            [
             1,
             "#f0f921"
            ]
           ],
           "sequentialminus": [
            [
             0,
             "#0d0887"
            ],
            [
             0.1111111111111111,
             "#46039f"
            ],
            [
             0.2222222222222222,
             "#7201a8"
            ],
            [
             0.3333333333333333,
             "#9c179e"
            ],
            [
             0.4444444444444444,
             "#bd3786"
            ],
            [
             0.5555555555555556,
             "#d8576b"
            ],
            [
             0.6666666666666666,
             "#ed7953"
            ],
            [
             0.7777777777777778,
             "#fb9f3a"
            ],
            [
             0.8888888888888888,
             "#fdca26"
            ],
            [
             1,
             "#f0f921"
            ]
           ]
          },
          "colorway": [
           "#636efa",
           "#EF553B",
           "#00cc96",
           "#ab63fa",
           "#FFA15A",
           "#19d3f3",
           "#FF6692",
           "#B6E880",
           "#FF97FF",
           "#FECB52"
          ],
          "font": {
           "color": "#2a3f5f"
          },
          "geo": {
           "bgcolor": "white",
           "lakecolor": "white",
           "landcolor": "#E5ECF6",
           "showlakes": true,
           "showland": true,
           "subunitcolor": "white"
          },
          "hoverlabel": {
           "align": "left"
          },
          "hovermode": "closest",
          "mapbox": {
           "style": "light"
          },
          "paper_bgcolor": "white",
          "plot_bgcolor": "#E5ECF6",
          "polar": {
           "angularaxis": {
            "gridcolor": "white",
            "linecolor": "white",
            "ticks": ""
           },
           "bgcolor": "#E5ECF6",
           "radialaxis": {
            "gridcolor": "white",
            "linecolor": "white",
            "ticks": ""
           }
          },
          "scene": {
           "xaxis": {
            "backgroundcolor": "#E5ECF6",
            "gridcolor": "white",
            "gridwidth": 2,
            "linecolor": "white",
            "showbackground": true,
            "ticks": "",
            "zerolinecolor": "white"
           },
           "yaxis": {
            "backgroundcolor": "#E5ECF6",
            "gridcolor": "white",
            "gridwidth": 2,
            "linecolor": "white",
            "showbackground": true,
            "ticks": "",
            "zerolinecolor": "white"
           },
           "zaxis": {
            "backgroundcolor": "#E5ECF6",
            "gridcolor": "white",
            "gridwidth": 2,
            "linecolor": "white",
            "showbackground": true,
            "ticks": "",
            "zerolinecolor": "white"
           }
          },
          "shapedefaults": {
           "line": {
            "color": "#2a3f5f"
           }
          },
          "ternary": {
           "aaxis": {
            "gridcolor": "white",
            "linecolor": "white",
            "ticks": ""
           },
           "baxis": {
            "gridcolor": "white",
            "linecolor": "white",
            "ticks": ""
           },
           "bgcolor": "#E5ECF6",
           "caxis": {
            "gridcolor": "white",
            "linecolor": "white",
            "ticks": ""
           }
          },
          "title": {
           "x": 0.05
          },
          "xaxis": {
           "automargin": true,
           "gridcolor": "white",
           "linecolor": "white",
           "ticks": "",
           "title": {
            "standoff": 15
           },
           "zerolinecolor": "white",
           "zerolinewidth": 2
          },
          "yaxis": {
           "automargin": true,
           "gridcolor": "white",
           "linecolor": "white",
           "ticks": "",
           "title": {
            "standoff": 15
           },
           "zerolinecolor": "white",
           "zerolinewidth": 2
          }
         }
        },
        "title": {
         "text": "PCA"
        }
       }
      },
      "text/html": [
       "<div>                            <div id=\"2d5045ea-5145-4cac-a04f-6fe6ec1630a2\" class=\"plotly-graph-div\" style=\"height:525px; width:100%;\"></div>            <script type=\"text/javascript\">                require([\"plotly\"], function(Plotly) {                    window.PLOTLYENV=window.PLOTLYENV || {};                                    if (document.getElementById(\"2d5045ea-5145-4cac-a04f-6fe6ec1630a2\")) {                    Plotly.newPlot(                        \"2d5045ea-5145-4cac-a04f-6fe6ec1630a2\",                        [{\"mode\": \"markers\", \"text\": [\"favor\", \"all\\u00ed\", \"si\", \"mejor\", \"as\\u00ed\", \"pues\", \"krieger\", \"beb\\u00e9\", \"lando\", \"serio\", \"randy\", \"creo\", \"deporte\", \"da\\u00f1o\", \"cerebro\", \"esperad\", \"archer\", \"usted\", \"dios\", \"claro\", \"ni\\u00f1a\", \"decir\", \"d\\u00f3nde\", \"co\\u00f1o\", \"mano\", \"venga\", \"jodas\", \"cyril\", \"haces\", \"dice\", \"perd\\u00f3n\", \"voy\", \"deber\\u00edamos\", \"tener\", \"diez\", \"sarcasmobol\", \"jugar\", \"ah\", \"mierda\", \"bien\", \"ustedes\", \"juego\", \"genial\", \"coronel\", \"importa\", \"oro\", \"quilates\", \"diamantes\", \"entonces\", \"plan\", \"conway\", \"parece\", \"globo\", \"entrenador\", \"marsh\", \"ahora\", \"hago\", \"madre\", \"ser\", \"sarc\\u00e1stico\", \"armas\", \"oh\", \"siento\", \"chicos\", \"pap\\u00e1\", \"broncos\", \"tiempo\", \"oye\", \"va\", \"crees\", \"dicho\", \"c\\u00f3mo\", \"puede\", \"espera\", \"eh\", \"puedo\", \"quieren\", \"preocupes\", \"haber\", \"lugar\", \"hija\", \"aqu\\u00ed\", \"misi\\u00f3n\", \"lana\", \"mira\", \"solo\", \"ayuda\", \"slater\", \"da\", \"literalmente\", \"ver\", \"sarcasmo\", \"buscar\", \"tres\", \"d\\u00f3lares\", \"haciendo\", \"buen\", \"hace\", \"compasi\\u00f3n\", \"campo\", \"miren\", \"corbata\", \"hermosa\", \"stan\", \"muchas\", \"acerca\", \"vas\", \"mal\", \"equipo\", \"tan\", \"idiotas\", \"hijos\", \"puta\", \"toda\", \"todas\", \"negro\", \"bueno\", \"gracias\", \"disco\", \"van\", \"podemos\", \"hacer\", \"ido\", \"buena\", \"recuerdo\", \"vez\", \"visto\", \"cierto\", \"eric\", \"deber\\u00eda\", \"malo\", \"idiota\", \"verdad\", \"seguro\", \"iba\", \"cremoso\", \"jugadores\", \"mundo\", \"luego\", \"victoria\", \"dos\", \"hola\", \"dijo\", \"d\\u00eda\", \"vale\", \"digo\", \"cre\\u00eda\", \"seis\", \"mil\", \"baruk\", \"esp\\u00eda\", \"inteligencia\", \"abuelo\", \"futbol\", \"padre\", \"ni\\u00f1o\", \"fin\", \"joyas\", \"pueda\", \"cia\", \"siempre\", \"villy\", \"leche\", \"gente\", \"saber\", \"pa\\u00eds\", \"hijo\", \"trece\", \"pistola\", \"momento\", \"cu\\u00e1nto\", \"hecho\", \"pasado\", \"jugo\", \"butters\", \"beber\", \"mientras\", \"casa\", \"se\\u00f1or\", \"s\\u00e9\", \"dices\", \"quieres\", \"quiero\", \"vamos\", \"ni\\u00f1os\", \"espalda\", \"venganza\", \"jackson\", \"cree\", \"nfl\", \"unas\", \"veces\", \"aj\", \"pasa\", \"acuerdo\", \"noche\", \"todav\\u00eda\", \"denver\", \"regalo\", \"dinero\", \"gusta\", \"nunca\", \"sido\", \"cuesta\", \"piso\", \"cero\", \"supongo\", \"poker\", \"violencia\", \"necesito\", \"ma\\u00f1ana\", \"siquiera\", \"topo\", \"dentro\", \"idea\", \"dije\", \"cosas\", \"alguien\", \"hablando\", \"cago\", \"quer\\u00eda\", \"joder\", \"menos\", \"hoy\", \"amable\", \"sentimientos\", \"mismo\", \"canguro\", \"hablar\", \"tal\", \"caso\", \"c\\u00e1llate\", \"igual\", \"sterling\", \"seguridad\", \"qui\\u00e9n\", \"aunque\", \"negocio\", \"rid\\u00edculo\", \"argentina\", \"ca\\u00f1ero\", \"jugando\", \"sab\\u00eda\", \"cremosidad\", \"ley\", \"programa\", \"amigo\", \"aretes\", \"faux\", \"cuatorce\", \"capas\", \"ves\"], \"type\": \"scatter\", \"x\": [0.006015252321958542, 0.00432091299444437, 0.01137320976704359, -0.004112112335860729, 0.0018428366165608168, -0.005027563311159611, -0.012597333639860153, -0.0013708947226405144, -0.009178990498185158, -0.008020682260394096, 0.0075735291466116905, 0.003709611017256975, 0.008099207654595375, -0.011820345185697079, -0.005017481278628111, -0.01750774495303631, -0.008006339892745018, -0.01056386437267065, 0.007813707925379276, -0.0073473332449793816, 0.0029093935154378414, -0.009151831269264221, -0.007320347707718611, -0.012810259126126766, -0.0031310010235756636, -0.014469181187450886, -0.01659296452999115, -0.016899073496460915, -0.001510503119789064, 0.006455008871853352, 0.0022436343133449554, -0.02288113720715046, 0.017131993547081947, 0.002896546619012952, 0.004055797588080168, 0.020544031634926796, -0.016531800851225853, -0.013500556349754333, -0.020753363147377968, 0.0045097144320607185, 0.008076364174485207, 0.0343688428401947, -0.00015790403995197266, -0.0055793579667806625, -0.007837947458028793, 0.01777680031955242, 0.03457529470324516, 0.007228877395391464, -0.008492170833051205, -0.004605324938893318, -0.014369545504450798, 0.02335745096206665, 0.01949349045753479, 0.005044269375503063, 0.022677604109048843, 0.00615291204303503, 0.0018723602406680584, -0.004342685919255018, 0.0019287167815491557, 0.004746525548398495, -0.0008773637237027287, 0.008494370616972446, -0.017184792086482048, 0.006482403725385666, 0.003446063259616494, 0.014093965291976929, -0.0009910471271723509, 0.014864264987409115, 0.007948527112603188, -0.00844220444560051, -0.008655382320284843, 0.007951592095196247, -0.006236918270587921, 0.0066442047245800495, -0.013695664703845978, 0.011500023305416107, -0.009272956289350986, 0.004669492598623037, 0.004379216115921736, 0.006155400071293116, -0.0024172456469386816, 0.004400096833705902, -0.00872765388339758, -0.00016218432574532926, -0.015764912590384483, 0.0005098364199511707, -0.004424511920660734, -0.005990475416183472, -0.004455056972801685, -0.006423840299248695, 0.03396506980061531, -0.005295406561344862, 0.0026796769816428423, 0.007160872686654329, 0.00794912688434124, -0.004684550687670708, -0.006404304876923561, 0.0009330232860520482, -0.005614899564534426, 0.004983511287719011, 0.012337072752416134, 0.008334887214004993, -0.0010100970976054668, -0.004443613812327385, -0.00506255216896534, 0.021507147699594498, -0.007693292573094368, -0.009287627413868904, -0.0003154051082674414, 0.005822397768497467, -0.0017615582328289747, 0.002360742073506117, -0.002696097129955888, 0.006584309507161379, 0.004009017255157232, -0.02243334986269474, -0.004966494627296925, 0.0021880476269870996, 0.003316309070214629, -0.010928557254374027, -0.008645708672702312, 0.0004480138886719942, -0.013408933766186237, -0.005395600572228432, -0.007553784642368555, 0.0033726361580193043, 0.021581292152404785, 0.0014574455562978983, 0.009182796813547611, 0.0019324157619848847, -0.0009296774514950812, -0.015188772231340408, -0.003918888978660107, 0.01673245243728161, 0.003244801890105009, 0.010205341503024101, 0.006408647634088993, 0.0036171404644846916, -0.007104949094355106, -0.008385115303099155, 0.010798678733408451, -0.005491691641509533, 0.002210328122600913, -0.009970422834157944, -0.0007849484100006521, -0.01603247970342636, 0.004413011018186808, 0.02537900023162365, -0.016766436398029327, -0.0033489654306322336, -0.008967867121100426, 0.00589735759422183, 0.011921683326363564, 0.018416866660118103, 0.0007105647819116712, -0.011010666377842426, 0.0032259582076221704, 0.004867682233452797, -0.0032921943347901106, 0.009853622876107693, 0.008456363342702389, 0.00218970631249249, -0.0015827147290110588, 0.006103907246142626, -0.009057997725903988, -0.009686831384897232, 0.006522322539240122, 0.006148788146674633, -0.0034287036396563053, -0.005466643255203962, -0.002227189252153039, 0.0023776120506227016, -0.013996630907058716, 0.0007545112166553736, 0.01627001352608204, -0.0135986702516675, 0.01409000065177679, 0.0004063068190589547, -0.0002535019302740693, 0.013616835698485374, -0.00843093078583479, 0.0045228386297822, 0.011981520801782608, 0.005056430585682392, 0.00035551399923861027, -0.01031656377017498, -0.0031355172395706177, -0.014249172993004322, -0.008641610853374004, 0.002626899629831314, -0.010630370117723942, 0.05170585587620735, 0.0007261423743329942, -0.013524698093533516, -0.007718460634350777, 0.003907986916601658, -0.0009513823897577822, -0.0020132199861109257, -0.007010562811046839, -0.010012202896177769, -0.011987927369773388, -0.009982476010918617, 0.008210796862840652, -0.002866744762286544, -0.01085242722183466, 0.007801608648151159, -0.005278510507196188, -0.005243136081844568, -0.010554926469922066, -0.004464984871447086, -0.023080116137862206, 0.005020219832658768, -0.009395317174494267, -0.018897484987974167, 0.003414804581552744, -0.00485763605684042, -0.004949754569679499, 0.0010612615151330829, -0.01390698179602623, -0.011817236430943012, -0.00830022245645523, 0.00545861478894949, 0.006060054991394281, 0.00986474845558405, 0.011974737048149109, 0.02522876299917698, 0.015055103227496147, -0.0034309967886656523, 0.0032339608296751976, -0.01588764600455761, -0.0006701789097860456, 0.00431393226608634, -0.005825402680784464, 0.0006343103013932705, 0.01759219914674759, 0.005516365636140108, -0.0016406361246481538, -0.0039311000145971775, -0.015987923368811607, -0.017346737906336784, 0.000192780775250867, -0.009498469531536102, -0.01122172363102436, 0.003731712233275175, -0.014237877912819386, -0.005247647874057293, -0.017983824014663696, 0.03987254947423935, 0.04832463711500168, 0.02553490176796913, -0.010407495312392712, -0.006548397243022919], \"y\": [0.009881110861897469, -0.0002712504647206515, 0.02300667017698288, 0.0015294719487428665, -0.007212471216917038, 0.01605665124952793, -0.015400437638163567, 0.0038156299851834774, 0.0008764000958763063, 0.0006515223067253828, 0.0031422716565430164, 0.007544965948909521, 0.013356403447687626, -0.006702992599457502, 0.00456306291744113, -0.003277432406321168, 0.005787404719740152, 0.0017393941525369883, -0.0035345719661563635, -0.010059323161840439, -0.010223901830613613, 0.004025780130177736, 0.0026242341846227646, -0.004132435191422701, -0.011570006608963013, -0.00941092986613512, 0.018463246524333954, 0.010989722795784473, 0.015155230648815632, 0.0006505223573185503, 0.007146830670535564, 0.013068508356809616, 0.006961135193705559, -0.005550330504775047, 0.013080771081149578, -0.005157134961336851, 0.010191754437983036, 0.008247839286923409, -0.0009476084960624576, 0.007140565197914839, -0.007945291697978973, -0.007684606593102217, -0.0161933284252882, 0.009075400419533253, -0.0011106837773695588, -0.0008671900141052902, 0.007403333205729723, -0.01052352786064148, 0.009312030859291553, -0.004577793646603823, -0.009892537258565426, -0.009877176955342293, 0.0017540061380714178, 0.005913224071264267, -0.0004250229394529015, 0.007257196586579084, -0.015398538671433926, 0.0032041261438280344, -0.012574597261846066, -0.004640085622668266, 0.01043198723345995, -0.0012552504194900393, -0.015607621520757675, 0.004973664879798889, -0.0013983636163175106, -0.008368137292563915, 0.00361009337939322, -0.019671766087412834, -0.001993838232010603, 0.0017336128512397408, -0.012813566252589226, -0.0035677405539900064, -0.006916068959981203, -0.0011522409040480852, 0.001115298131480813, 0.01087330561131239, -0.008119462989270687, 0.00938613060861826, 0.004087542649358511, -0.003950406797230244, -0.011544466949999332, -0.015328433364629745, -0.0045868088491261005, 0.009905882179737091, -0.00043485898640938103, -0.011424161493778229, -0.0019508309196680784, -0.008772588334977627, 0.0018032386433333158, -0.0021805271971970797, -0.006142936646938324, 0.005276505369693041, 0.004852687008678913, -0.01141552533954382, -0.002878857310861349, -0.004039261024445295, 0.0015011305222287774, 0.0025900532491505146, -0.003653894877061248, 0.006138256751000881, -0.006253989413380623, 0.016403531655669212, -0.010674267075955868, -0.008514461107552052, -0.003953475970774889, 0.0003201646322850138, -0.008844411000609398, -0.011922487057745457, 0.007222539279609919, 0.0015312260948121548, -0.008994733914732933, -0.004113357979804277, 0.0010161381214857101, 0.0006551208207383752, 0.0018987251678481698, -0.00939339492470026, 0.001830696826800704, 0.005050334148108959, 1.190518287330633e-05, -0.012676355428993702, -0.009004362858831882, -0.006103291176259518, -0.003185450565069914, 0.015234000980854034, 0.01287996955215931, 0.00802967045456171, -0.0023669362999498844, -0.003127083647996187, 0.00046769468463025987, -0.0033924244344234467, 0.01132358517497778, -0.013241039589047432, -0.007157064974308014, -0.00087777926819399, 0.009405097924172878, 0.004781307186931372, -0.0022444804199039936, 0.004404063802212477, -0.005199877079576254, -0.008193625137209892, 0.0008957578102126718, 0.005947528872638941, 0.009144879877567291, -0.0006126987282186747, -0.010047205723822117, -0.01275146659463644, -0.009432084858417511, 0.006003655958920717, -0.007435708772391081, 0.002793337684124708, 0.011031275615096092, 0.005941456183791161, -0.013657370582222939, 0.008419230580329895, -0.00423729931935668, -0.008423139341175556, 0.006087386980652809, -0.008246971294283867, 0.006657302845269442, 0.0010604180861264467, 0.010061755776405334, 0.009415999986231327, 0.010083198547363281, 0.002024092013016343, 0.00027261293143965304, 0.007683111354708672, -0.00369214522652328, -0.0013888574903830886, -2.401950587227475e-05, 0.013015375472605228, 0.0015788257587701082, -0.0019143291283398867, -0.008633734658360481, 0.01973012462258339, 0.010100800544023514, 0.0072347973473370075, -0.007132474333047867, 0.005857881624251604, 0.012397660873830318, 0.008009376935660839, 0.006459665950387716, 0.013428719714283943, 0.0010286644101142883, -0.02044704370200634, 0.014558937400579453, -0.015333136543631554, -0.004137303214520216, 0.016786273568868637, 0.004432153422385454, -0.005147585179656744, 0.009203137829899788, -0.021428706124424934, -0.006018979009240866, -0.01256483606994152, 0.0035310673993080854, 0.007141735404729843, 0.009127880446612835, 0.009595549665391445, 0.00814936775714159, 0.003907621372491121, 0.0054836580529809, -0.008398418314754963, 0.00824190303683281, -0.001943629584275186, 0.002629108726978302, -0.016415851190686226, -0.004501855466514826, -0.005679475609213114, -0.004495890811085701, -0.005081611219793558, 0.0021833309438079596, -0.0024905044119805098, 0.011742214672267437, -0.002256413223221898, 0.004721721634268761, 0.008083155378699303, 0.00976356491446495, -0.007093621417880058, -0.00034507791860960424, -0.0026657574344426394, 0.00463865464553237, -0.0009026213665492833, 0.006999656558036804, -0.011135690845549107, -0.001207558554597199, 0.006161714904010296, -0.0034670077729970217, -0.008296413347125053, -0.005910675041377544, 0.011571468785405159, -0.010510423220694065, 0.003845737548545003, 0.0013546920381486416, 0.004765234421938658, 0.0075015537440776825, -0.007184324786067009, 0.009104602038860321, -0.013595668599009514, -0.0014637442072853446, 0.0039037331007421017, -0.005865567829459906, -0.01702851429581642, -0.0009498681756667793, -0.006565074436366558, -0.01095770113170147, 0.0007369348895736039, 0.005106692668050528, -0.007395908236503601, 0.016152622178196907, -0.00015486415941268206, 0.006522097624838352, 0.006055998615920544]}],                        {\"template\": {\"data\": {\"bar\": [{\"error_x\": {\"color\": \"#2a3f5f\"}, \"error_y\": {\"color\": \"#2a3f5f\"}, \"marker\": {\"line\": {\"color\": \"#E5ECF6\", \"width\": 0.5}}, \"type\": \"bar\"}], \"barpolar\": [{\"marker\": {\"line\": {\"color\": \"#E5ECF6\", \"width\": 0.5}}, \"type\": \"barpolar\"}], \"carpet\": [{\"aaxis\": {\"endlinecolor\": \"#2a3f5f\", \"gridcolor\": \"white\", \"linecolor\": \"white\", \"minorgridcolor\": \"white\", \"startlinecolor\": \"#2a3f5f\"}, \"baxis\": {\"endlinecolor\": \"#2a3f5f\", \"gridcolor\": \"white\", \"linecolor\": \"white\", \"minorgridcolor\": \"white\", \"startlinecolor\": \"#2a3f5f\"}, \"type\": \"carpet\"}], \"choropleth\": [{\"colorbar\": {\"outlinewidth\": 0, \"ticks\": \"\"}, \"type\": \"choropleth\"}], \"contour\": [{\"colorbar\": {\"outlinewidth\": 0, \"ticks\": \"\"}, \"colorscale\": [[0.0, \"#0d0887\"], [0.1111111111111111, \"#46039f\"], [0.2222222222222222, \"#7201a8\"], [0.3333333333333333, \"#9c179e\"], [0.4444444444444444, \"#bd3786\"], [0.5555555555555556, \"#d8576b\"], [0.6666666666666666, \"#ed7953\"], [0.7777777777777778, \"#fb9f3a\"], [0.8888888888888888, \"#fdca26\"], [1.0, \"#f0f921\"]], \"type\": \"contour\"}], \"contourcarpet\": [{\"colorbar\": {\"outlinewidth\": 0, \"ticks\": \"\"}, \"type\": \"contourcarpet\"}], \"heatmap\": [{\"colorbar\": {\"outlinewidth\": 0, \"ticks\": \"\"}, \"colorscale\": [[0.0, \"#0d0887\"], [0.1111111111111111, \"#46039f\"], [0.2222222222222222, \"#7201a8\"], [0.3333333333333333, \"#9c179e\"], [0.4444444444444444, \"#bd3786\"], [0.5555555555555556, \"#d8576b\"], [0.6666666666666666, \"#ed7953\"], [0.7777777777777778, \"#fb9f3a\"], [0.8888888888888888, \"#fdca26\"], [1.0, \"#f0f921\"]], \"type\": \"heatmap\"}], \"heatmapgl\": [{\"colorbar\": {\"outlinewidth\": 0, \"ticks\": \"\"}, \"colorscale\": [[0.0, \"#0d0887\"], [0.1111111111111111, \"#46039f\"], [0.2222222222222222, \"#7201a8\"], [0.3333333333333333, \"#9c179e\"], [0.4444444444444444, \"#bd3786\"], [0.5555555555555556, \"#d8576b\"], [0.6666666666666666, \"#ed7953\"], [0.7777777777777778, \"#fb9f3a\"], [0.8888888888888888, \"#fdca26\"], [1.0, \"#f0f921\"]], \"type\": \"heatmapgl\"}], \"histogram\": [{\"marker\": {\"colorbar\": {\"outlinewidth\": 0, \"ticks\": \"\"}}, \"type\": \"histogram\"}], \"histogram2d\": [{\"colorbar\": {\"outlinewidth\": 0, \"ticks\": \"\"}, \"colorscale\": [[0.0, \"#0d0887\"], [0.1111111111111111, \"#46039f\"], [0.2222222222222222, \"#7201a8\"], [0.3333333333333333, \"#9c179e\"], [0.4444444444444444, \"#bd3786\"], [0.5555555555555556, \"#d8576b\"], [0.6666666666666666, \"#ed7953\"], [0.7777777777777778, \"#fb9f3a\"], [0.8888888888888888, \"#fdca26\"], [1.0, \"#f0f921\"]], \"type\": \"histogram2d\"}], \"histogram2dcontour\": [{\"colorbar\": {\"outlinewidth\": 0, \"ticks\": \"\"}, \"colorscale\": [[0.0, \"#0d0887\"], [0.1111111111111111, \"#46039f\"], [0.2222222222222222, \"#7201a8\"], [0.3333333333333333, \"#9c179e\"], [0.4444444444444444, \"#bd3786\"], [0.5555555555555556, \"#d8576b\"], [0.6666666666666666, \"#ed7953\"], [0.7777777777777778, \"#fb9f3a\"], [0.8888888888888888, \"#fdca26\"], [1.0, \"#f0f921\"]], \"type\": \"histogram2dcontour\"}], \"mesh3d\": [{\"colorbar\": {\"outlinewidth\": 0, \"ticks\": \"\"}, \"type\": \"mesh3d\"}], \"parcoords\": [{\"line\": {\"colorbar\": {\"outlinewidth\": 0, \"ticks\": \"\"}}, \"type\": \"parcoords\"}], \"pie\": [{\"automargin\": true, \"type\": \"pie\"}], \"scatter\": [{\"marker\": {\"colorbar\": {\"outlinewidth\": 0, \"ticks\": \"\"}}, \"type\": \"scatter\"}], \"scatter3d\": [{\"line\": {\"colorbar\": {\"outlinewidth\": 0, \"ticks\": \"\"}}, \"marker\": {\"colorbar\": {\"outlinewidth\": 0, \"ticks\": \"\"}}, \"type\": \"scatter3d\"}], \"scattercarpet\": [{\"marker\": {\"colorbar\": {\"outlinewidth\": 0, \"ticks\": \"\"}}, \"type\": \"scattercarpet\"}], \"scattergeo\": [{\"marker\": {\"colorbar\": {\"outlinewidth\": 0, \"ticks\": \"\"}}, \"type\": \"scattergeo\"}], \"scattergl\": [{\"marker\": {\"colorbar\": {\"outlinewidth\": 0, \"ticks\": \"\"}}, \"type\": \"scattergl\"}], \"scattermapbox\": [{\"marker\": {\"colorbar\": {\"outlinewidth\": 0, \"ticks\": \"\"}}, \"type\": \"scattermapbox\"}], \"scatterpolar\": [{\"marker\": {\"colorbar\": {\"outlinewidth\": 0, \"ticks\": \"\"}}, \"type\": \"scatterpolar\"}], \"scatterpolargl\": [{\"marker\": {\"colorbar\": {\"outlinewidth\": 0, \"ticks\": \"\"}}, \"type\": \"scatterpolargl\"}], \"scatterternary\": [{\"marker\": {\"colorbar\": {\"outlinewidth\": 0, \"ticks\": \"\"}}, \"type\": \"scatterternary\"}], \"surface\": [{\"colorbar\": {\"outlinewidth\": 0, \"ticks\": \"\"}, \"colorscale\": [[0.0, \"#0d0887\"], [0.1111111111111111, \"#46039f\"], [0.2222222222222222, \"#7201a8\"], [0.3333333333333333, \"#9c179e\"], [0.4444444444444444, \"#bd3786\"], [0.5555555555555556, \"#d8576b\"], [0.6666666666666666, \"#ed7953\"], [0.7777777777777778, \"#fb9f3a\"], [0.8888888888888888, \"#fdca26\"], [1.0, \"#f0f921\"]], \"type\": \"surface\"}], \"table\": [{\"cells\": {\"fill\": {\"color\": \"#EBF0F8\"}, \"line\": {\"color\": \"white\"}}, \"header\": {\"fill\": {\"color\": \"#C8D4E3\"}, \"line\": {\"color\": \"white\"}}, \"type\": \"table\"}]}, \"layout\": {\"annotationdefaults\": {\"arrowcolor\": \"#2a3f5f\", \"arrowhead\": 0, \"arrowwidth\": 1}, \"coloraxis\": {\"colorbar\": {\"outlinewidth\": 0, \"ticks\": \"\"}}, \"colorscale\": {\"diverging\": [[0, \"#8e0152\"], [0.1, \"#c51b7d\"], [0.2, \"#de77ae\"], [0.3, \"#f1b6da\"], [0.4, \"#fde0ef\"], [0.5, \"#f7f7f7\"], [0.6, \"#e6f5d0\"], [0.7, \"#b8e186\"], [0.8, \"#7fbc41\"], [0.9, \"#4d9221\"], [1, \"#276419\"]], \"sequential\": [[0.0, \"#0d0887\"], [0.1111111111111111, \"#46039f\"], [0.2222222222222222, \"#7201a8\"], [0.3333333333333333, \"#9c179e\"], [0.4444444444444444, \"#bd3786\"], [0.5555555555555556, \"#d8576b\"], [0.6666666666666666, \"#ed7953\"], [0.7777777777777778, \"#fb9f3a\"], [0.8888888888888888, \"#fdca26\"], [1.0, \"#f0f921\"]], \"sequentialminus\": [[0.0, \"#0d0887\"], [0.1111111111111111, \"#46039f\"], [0.2222222222222222, \"#7201a8\"], [0.3333333333333333, \"#9c179e\"], [0.4444444444444444, \"#bd3786\"], [0.5555555555555556, \"#d8576b\"], [0.6666666666666666, \"#ed7953\"], [0.7777777777777778, \"#fb9f3a\"], [0.8888888888888888, \"#fdca26\"], [1.0, \"#f0f921\"]]}, \"colorway\": [\"#636efa\", \"#EF553B\", \"#00cc96\", \"#ab63fa\", \"#FFA15A\", \"#19d3f3\", \"#FF6692\", \"#B6E880\", \"#FF97FF\", \"#FECB52\"], \"font\": {\"color\": \"#2a3f5f\"}, \"geo\": {\"bgcolor\": \"white\", \"lakecolor\": \"white\", \"landcolor\": \"#E5ECF6\", \"showlakes\": true, \"showland\": true, \"subunitcolor\": \"white\"}, \"hoverlabel\": {\"align\": \"left\"}, \"hovermode\": \"closest\", \"mapbox\": {\"style\": \"light\"}, \"paper_bgcolor\": \"white\", \"plot_bgcolor\": \"#E5ECF6\", \"polar\": {\"angularaxis\": {\"gridcolor\": \"white\", \"linecolor\": \"white\", \"ticks\": \"\"}, \"bgcolor\": \"#E5ECF6\", \"radialaxis\": {\"gridcolor\": \"white\", \"linecolor\": \"white\", \"ticks\": \"\"}}, \"scene\": {\"xaxis\": {\"backgroundcolor\": \"#E5ECF6\", \"gridcolor\": \"white\", \"gridwidth\": 2, \"linecolor\": \"white\", \"showbackground\": true, \"ticks\": \"\", \"zerolinecolor\": \"white\"}, \"yaxis\": {\"backgroundcolor\": \"#E5ECF6\", \"gridcolor\": \"white\", \"gridwidth\": 2, \"linecolor\": \"white\", \"showbackground\": true, \"ticks\": \"\", \"zerolinecolor\": \"white\"}, \"zaxis\": {\"backgroundcolor\": \"#E5ECF6\", \"gridcolor\": \"white\", \"gridwidth\": 2, \"linecolor\": \"white\", \"showbackground\": true, \"ticks\": \"\", \"zerolinecolor\": \"white\"}}, \"shapedefaults\": {\"line\": {\"color\": \"#2a3f5f\"}}, \"ternary\": {\"aaxis\": {\"gridcolor\": \"white\", \"linecolor\": \"white\", \"ticks\": \"\"}, \"baxis\": {\"gridcolor\": \"white\", \"linecolor\": \"white\", \"ticks\": \"\"}, \"bgcolor\": \"#E5ECF6\", \"caxis\": {\"gridcolor\": \"white\", \"linecolor\": \"white\", \"ticks\": \"\"}}, \"title\": {\"x\": 0.05}, \"xaxis\": {\"automargin\": true, \"gridcolor\": \"white\", \"linecolor\": \"white\", \"ticks\": \"\", \"title\": {\"standoff\": 15}, \"zerolinecolor\": \"white\", \"zerolinewidth\": 2}, \"yaxis\": {\"automargin\": true, \"gridcolor\": \"white\", \"linecolor\": \"white\", \"ticks\": \"\", \"title\": {\"standoff\": 15}, \"zerolinecolor\": \"white\", \"zerolinewidth\": 2}}}, \"title\": {\"text\": \"PCA\"}},                        {\"responsive\": true}                    ).then(function(){\n",
       "                            \n",
       "var gd = document.getElementById('2d5045ea-5145-4cac-a04f-6fe6ec1630a2');\n",
       "var x = new MutationObserver(function (mutations, observer) {{\n",
       "        var display = window.getComputedStyle(gd).display;\n",
       "        if (!display || display === 'none') {{\n",
       "            console.log([gd, 'removed!']);\n",
       "            Plotly.purge(gd);\n",
       "            observer.disconnect();\n",
       "        }}\n",
       "}});\n",
       "\n",
       "// Listen for the removal of the full notebook cells\n",
       "var notebookContainer = gd.closest('#notebook-container');\n",
       "if (notebookContainer) {{\n",
       "    x.observe(notebookContainer, {childList: true});\n",
       "}}\n",
       "\n",
       "// Listen for the clearing of the current output cell\n",
       "var outputEl = gd.closest('.output');\n",
       "if (outputEl) {{\n",
       "    x.observe(outputEl, {childList: true});\n",
       "}}\n",
       "\n",
       "                        })                };                });            </script>        </div>"
      ]
     },
     "metadata": {},
     "output_type": "display_data"
    }
   ],
   "source": [
    "trace = go.Scatter(x=result['X'].values,\n",
    "                   y=result['Y'].values,\n",
    "                   text=result['Palabra'].values,\n",
    "                   mode='markers') \n",
    "\n",
    "layout = go.Layout(title=\"PCA\")\n",
    "\n",
    "fig = go.Figure(data=trace, layout=layout)\n",
    "iplot(fig)"
   ]
  },
  {
   "attachments": {
    "image.png": {
     "image/png": "[encoded data removed]"
    }
   },
   "cell_type": "markdown",
   "metadata": {},
   "source": [
    "# ¿Su modelo da buenos resultados? ¿Por qué sí o por qué no?\n",
    "\n",
    "_ Considero que mi modelo no arrojo buenos resultados por los datos utilizados. \"no existe similitudes entre las palabras\" \n",
    "\n",
    "\n",
    "# ¿Qué problemas encontró al realizar este taller?\n",
    "\n",
    "tuve varios inconvenientes para cargar los datos; Al final tuve que cargar datos utilizados en una clase anterior. cuando pude cargar los datos no podia aplicar el Word2Vec, no me permitia cargar las librerias gensim ni plotly.  \n",
    "\n",
    "#### Por dejar el taller a ultima hora! \n",
    "\n",
    "![image.png](attachment:image.png)\n",
    "\n",
    "\n"
   ]
  },
  {
   "cell_type": "code",
   "execution_count": null,
   "metadata": {},
   "outputs": [],
   "source": []
  }
 ],
 "metadata": {
  "kernelspec": {
   "display_name": "Python 3",
   "language": "python",
   "name": "python3"
  },
  "language_info": {
   "codemirror_mode": {
    "name": "ipython",
    "version": 3
   },
   "file_extension": ".py",
   "mimetype": "text/x-python",
   "name": "python",
   "nbconvert_exporter": "python",
   "pygments_lexer": "ipython3",
   "version": "3.8.3"
  }
 },
 "nbformat": 4,
 "nbformat_minor": 2
}
