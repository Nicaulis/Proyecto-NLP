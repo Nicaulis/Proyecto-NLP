{
 "cells": [
  {
   "cell_type": "markdown",
   "metadata": {},
   "source": [
    "<img src='https://encrypted-tbn0.gstatic.com/images?q=tbn%3AANd9GcQ-VfNtOyJbsaxu43Kztf_cv1mgBG6ZIQZEVw&usqp=CAU'>\n",
    "\n",
    "# Procesamiento de Lenguage Natural\n",
    "\n",
    "## Taller #10: Twitter\n",
    "`Fecha de entrega: Noviembre 14, 2020 (Antes del inicio de la próxima clase).`\n",
    "\n",
    "`Modo de entrega: Subir link de GitHub al aula virtual.`"
   ]
  },
  {
   "cell_type": "code",
   "execution_count": 4,
   "metadata": {},
   "outputs": [
    {
     "data": {
      "text/html": [
       "        <script type=\"text/javascript\">\n",
       "        window.PlotlyConfig = {MathJaxConfig: 'local'};\n",
       "        if (window.MathJax) {MathJax.Hub.Config({SVG: {font: \"STIX-Web\"}});}\n",
       "        if (typeof require !== 'undefined') {\n",
       "        require.undef(\"plotly\");\n",
       "        requirejs.config({\n",
       "            paths: {\n",
       "                'plotly': ['https://cdn.plot.ly/plotly-latest.min']\n",
       "            }\n",
       "        });\n",
       "        require(['plotly'], function(Plotly) {\n",
       "            window._Plotly = Plotly;\n",
       "        });\n",
       "        }\n",
       "        </script>\n",
       "        "
      ]
     },
     "metadata": {},
     "output_type": "display_data"
    }
   ],
   "source": [
    "# cargar librerias \n",
    "\n",
    "# Estos paquetes los usaremos para analizar y visualizar los resultados\n",
    "import pandas as pd\n",
    "import tweepy\n",
    "import re\n",
    "import regex\n",
    "\n",
    "# Libreias Plotly\n",
    "import plotly.io as pio\n",
    "import plotly.express as px\n",
    "import plotly.graph_objs as go\n",
    "from plotly.offline import download_plotlyjs, init_notebook_mode, plot, iplot\n",
    "\n",
    "import matplotlib.pyplot as plt\n",
    "%matplotlib inline\n",
    "init_notebook_mode(connected=True)\n",
    "\n",
    "from collections import Counter\n",
    "\n",
    "import urllib.parse\n",
    "import urllib.request\n",
    "import time\n",
    "import hmac\n",
    "import hashlib\n",
    "import random\n",
    "import base64\n",
    "import json\n",
    "\n",
    "# Este es un modulo local de Python que contiene las credenciales de acceso para Twitter\n",
    "import tweepy\n"
   ]
  },
  {
   "cell_type": "code",
   "execution_count": 5,
   "metadata": {},
   "outputs": [],
   "source": [
    "# Leer llaves\n",
    "keys = pd.read_csv(\"C:/Users/practicas/Desktop/Claves Tuit.csv\", header=None)\n",
    "keys= dict(zip(keys[0],keys[1]))"
   ]
  },
  {
   "cell_type": "code",
   "execution_count": 6,
   "metadata": {},
   "outputs": [],
   "source": [
    "# Autorizar a través API\n",
    "auth = tweepy.OAuthHandler(keys['api_key'],keys['api_secret_key'])\n",
    "auth.set_access_token(keys['access_token'], keys['access_token_secret'])\n",
    "api = tweepy.API(auth, wait_on_rate_limit=True) # se autoregula para recolectarinformacion"
   ]
  },
  {
   "cell_type": "markdown",
   "metadata": {},
   "source": [
    "###  `[25 pts]` Punto 1: Extraer Tuits\n",
    "Extraer mínimo 100 tuits de Twitter usando la API\n",
    "\n",
    "(Si exponen sus claves, les haré maldades 😈)\n",
    "\n",
    "❌🎃❌ ¡No Halloween!"
   ]
  },
  {
   "cell_type": "code",
   "execution_count": 7,
   "metadata": {},
   "outputs": [
    {
     "data": {
      "text/html": [
       "<div>\n",
       "<style scoped>\n",
       "    .dataframe tbody tr th:only-of-type {\n",
       "        vertical-align: middle;\n",
       "    }\n",
       "\n",
       "    .dataframe tbody tr th {\n",
       "        vertical-align: top;\n",
       "    }\n",
       "\n",
       "    .dataframe thead th {\n",
       "        text-align: right;\n",
       "    }\n",
       "</style>\n",
       "<table border=\"1\" class=\"dataframe\">\n",
       "  <thead>\n",
       "    <tr style=\"text-align: right;\">\n",
       "      <th></th>\n",
       "      <th>city</th>\n",
       "      <th>lat</th>\n",
       "      <th>lng</th>\n",
       "      <th>country</th>\n",
       "      <th>iso2</th>\n",
       "      <th>admin</th>\n",
       "      <th>capital</th>\n",
       "      <th>population</th>\n",
       "      <th>population_proper</th>\n",
       "    </tr>\n",
       "  </thead>\n",
       "  <tbody>\n",
       "    <tr>\n",
       "      <th>0</th>\n",
       "      <td>Bogotá</td>\n",
       "      <td>4.649178</td>\n",
       "      <td>-74.062827</td>\n",
       "      <td>Colombia</td>\n",
       "      <td>CO</td>\n",
       "      <td>Bogotá</td>\n",
       "      <td>primary</td>\n",
       "      <td>7772000.0</td>\n",
       "      <td>6333661.0</td>\n",
       "    </tr>\n",
       "    <tr>\n",
       "      <th>1</th>\n",
       "      <td>Medellín</td>\n",
       "      <td>6.251840</td>\n",
       "      <td>-75.563591</td>\n",
       "      <td>Colombia</td>\n",
       "      <td>CO</td>\n",
       "      <td>Antioquia</td>\n",
       "      <td>admin</td>\n",
       "      <td>3297000.0</td>\n",
       "      <td>1999979.0</td>\n",
       "    </tr>\n",
       "    <tr>\n",
       "      <th>2</th>\n",
       "      <td>Cali</td>\n",
       "      <td>3.437222</td>\n",
       "      <td>-76.522500</td>\n",
       "      <td>Colombia</td>\n",
       "      <td>CO</td>\n",
       "      <td>Valle del Cauca</td>\n",
       "      <td>admin</td>\n",
       "      <td>2254000.0</td>\n",
       "      <td>2178836.0</td>\n",
       "    </tr>\n",
       "    <tr>\n",
       "      <th>3</th>\n",
       "      <td>Barranquilla</td>\n",
       "      <td>10.963889</td>\n",
       "      <td>-74.796389</td>\n",
       "      <td>Colombia</td>\n",
       "      <td>CO</td>\n",
       "      <td>Atlántico</td>\n",
       "      <td>admin</td>\n",
       "      <td>1798000.0</td>\n",
       "      <td>1244491.0</td>\n",
       "    </tr>\n",
       "    <tr>\n",
       "      <th>4</th>\n",
       "      <td>Bucaramanga</td>\n",
       "      <td>7.125393</td>\n",
       "      <td>-73.119804</td>\n",
       "      <td>Colombia</td>\n",
       "      <td>CO</td>\n",
       "      <td>Santander</td>\n",
       "      <td>admin</td>\n",
       "      <td>1009000.0</td>\n",
       "      <td>571820.0</td>\n",
       "    </tr>\n",
       "  </tbody>\n",
       "</table>\n",
       "</div>"
      ],
      "text/plain": [
       "           city        lat        lng   country iso2            admin  \\\n",
       "0        Bogotá   4.649178 -74.062827  Colombia   CO           Bogotá   \n",
       "1      Medellín   6.251840 -75.563591  Colombia   CO        Antioquia   \n",
       "2          Cali   3.437222 -76.522500  Colombia   CO  Valle del Cauca   \n",
       "3  Barranquilla  10.963889 -74.796389  Colombia   CO        Atlántico   \n",
       "4   Bucaramanga   7.125393 -73.119804  Colombia   CO        Santander   \n",
       "\n",
       "   capital  population  population_proper  \n",
       "0  primary   7772000.0          6333661.0  \n",
       "1    admin   3297000.0          1999979.0  \n",
       "2    admin   2254000.0          2178836.0  \n",
       "3    admin   1798000.0          1244491.0  \n",
       "4    admin   1009000.0           571820.0  "
      ]
     },
     "execution_count": 7,
     "metadata": {},
     "output_type": "execute_result"
    }
   ],
   "source": [
    "# Cargar archivo ciudades lat\tln bogota\n",
    "ciudades = pd.read_csv(\"C:/Users/practicas/Documents/co_small.csv\")\n",
    "ciudades.head()"
   ]
  },
  {
   "cell_type": "code",
   "execution_count": 8,
   "metadata": {},
   "outputs": [],
   "source": [
    "tweets = tweepy.Cursor(api.search,\n",
    "                       q=['Seleccion colombia 2020 -RT'], # RT no incluir los retuis\n",
    "                       lang='es', # solo tui en español\n",
    "                           geocode=f'4.649178,-74.062827,45mi', #direccion geografica  bogota cambia a la que se quiera\n",
    "                       tweet_mode='extended', # para que no recorte los texto del tuit\n",
    "                       include_rts=False).items(100) # limitar el numero de twitwes"
   ]
  },
  {
   "cell_type": "code",
   "execution_count": 9,
   "metadata": {},
   "outputs": [],
   "source": [
    "t = []\n",
    "\n",
    "\n",
    "for tweet in tweets:\n",
    "    temp = []\n",
    "    temp.append(tweet.full_text)\n",
    "    temp.append(tweet.created_at)\n",
    "    temp.append(\"Bogotá\")\n",
    "    temp.append(tweet.user.location)\n",
    "    temp.append(tweet.place)\n",
    "    temp.append(tweet.coordinates)\n",
    "    temp.append(tweet.id)\n",
    "    temp.append(f\"https://twitter.com/i/web/status/{tweet.id}\")\n",
    "    \n",
    "    t.append(temp)\n"
   ]
  },
  {
   "cell_type": "code",
   "execution_count": 10,
   "metadata": {
    "scrolled": true
   },
   "outputs": [
    {
     "data": {
      "text/html": [
       "<div>\n",
       "<style scoped>\n",
       "    .dataframe tbody tr th:only-of-type {\n",
       "        vertical-align: middle;\n",
       "    }\n",
       "\n",
       "    .dataframe tbody tr th {\n",
       "        vertical-align: top;\n",
       "    }\n",
       "\n",
       "    .dataframe thead th {\n",
       "        text-align: right;\n",
       "    }\n",
       "</style>\n",
       "<table border=\"1\" class=\"dataframe\">\n",
       "  <thead>\n",
       "    <tr style=\"text-align: right;\">\n",
       "      <th></th>\n",
       "      <th>tweet</th>\n",
       "      <th>date</th>\n",
       "      <th>city</th>\n",
       "      <th>user_location</th>\n",
       "      <th>place</th>\n",
       "      <th>coordinates</th>\n",
       "      <th>id</th>\n",
       "      <th>link</th>\n",
       "    </tr>\n",
       "  </thead>\n",
       "  <tbody>\n",
       "    <tr>\n",
       "      <th>0</th>\n",
       "      <td>A propósito del fútbol... \\n\"Selección Colombi...</td>\n",
       "      <td>2020-11-11 22:30:42</td>\n",
       "      <td>Bogotá</td>\n",
       "      <td>Bogotá, Colombia</td>\n",
       "      <td>None</td>\n",
       "      <td>None</td>\n",
       "      <td>1326653605093519367</td>\n",
       "      <td>https://twitter.com/i/web/status/1326653605093...</td>\n",
       "    </tr>\n",
       "    <tr>\n",
       "      <th>1</th>\n",
       "      <td>#SelecciónColombia\\n\\nEl lateral derecho quedó...</td>\n",
       "      <td>2020-11-11 14:01:36</td>\n",
       "      <td>Bogotá</td>\n",
       "      <td>Bogotá</td>\n",
       "      <td>None</td>\n",
       "      <td>None</td>\n",
       "      <td>1326525485585739777</td>\n",
       "      <td>https://twitter.com/i/web/status/1326525485585...</td>\n",
       "    </tr>\n",
       "    <tr>\n",
       "      <th>2</th>\n",
       "      <td>David Ospina podría ser baja de la Selección C...</td>\n",
       "      <td>2020-11-10 23:52:17</td>\n",
       "      <td>Bogotá</td>\n",
       "      <td>Colombia, Bogotá</td>\n",
       "      <td>None</td>\n",
       "      <td>None</td>\n",
       "      <td>1326311749956497408</td>\n",
       "      <td>https://twitter.com/i/web/status/1326311749956...</td>\n",
       "    </tr>\n",
       "    <tr>\n",
       "      <th>3</th>\n",
       "      <td>Procesos de #Reclutamiento y Selección Inclusi...</td>\n",
       "      <td>2020-11-10 15:36:00</td>\n",
       "      <td>Bogotá</td>\n",
       "      <td>Bogotá</td>\n",
       "      <td>None</td>\n",
       "      <td>None</td>\n",
       "      <td>1326186854991994880</td>\n",
       "      <td>https://twitter.com/i/web/status/1326186854991...</td>\n",
       "    </tr>\n",
       "    <tr>\n",
       "      <th>4</th>\n",
       "      <td>Álvaro Montero del #DeportesTolima /D|T\\ fue e...</td>\n",
       "      <td>2020-11-10 02:22:08</td>\n",
       "      <td>Bogotá</td>\n",
       "      <td>Ibagué - Tolima</td>\n",
       "      <td>None</td>\n",
       "      <td>None</td>\n",
       "      <td>1325987073267036160</td>\n",
       "      <td>https://twitter.com/i/web/status/1325987073267...</td>\n",
       "    </tr>\n",
       "    <tr>\n",
       "      <th>5</th>\n",
       "      <td>Luis Suárez y otras 7 variantes hizo Carlos Qu...</td>\n",
       "      <td>2020-11-09 21:40:03</td>\n",
       "      <td>Bogotá</td>\n",
       "      <td>Bogotá, Colombia</td>\n",
       "      <td>None</td>\n",
       "      <td>None</td>\n",
       "      <td>1325916085959462913</td>\n",
       "      <td>https://twitter.com/i/web/status/1325916085959...</td>\n",
       "    </tr>\n",
       "    <tr>\n",
       "      <th>6</th>\n",
       "      <td>#SelecciónColombia\\n#VamosColombia\\n\\nEl entre...</td>\n",
       "      <td>2020-11-09 21:00:22</td>\n",
       "      <td>Bogotá</td>\n",
       "      <td>Bogotá</td>\n",
       "      <td>None</td>\n",
       "      <td>None</td>\n",
       "      <td>1325906097878806529</td>\n",
       "      <td>https://twitter.com/i/web/status/1325906097878...</td>\n",
       "    </tr>\n",
       "    <tr>\n",
       "      <th>7</th>\n",
       "      <td>Procesos de #Reclutamiento y Selección Inclusi...</td>\n",
       "      <td>2020-11-09 15:36:00</td>\n",
       "      <td>Bogotá</td>\n",
       "      <td>Bogotá</td>\n",
       "      <td>None</td>\n",
       "      <td>None</td>\n",
       "      <td>1325824467092688898</td>\n",
       "      <td>https://twitter.com/i/web/status/1325824467092...</td>\n",
       "    </tr>\n",
       "    <tr>\n",
       "      <th>8</th>\n",
       "      <td>#Deporte | Del 10 al 15 de noviembre cerca de ...</td>\n",
       "      <td>2020-11-09 13:05:51</td>\n",
       "      <td>Bogotá</td>\n",
       "      <td>Ibague, Tolima</td>\n",
       "      <td>None</td>\n",
       "      <td>None</td>\n",
       "      <td>1325786682894012416</td>\n",
       "      <td>https://twitter.com/i/web/status/1325786682894...</td>\n",
       "    </tr>\n",
       "    <tr>\n",
       "      <th>9</th>\n",
       "      <td>#DeporteReactiva | Cerca de 200 deportistas de...</td>\n",
       "      <td>2020-11-09 12:26:33</td>\n",
       "      <td>Bogotá</td>\n",
       "      <td>Ibagué, Colombia</td>\n",
       "      <td>None</td>\n",
       "      <td>None</td>\n",
       "      <td>1325776790992908288</td>\n",
       "      <td>https://twitter.com/i/web/status/1325776790992...</td>\n",
       "    </tr>\n",
       "    <tr>\n",
       "      <th>10</th>\n",
       "      <td>Selección Colombia: Los convocados por Queiroz...</td>\n",
       "      <td>2020-11-09 09:45:23</td>\n",
       "      <td>Bogotá</td>\n",
       "      <td>Colombia, Bogotá</td>\n",
       "      <td>None</td>\n",
       "      <td>None</td>\n",
       "      <td>1325736234367344640</td>\n",
       "      <td>https://twitter.com/i/web/status/1325736234367...</td>\n",
       "    </tr>\n",
       "    <tr>\n",
       "      <th>11</th>\n",
       "      <td>Las posibles formaciones de Colombia ante Urug...</td>\n",
       "      <td>2020-11-09 01:09:10</td>\n",
       "      <td>Bogotá</td>\n",
       "      <td>Bogotá, Colombia</td>\n",
       "      <td>None</td>\n",
       "      <td>None</td>\n",
       "      <td>1325606320628752386</td>\n",
       "      <td>https://twitter.com/i/web/status/1325606320628...</td>\n",
       "    </tr>\n",
       "    <tr>\n",
       "      <th>12</th>\n",
       "      <td>#Deportes Queiroz entregó los convocados de la...</td>\n",
       "      <td>2020-11-09 00:40:00</td>\n",
       "      <td>Bogotá</td>\n",
       "      <td>Bogotá - Colombia</td>\n",
       "      <td>None</td>\n",
       "      <td>None</td>\n",
       "      <td>1325598981150314496</td>\n",
       "      <td>https://twitter.com/i/web/status/1325598981150...</td>\n",
       "    </tr>\n",
       "    <tr>\n",
       "      <th>13</th>\n",
       "      <td>¡Carlos Queiroz volvió a sorprender! Además de...</td>\n",
       "      <td>2020-11-08 23:29:46</td>\n",
       "      <td>Bogotá</td>\n",
       "      <td>Bogotá</td>\n",
       "      <td>None</td>\n",
       "      <td>None</td>\n",
       "      <td>1325581307116711936</td>\n",
       "      <td>https://twitter.com/i/web/status/1325581307116...</td>\n",
       "    </tr>\n",
       "    <tr>\n",
       "      <th>14</th>\n",
       "      <td>⚠️ #ATENCIÓN \\n\\nÁlvaro Montero, del DEPORTES ...</td>\n",
       "      <td>2020-11-08 21:20:00</td>\n",
       "      <td>Bogotá</td>\n",
       "      <td>Ibagué, Tolima</td>\n",
       "      <td>None</td>\n",
       "      <td>None</td>\n",
       "      <td>1325548649481375744</td>\n",
       "      <td>https://twitter.com/i/web/status/1325548649481...</td>\n",
       "    </tr>\n",
       "    <tr>\n",
       "      <th>15</th>\n",
       "      <td>¡Muchos se están encomendando a lo que pase en...</td>\n",
       "      <td>2020-11-08 20:58:41</td>\n",
       "      <td>Bogotá</td>\n",
       "      <td>Bogotá</td>\n",
       "      <td>None</td>\n",
       "      <td>None</td>\n",
       "      <td>1325543284719177734</td>\n",
       "      <td>https://twitter.com/i/web/status/1325543284719...</td>\n",
       "    </tr>\n",
       "    <tr>\n",
       "      <th>16</th>\n",
       "      <td>Procesos de #Reclutamiento y Selección Inclusi...</td>\n",
       "      <td>2020-11-08 15:35:00</td>\n",
       "      <td>Bogotá</td>\n",
       "      <td>Bogotá</td>\n",
       "      <td>None</td>\n",
       "      <td>None</td>\n",
       "      <td>1325461827623374853</td>\n",
       "      <td>https://twitter.com/i/web/status/1325461827623...</td>\n",
       "    </tr>\n",
       "    <tr>\n",
       "      <th>17</th>\n",
       "      <td>#VFemenina2020 | 🚴🏻‍♀️🇨🇴 TOP 3 CG de la Vuelta...</td>\n",
       "      <td>2020-11-07 17:23:13</td>\n",
       "      <td>Bogotá</td>\n",
       "      <td>Bogota, Colombia</td>\n",
       "      <td>None</td>\n",
       "      <td>None</td>\n",
       "      <td>1325126673734397954</td>\n",
       "      <td>https://twitter.com/i/web/status/1325126673734...</td>\n",
       "    </tr>\n",
       "    <tr>\n",
       "      <th>18</th>\n",
       "      <td>#VFemenina2020 | 🚴🏻‍♀️🇨🇴 TOP 3 Etapa 1 de la V...</td>\n",
       "      <td>2020-11-07 17:20:31</td>\n",
       "      <td>Bogotá</td>\n",
       "      <td>Bogota, Colombia</td>\n",
       "      <td>None</td>\n",
       "      <td>None</td>\n",
       "      <td>1325125993028345857</td>\n",
       "      <td>https://twitter.com/i/web/status/1325125993028...</td>\n",
       "    </tr>\n",
       "    <tr>\n",
       "      <th>19</th>\n",
       "      <td>Procesos de #Reclutamiento y Selección Inclusi...</td>\n",
       "      <td>2020-11-07 16:34:00</td>\n",
       "      <td>Bogotá</td>\n",
       "      <td>Bogotá</td>\n",
       "      <td>None</td>\n",
       "      <td>None</td>\n",
       "      <td>1325114287631708162</td>\n",
       "      <td>https://twitter.com/i/web/status/1325114287631...</td>\n",
       "    </tr>\n",
       "    <tr>\n",
       "      <th>20</th>\n",
       "      <td>El 10 de la Selección Colombia vuelve a las ca...</td>\n",
       "      <td>2020-11-07 06:00:00</td>\n",
       "      <td>Bogotá</td>\n",
       "      <td>Bogotá</td>\n",
       "      <td>None</td>\n",
       "      <td>None</td>\n",
       "      <td>1324954736706035712</td>\n",
       "      <td>https://twitter.com/i/web/status/1324954736706...</td>\n",
       "    </tr>\n",
       "    <tr>\n",
       "      <th>21</th>\n",
       "      <td>Preocupación en la Selección Colombia por caso...</td>\n",
       "      <td>2020-11-06 21:54:13</td>\n",
       "      <td>Bogotá</td>\n",
       "      <td>Bogotá, Colombia</td>\n",
       "      <td>None</td>\n",
       "      <td>None</td>\n",
       "      <td>1324832484845101063</td>\n",
       "      <td>https://twitter.com/i/web/status/1324832484845...</td>\n",
       "    </tr>\n",
       "    <tr>\n",
       "      <th>22</th>\n",
       "      <td>Juan Pablo Vargas convocado a la Selección de ...</td>\n",
       "      <td>2020-11-06 21:01:36</td>\n",
       "      <td>Bogotá</td>\n",
       "      <td>Bogotá.</td>\n",
       "      <td>None</td>\n",
       "      <td>None</td>\n",
       "      <td>1324819242756309002</td>\n",
       "      <td>https://twitter.com/i/web/status/1324819242756...</td>\n",
       "    </tr>\n",
       "    <tr>\n",
       "      <th>23</th>\n",
       "      <td>El 10 de la Selección Colombia @jamesdrodrigue...</td>\n",
       "      <td>2020-11-06 17:35:50</td>\n",
       "      <td>Bogotá</td>\n",
       "      <td>Bogotá</td>\n",
       "      <td>None</td>\n",
       "      <td>None</td>\n",
       "      <td>1324767461435183104</td>\n",
       "      <td>https://twitter.com/i/web/status/1324767461435...</td>\n",
       "    </tr>\n",
       "    <tr>\n",
       "      <th>24</th>\n",
       "      <td>Procesos de #Reclutamiento y Selección Inclusi...</td>\n",
       "      <td>2020-11-06 15:34:00</td>\n",
       "      <td>Bogotá</td>\n",
       "      <td>Bogotá</td>\n",
       "      <td>None</td>\n",
       "      <td>None</td>\n",
       "      <td>1324736800556945409</td>\n",
       "      <td>https://twitter.com/i/web/status/1324736800556...</td>\n",
       "    </tr>\n",
       "    <tr>\n",
       "      <th>25</th>\n",
       "      <td>Selección Colombia: Confirman positivo de Covi...</td>\n",
       "      <td>2020-11-06 14:53:37</td>\n",
       "      <td>Bogotá</td>\n",
       "      <td>Colombia, Bogotá</td>\n",
       "      <td>None</td>\n",
       "      <td>None</td>\n",
       "      <td>1324726639771619329</td>\n",
       "      <td>https://twitter.com/i/web/status/1324726639771...</td>\n",
       "    </tr>\n",
       "    <tr>\n",
       "      <th>26</th>\n",
       "      <td>¡Atención! Anuncian caso positivo de COVID-19 ...</td>\n",
       "      <td>2020-11-06 13:55:46</td>\n",
       "      <td>Bogotá</td>\n",
       "      <td>Bogotá</td>\n",
       "      <td>None</td>\n",
       "      <td>None</td>\n",
       "      <td>1324712079958380546</td>\n",
       "      <td>https://twitter.com/i/web/status/1324712079958...</td>\n",
       "    </tr>\n",
       "    <tr>\n",
       "      <th>27</th>\n",
       "      <td>Procesos de #Reclutamiento y Selección Inclusi...</td>\n",
       "      <td>2020-11-05 15:33:00</td>\n",
       "      <td>Bogotá</td>\n",
       "      <td>Bogotá</td>\n",
       "      <td>None</td>\n",
       "      <td>None</td>\n",
       "      <td>1324374160898863104</td>\n",
       "      <td>https://twitter.com/i/web/status/1324374160898...</td>\n",
       "    </tr>\n",
       "    <tr>\n",
       "      <th>28</th>\n",
       "      <td>Procesos de #Reclutamiento y Selección Inclusi...</td>\n",
       "      <td>2020-11-04 15:33:00</td>\n",
       "      <td>Bogotá</td>\n",
       "      <td>Bogotá</td>\n",
       "      <td>None</td>\n",
       "      <td>None</td>\n",
       "      <td>1324011772878225410</td>\n",
       "      <td>https://twitter.com/i/web/status/1324011772878...</td>\n",
       "    </tr>\n",
       "    <tr>\n",
       "      <th>29</th>\n",
       "      <td>Procesos de #Reclutamiento y Selección Inclusi...</td>\n",
       "      <td>2020-11-03 15:12:43</td>\n",
       "      <td>Bogotá</td>\n",
       "      <td>Bogotá</td>\n",
       "      <td>None</td>\n",
       "      <td>None</td>\n",
       "      <td>1323644279881900043</td>\n",
       "      <td>https://twitter.com/i/web/status/1323644279881...</td>\n",
       "    </tr>\n",
       "  </tbody>\n",
       "</table>\n",
       "</div>"
      ],
      "text/plain": [
       "                                                tweet                date  \\\n",
       "0   A propósito del fútbol... \\n\"Selección Colombi... 2020-11-11 22:30:42   \n",
       "1   #SelecciónColombia\\n\\nEl lateral derecho quedó... 2020-11-11 14:01:36   \n",
       "2   David Ospina podría ser baja de la Selección C... 2020-11-10 23:52:17   \n",
       "3   Procesos de #Reclutamiento y Selección Inclusi... 2020-11-10 15:36:00   \n",
       "4   Álvaro Montero del #DeportesTolima /D|T\\ fue e... 2020-11-10 02:22:08   \n",
       "5   Luis Suárez y otras 7 variantes hizo Carlos Qu... 2020-11-09 21:40:03   \n",
       "6   #SelecciónColombia\\n#VamosColombia\\n\\nEl entre... 2020-11-09 21:00:22   \n",
       "7   Procesos de #Reclutamiento y Selección Inclusi... 2020-11-09 15:36:00   \n",
       "8   #Deporte | Del 10 al 15 de noviembre cerca de ... 2020-11-09 13:05:51   \n",
       "9   #DeporteReactiva | Cerca de 200 deportistas de... 2020-11-09 12:26:33   \n",
       "10  Selección Colombia: Los convocados por Queiroz... 2020-11-09 09:45:23   \n",
       "11  Las posibles formaciones de Colombia ante Urug... 2020-11-09 01:09:10   \n",
       "12  #Deportes Queiroz entregó los convocados de la... 2020-11-09 00:40:00   \n",
       "13  ¡Carlos Queiroz volvió a sorprender! Además de... 2020-11-08 23:29:46   \n",
       "14  ⚠️ #ATENCIÓN \\n\\nÁlvaro Montero, del DEPORTES ... 2020-11-08 21:20:00   \n",
       "15  ¡Muchos se están encomendando a lo que pase en... 2020-11-08 20:58:41   \n",
       "16  Procesos de #Reclutamiento y Selección Inclusi... 2020-11-08 15:35:00   \n",
       "17  #VFemenina2020 | 🚴🏻‍♀️🇨🇴 TOP 3 CG de la Vuelta... 2020-11-07 17:23:13   \n",
       "18  #VFemenina2020 | 🚴🏻‍♀️🇨🇴 TOP 3 Etapa 1 de la V... 2020-11-07 17:20:31   \n",
       "19  Procesos de #Reclutamiento y Selección Inclusi... 2020-11-07 16:34:00   \n",
       "20  El 10 de la Selección Colombia vuelve a las ca... 2020-11-07 06:00:00   \n",
       "21  Preocupación en la Selección Colombia por caso... 2020-11-06 21:54:13   \n",
       "22  Juan Pablo Vargas convocado a la Selección de ... 2020-11-06 21:01:36   \n",
       "23  El 10 de la Selección Colombia @jamesdrodrigue... 2020-11-06 17:35:50   \n",
       "24  Procesos de #Reclutamiento y Selección Inclusi... 2020-11-06 15:34:00   \n",
       "25  Selección Colombia: Confirman positivo de Covi... 2020-11-06 14:53:37   \n",
       "26  ¡Atención! Anuncian caso positivo de COVID-19 ... 2020-11-06 13:55:46   \n",
       "27  Procesos de #Reclutamiento y Selección Inclusi... 2020-11-05 15:33:00   \n",
       "28  Procesos de #Reclutamiento y Selección Inclusi... 2020-11-04 15:33:00   \n",
       "29  Procesos de #Reclutamiento y Selección Inclusi... 2020-11-03 15:12:43   \n",
       "\n",
       "      city      user_location place coordinates                   id  \\\n",
       "0   Bogotá   Bogotá, Colombia  None        None  1326653605093519367   \n",
       "1   Bogotá             Bogotá  None        None  1326525485585739777   \n",
       "2   Bogotá   Colombia, Bogotá  None        None  1326311749956497408   \n",
       "3   Bogotá             Bogotá  None        None  1326186854991994880   \n",
       "4   Bogotá    Ibagué - Tolima  None        None  1325987073267036160   \n",
       "5   Bogotá   Bogotá, Colombia  None        None  1325916085959462913   \n",
       "6   Bogotá             Bogotá  None        None  1325906097878806529   \n",
       "7   Bogotá             Bogotá  None        None  1325824467092688898   \n",
       "8   Bogotá     Ibague, Tolima  None        None  1325786682894012416   \n",
       "9   Bogotá   Ibagué, Colombia  None        None  1325776790992908288   \n",
       "10  Bogotá   Colombia, Bogotá  None        None  1325736234367344640   \n",
       "11  Bogotá   Bogotá, Colombia  None        None  1325606320628752386   \n",
       "12  Bogotá  Bogotá - Colombia  None        None  1325598981150314496   \n",
       "13  Bogotá             Bogotá  None        None  1325581307116711936   \n",
       "14  Bogotá     Ibagué, Tolima  None        None  1325548649481375744   \n",
       "15  Bogotá             Bogotá  None        None  1325543284719177734   \n",
       "16  Bogotá             Bogotá  None        None  1325461827623374853   \n",
       "17  Bogotá   Bogota, Colombia  None        None  1325126673734397954   \n",
       "18  Bogotá   Bogota, Colombia  None        None  1325125993028345857   \n",
       "19  Bogotá             Bogotá  None        None  1325114287631708162   \n",
       "20  Bogotá             Bogotá  None        None  1324954736706035712   \n",
       "21  Bogotá   Bogotá, Colombia  None        None  1324832484845101063   \n",
       "22  Bogotá            Bogotá.  None        None  1324819242756309002   \n",
       "23  Bogotá             Bogotá  None        None  1324767461435183104   \n",
       "24  Bogotá             Bogotá  None        None  1324736800556945409   \n",
       "25  Bogotá   Colombia, Bogotá  None        None  1324726639771619329   \n",
       "26  Bogotá             Bogotá  None        None  1324712079958380546   \n",
       "27  Bogotá             Bogotá  None        None  1324374160898863104   \n",
       "28  Bogotá             Bogotá  None        None  1324011772878225410   \n",
       "29  Bogotá             Bogotá  None        None  1323644279881900043   \n",
       "\n",
       "                                                 link  \n",
       "0   https://twitter.com/i/web/status/1326653605093...  \n",
       "1   https://twitter.com/i/web/status/1326525485585...  \n",
       "2   https://twitter.com/i/web/status/1326311749956...  \n",
       "3   https://twitter.com/i/web/status/1326186854991...  \n",
       "4   https://twitter.com/i/web/status/1325987073267...  \n",
       "5   https://twitter.com/i/web/status/1325916085959...  \n",
       "6   https://twitter.com/i/web/status/1325906097878...  \n",
       "7   https://twitter.com/i/web/status/1325824467092...  \n",
       "8   https://twitter.com/i/web/status/1325786682894...  \n",
       "9   https://twitter.com/i/web/status/1325776790992...  \n",
       "10  https://twitter.com/i/web/status/1325736234367...  \n",
       "11  https://twitter.com/i/web/status/1325606320628...  \n",
       "12  https://twitter.com/i/web/status/1325598981150...  \n",
       "13  https://twitter.com/i/web/status/1325581307116...  \n",
       "14  https://twitter.com/i/web/status/1325548649481...  \n",
       "15  https://twitter.com/i/web/status/1325543284719...  \n",
       "16  https://twitter.com/i/web/status/1325461827623...  \n",
       "17  https://twitter.com/i/web/status/1325126673734...  \n",
       "18  https://twitter.com/i/web/status/1325125993028...  \n",
       "19  https://twitter.com/i/web/status/1325114287631...  \n",
       "20  https://twitter.com/i/web/status/1324954736706...  \n",
       "21  https://twitter.com/i/web/status/1324832484845...  \n",
       "22  https://twitter.com/i/web/status/1324819242756...  \n",
       "23  https://twitter.com/i/web/status/1324767461435...  \n",
       "24  https://twitter.com/i/web/status/1324736800556...  \n",
       "25  https://twitter.com/i/web/status/1324726639771...  \n",
       "26  https://twitter.com/i/web/status/1324712079958...  \n",
       "27  https://twitter.com/i/web/status/1324374160898...  \n",
       "28  https://twitter.com/i/web/status/1324011772878...  \n",
       "29  https://twitter.com/i/web/status/1323644279881...  "
      ]
     },
     "execution_count": 10,
     "metadata": {},
     "output_type": "execute_result"
    }
   ],
   "source": [
    "data = pd.DataFrame(t)\n",
    "data.columns = ['tweet', 'date', 'city', 'user_location', 'place', 'coordinates', 'id', 'link']\n",
    "data"
   ]
  },
  {
   "cell_type": "markdown",
   "metadata": {},
   "source": [
    "# Pre_ Prosesamiento twiters"
   ]
  },
  {
   "cell_type": "code",
   "execution_count": 11,
   "metadata": {},
   "outputs": [
    {
     "data": {
      "text/html": [
       "<div>\n",
       "<style scoped>\n",
       "    .dataframe tbody tr th:only-of-type {\n",
       "        vertical-align: middle;\n",
       "    }\n",
       "\n",
       "    .dataframe tbody tr th {\n",
       "        vertical-align: top;\n",
       "    }\n",
       "\n",
       "    .dataframe thead th {\n",
       "        text-align: right;\n",
       "    }\n",
       "</style>\n",
       "<table border=\"1\" class=\"dataframe\">\n",
       "  <thead>\n",
       "    <tr style=\"text-align: right;\">\n",
       "      <th></th>\n",
       "      <th>tweet</th>\n",
       "      <th>date</th>\n",
       "      <th>city</th>\n",
       "    </tr>\n",
       "  </thead>\n",
       "  <tbody>\n",
       "    <tr>\n",
       "      <th>0</th>\n",
       "      <td>A propósito del fútbol... \\n\"Selección Colombi...</td>\n",
       "      <td>2020-11-11 22:30:42</td>\n",
       "      <td>Bogotá</td>\n",
       "    </tr>\n",
       "    <tr>\n",
       "      <th>1</th>\n",
       "      <td>#SelecciónColombia\\n\\nEl lateral derecho quedó...</td>\n",
       "      <td>2020-11-11 14:01:36</td>\n",
       "      <td>Bogotá</td>\n",
       "    </tr>\n",
       "    <tr>\n",
       "      <th>2</th>\n",
       "      <td>David Ospina podría ser baja de la Selección C...</td>\n",
       "      <td>2020-11-10 23:52:17</td>\n",
       "      <td>Bogotá</td>\n",
       "    </tr>\n",
       "    <tr>\n",
       "      <th>3</th>\n",
       "      <td>Procesos de #Reclutamiento y Selección Inclusi...</td>\n",
       "      <td>2020-11-10 15:36:00</td>\n",
       "      <td>Bogotá</td>\n",
       "    </tr>\n",
       "    <tr>\n",
       "      <th>4</th>\n",
       "      <td>Álvaro Montero del #DeportesTolima /D|T\\ fue e...</td>\n",
       "      <td>2020-11-10 02:22:08</td>\n",
       "      <td>Bogotá</td>\n",
       "    </tr>\n",
       "  </tbody>\n",
       "</table>\n",
       "</div>"
      ],
      "text/plain": [
       "                                               tweet                date  \\\n",
       "0  A propósito del fútbol... \\n\"Selección Colombi... 2020-11-11 22:30:42   \n",
       "1  #SelecciónColombia\\n\\nEl lateral derecho quedó... 2020-11-11 14:01:36   \n",
       "2  David Ospina podría ser baja de la Selección C... 2020-11-10 23:52:17   \n",
       "3  Procesos de #Reclutamiento y Selección Inclusi... 2020-11-10 15:36:00   \n",
       "4  Álvaro Montero del #DeportesTolima /D|T\\ fue e... 2020-11-10 02:22:08   \n",
       "\n",
       "     city  \n",
       "0  Bogotá  \n",
       "1  Bogotá  \n",
       "2  Bogotá  \n",
       "3  Bogotá  \n",
       "4  Bogotá  "
      ]
     },
     "execution_count": 11,
     "metadata": {},
     "output_type": "execute_result"
    }
   ],
   "source": [
    "data = data[['tweet', 'date', 'city']]\n",
    "data.head()"
   ]
  },
  {
   "cell_type": "markdown",
   "metadata": {},
   "source": [
    "# Preprosesamiento\n",
    "- quitar enlaces y menciones\n",
    "- quitar emojis"
   ]
  },
  {
   "cell_type": "code",
   "execution_count": 12,
   "metadata": {},
   "outputs": [],
   "source": [
    "def pre_procesado(texto):\n",
    "    texto = texto.lower()\n",
    "    texto = re.sub(r\"[\\W\\d_]+\", \" \", texto)\n",
    "    texto = [palabra for palabra in texto.split() if palabra not in stopwords]\n",
    "    return texto"
   ]
  },
  {
   "cell_type": "code",
   "execution_count": 13,
   "metadata": {},
   "outputs": [],
   "source": [
    "import re\n",
    "\n",
    "pattern1 = '?P<pic>pic.twitter.com/[^\\s]+'\n",
    "pattern2 = '?P<url>https?://[^\\s]+'\n",
    "\n",
    "def text_clean(row):\n",
    "    text = row['tweet']\n",
    "    \n",
    "    links = [tuple(j for j in i if j)[-1] for i in re.findall(f\"({pattern1})|({pattern2})\",text)]\n",
    "    for link in links:\n",
    "        text = text.replace(link,\"\")\n",
    "             \n",
    "    hashtags = [interaction for interaction in text.split() if interaction.startswith(\"#\")]\n",
    "    for hashtag in hashtags:\n",
    "        text = text.replace(hashtag,\"\")\n",
    "        \n",
    "    mentions = [interaction for interaction in text.split() if interaction.startswith(\"@\")]\n",
    "    for mention in mentions:\n",
    "        text = text.replace(mention,\"\")\n",
    "        \n",
    "    return text, links, hashtags, mentions"
   ]
  },
  {
   "cell_type": "code",
   "execution_count": 14,
   "metadata": {},
   "outputs": [
    {
     "name": "stderr",
     "output_type": "stream",
     "text": [
      "C:\\ProgramData\\Anaconda3\\lib\\site-packages\\pandas\\core\\frame.py:2963: SettingWithCopyWarning:\n",
      "\n",
      "\n",
      "A value is trying to be set on a copy of a slice from a DataFrame.\n",
      "Try using .loc[row_indexer,col_indexer] = value instead\n",
      "\n",
      "See the caveats in the documentation: https://pandas.pydata.org/pandas-docs/stable/user_guide/indexing.html#returning-a-view-versus-a-copy\n",
      "\n"
     ]
    },
    {
     "data": {
      "text/html": [
       "<div>\n",
       "<style scoped>\n",
       "    .dataframe tbody tr th:only-of-type {\n",
       "        vertical-align: middle;\n",
       "    }\n",
       "\n",
       "    .dataframe tbody tr th {\n",
       "        vertical-align: top;\n",
       "    }\n",
       "\n",
       "    .dataframe thead th {\n",
       "        text-align: right;\n",
       "    }\n",
       "</style>\n",
       "<table border=\"1\" class=\"dataframe\">\n",
       "  <thead>\n",
       "    <tr style=\"text-align: right;\">\n",
       "      <th></th>\n",
       "      <th>tweet</th>\n",
       "      <th>date</th>\n",
       "      <th>city</th>\n",
       "      <th>clean</th>\n",
       "      <th>links</th>\n",
       "      <th>hashtags</th>\n",
       "      <th>mentions</th>\n",
       "    </tr>\n",
       "  </thead>\n",
       "  <tbody>\n",
       "    <tr>\n",
       "      <th>0</th>\n",
       "      <td>A propósito del fútbol... \\n\"Selección Colombi...</td>\n",
       "      <td>2020-11-11 22:30:42</td>\n",
       "      <td>Bogotá</td>\n",
       "      <td>A propósito del fútbol... \\n\"Selección Colombi...</td>\n",
       "      <td>[https://t.co/4Hgs1pcoFT]</td>\n",
       "      <td>[]</td>\n",
       "      <td>[]</td>\n",
       "    </tr>\n",
       "    <tr>\n",
       "      <th>1</th>\n",
       "      <td>#SelecciónColombia\\n\\nEl lateral derecho quedó...</td>\n",
       "      <td>2020-11-11 14:01:36</td>\n",
       "      <td>Bogotá</td>\n",
       "      <td>\\n\\nEl lateral derecho quedó huérfano sin Aria...</td>\n",
       "      <td>[https://t.co/X6xneFO76Z]</td>\n",
       "      <td>[#SelecciónColombia]</td>\n",
       "      <td>[]</td>\n",
       "    </tr>\n",
       "    <tr>\n",
       "      <th>2</th>\n",
       "      <td>David Ospina podría ser baja de la Selección C...</td>\n",
       "      <td>2020-11-10 23:52:17</td>\n",
       "      <td>Bogotá</td>\n",
       "      <td>David Ospina podría ser baja de la Selección C...</td>\n",
       "      <td>[https://t.co/PL1KeoRzKN]</td>\n",
       "      <td>[]</td>\n",
       "      <td>[]</td>\n",
       "    </tr>\n",
       "    <tr>\n",
       "      <th>3</th>\n",
       "      <td>Procesos de #Reclutamiento y Selección Inclusi...</td>\n",
       "      <td>2020-11-10 15:36:00</td>\n",
       "      <td>Bogotá</td>\n",
       "      <td>Procesos de  y Selección Inclusivos - Curso Vi...</td>\n",
       "      <td>[https://t.co/cHGijAdjIv, https://t.co/y2clqrb...</td>\n",
       "      <td>[#Reclutamiento, #InclusiónLaboral;]</td>\n",
       "      <td>[]</td>\n",
       "    </tr>\n",
       "    <tr>\n",
       "      <th>4</th>\n",
       "      <td>Álvaro Montero del #DeportesTolima /D|T\\ fue e...</td>\n",
       "      <td>2020-11-10 02:22:08</td>\n",
       "      <td>Bogotá</td>\n",
       "      <td>Álvaro Montero del  /D|T\\ fue el primero en un...</td>\n",
       "      <td>[https://t.co/u50FccGR9U, https://t.co/vKunJG5...</td>\n",
       "      <td>[#DeportesTolima, #Colombia, #SantaFe]</td>\n",
       "      <td>[]</td>\n",
       "    </tr>\n",
       "  </tbody>\n",
       "</table>\n",
       "</div>"
      ],
      "text/plain": [
       "                                               tweet                date  \\\n",
       "0  A propósito del fútbol... \\n\"Selección Colombi... 2020-11-11 22:30:42   \n",
       "1  #SelecciónColombia\\n\\nEl lateral derecho quedó... 2020-11-11 14:01:36   \n",
       "2  David Ospina podría ser baja de la Selección C... 2020-11-10 23:52:17   \n",
       "3  Procesos de #Reclutamiento y Selección Inclusi... 2020-11-10 15:36:00   \n",
       "4  Álvaro Montero del #DeportesTolima /D|T\\ fue e... 2020-11-10 02:22:08   \n",
       "\n",
       "     city                                              clean  \\\n",
       "0  Bogotá  A propósito del fútbol... \\n\"Selección Colombi...   \n",
       "1  Bogotá  \\n\\nEl lateral derecho quedó huérfano sin Aria...   \n",
       "2  Bogotá  David Ospina podría ser baja de la Selección C...   \n",
       "3  Bogotá  Procesos de  y Selección Inclusivos - Curso Vi...   \n",
       "4  Bogotá  Álvaro Montero del  /D|T\\ fue el primero en un...   \n",
       "\n",
       "                                               links  \\\n",
       "0                          [https://t.co/4Hgs1pcoFT]   \n",
       "1                          [https://t.co/X6xneFO76Z]   \n",
       "2                          [https://t.co/PL1KeoRzKN]   \n",
       "3  [https://t.co/cHGijAdjIv, https://t.co/y2clqrb...   \n",
       "4  [https://t.co/u50FccGR9U, https://t.co/vKunJG5...   \n",
       "\n",
       "                                 hashtags mentions  \n",
       "0                                      []       []  \n",
       "1                    [#SelecciónColombia]       []  \n",
       "2                                      []       []  \n",
       "3    [#Reclutamiento, #InclusiónLaboral;]       []  \n",
       "4  [#DeportesTolima, #Colombia, #SantaFe]       []  "
      ]
     },
     "execution_count": 14,
     "metadata": {},
     "output_type": "execute_result"
    }
   ],
   "source": [
    "# nueva columna\n",
    "data[['clean', 'links', 'hashtags', 'mentions']] = data.apply(text_clean, axis=1, result_type='expand')\n",
    "\n",
    "data.head()"
   ]
  },
  {
   "cell_type": "markdown",
   "metadata": {},
   "source": [
    "###  `[25 pts]` Punto 2: Hacer una visualización sobre esos tuits\n",
    "\n",
    "❌🎃❌ ¡No Halloween!"
   ]
  },
  {
   "cell_type": "code",
   "execution_count": 15,
   "metadata": {},
   "outputs": [
    {
     "data": {
      "text/html": [
       "<div>\n",
       "<style scoped>\n",
       "    .dataframe tbody tr th:only-of-type {\n",
       "        vertical-align: middle;\n",
       "    }\n",
       "\n",
       "    .dataframe tbody tr th {\n",
       "        vertical-align: top;\n",
       "    }\n",
       "\n",
       "    .dataframe thead th {\n",
       "        text-align: right;\n",
       "    }\n",
       "</style>\n",
       "<table border=\"1\" class=\"dataframe\">\n",
       "  <thead>\n",
       "    <tr style=\"text-align: right;\">\n",
       "      <th></th>\n",
       "      <th>fecha</th>\n",
       "      <th>cnt</th>\n",
       "    </tr>\n",
       "  </thead>\n",
       "  <tbody>\n",
       "    <tr>\n",
       "      <th>8</th>\n",
       "      <td>2020-11-03</td>\n",
       "      <td>1</td>\n",
       "    </tr>\n",
       "    <tr>\n",
       "      <th>7</th>\n",
       "      <td>2020-11-04</td>\n",
       "      <td>1</td>\n",
       "    </tr>\n",
       "    <tr>\n",
       "      <th>6</th>\n",
       "      <td>2020-11-05</td>\n",
       "      <td>1</td>\n",
       "    </tr>\n",
       "    <tr>\n",
       "      <th>1</th>\n",
       "      <td>2020-11-06</td>\n",
       "      <td>6</td>\n",
       "    </tr>\n",
       "    <tr>\n",
       "      <th>2</th>\n",
       "      <td>2020-11-07</td>\n",
       "      <td>4</td>\n",
       "    </tr>\n",
       "    <tr>\n",
       "      <th>3</th>\n",
       "      <td>2020-11-08</td>\n",
       "      <td>4</td>\n",
       "    </tr>\n",
       "    <tr>\n",
       "      <th>0</th>\n",
       "      <td>2020-11-09</td>\n",
       "      <td>8</td>\n",
       "    </tr>\n",
       "    <tr>\n",
       "      <th>4</th>\n",
       "      <td>2020-11-10</td>\n",
       "      <td>3</td>\n",
       "    </tr>\n",
       "    <tr>\n",
       "      <th>5</th>\n",
       "      <td>2020-11-11</td>\n",
       "      <td>2</td>\n",
       "    </tr>\n",
       "  </tbody>\n",
       "</table>\n",
       "</div>"
      ],
      "text/plain": [
       "        fecha  cnt\n",
       "8  2020-11-03    1\n",
       "7  2020-11-04    1\n",
       "6  2020-11-05    1\n",
       "1  2020-11-06    6\n",
       "2  2020-11-07    4\n",
       "3  2020-11-08    4\n",
       "0  2020-11-09    8\n",
       "4  2020-11-10    3\n",
       "5  2020-11-11    2"
      ]
     },
     "execution_count": 15,
     "metadata": {},
     "output_type": "execute_result"
    }
   ],
   "source": [
    "# contar por dias cuantos tuis hubieron \n",
    "data['fecha'] = data.date.dt.date \n",
    "temp = pd.DataFrame(data.fecha.value_counts()).reset_index()\n",
    "temp.columns = ['fecha', 'cnt']\n",
    "temp = temp.sort_values('fecha')\n",
    "temp"
   ]
  },
  {
   "cell_type": "code",
   "execution_count": 16,
   "metadata": {},
   "outputs": [
    {
     "data": {
      "application/vnd.plotly.v1+json": {
       "config": {
        "linkText": "Export to plot.ly",
        "plotlyServerURL": "https://plot.ly",
        "showLink": false
       },
       "data": [
        {
         "hoverinfo": "text",
         "line": {
          "color": "#1DA1F2"
         },
         "mode": "lines+markers",
         "name": "Días",
         "text": [
          "Fecha: 2020-11-03<br>Tuits: 1",
          "Fecha: 2020-11-04<br>Tuits: 1",
          "Fecha: 2020-11-05<br>Tuits: 1",
          "Fecha: 2020-11-06<br>Tuits: 6",
          "Fecha: 2020-11-07<br>Tuits: 4",
          "Fecha: 2020-11-08<br>Tuits: 4",
          "Fecha: 2020-11-09<br>Tuits: 8",
          "Fecha: 2020-11-10<br>Tuits: 3",
          "Fecha: 2020-11-11<br>Tuits: 2"
         ],
         "type": "scatter",
         "x": [
          "2020-11-03",
          "2020-11-04",
          "2020-11-05",
          "2020-11-06",
          "2020-11-07",
          "2020-11-08",
          "2020-11-09",
          "2020-11-10",
          "2020-11-11"
         ],
         "y": [
          1,
          1,
          1,
          6,
          4,
          4,
          8,
          3,
          2
         ]
        }
       ],
       "layout": {
        "template": {
         "data": {
          "bar": [
           {
            "error_x": {
             "color": "#2a3f5f"
            },
            "error_y": {
             "color": "#2a3f5f"
            },
            "marker": {
             "line": {
              "color": "#E5ECF6",
              "width": 0.5
             }
            },
            "type": "bar"
           }
          ],
          "barpolar": [
           {
            "marker": {
             "line": {
              "color": "#E5ECF6",
              "width": 0.5
             }
            },
            "type": "barpolar"
           }
          ],
          "carpet": [
           {
            "aaxis": {
             "endlinecolor": "#2a3f5f",
             "gridcolor": "white",
             "linecolor": "white",
             "minorgridcolor": "white",
             "startlinecolor": "#2a3f5f"
            },
            "baxis": {
             "endlinecolor": "#2a3f5f",
             "gridcolor": "white",
             "linecolor": "white",
             "minorgridcolor": "white",
             "startlinecolor": "#2a3f5f"
            },
            "type": "carpet"
           }
          ],
          "choropleth": [
           {
            "colorbar": {
             "outlinewidth": 0,
             "ticks": ""
            },
            "type": "choropleth"
           }
          ],
          "contour": [
           {
            "colorbar": {
             "outlinewidth": 0,
             "ticks": ""
            },
            "colorscale": [
             [
              0,
              "#0d0887"
             ],
             [
              0.1111111111111111,
              "#46039f"
             ],
             [
              0.2222222222222222,
              "#7201a8"
             ],
             [
              0.3333333333333333,
              "#9c179e"
             ],
             [
              0.4444444444444444,
              "#bd3786"
             ],
             [
              0.5555555555555556,
              "#d8576b"
             ],
             [
              0.6666666666666666,
              "#ed7953"
             ],
             [
              0.7777777777777778,
              "#fb9f3a"
             ],
             [
              0.8888888888888888,
              "#fdca26"
             ],
             [
              1,
              "#f0f921"
             ]
            ],
            "type": "contour"
           }
          ],
          "contourcarpet": [
           {
            "colorbar": {
             "outlinewidth": 0,
             "ticks": ""
            },
            "type": "contourcarpet"
           }
          ],
          "heatmap": [
           {
            "colorbar": {
             "outlinewidth": 0,
             "ticks": ""
            },
            "colorscale": [
             [
              0,
              "#0d0887"
             ],
             [
              0.1111111111111111,
              "#46039f"
             ],
             [
              0.2222222222222222,
              "#7201a8"
             ],
             [
              0.3333333333333333,
              "#9c179e"
             ],
             [
              0.4444444444444444,
              "#bd3786"
             ],
             [
              0.5555555555555556,
              "#d8576b"
             ],
             [
              0.6666666666666666,
              "#ed7953"
             ],
             [
              0.7777777777777778,
              "#fb9f3a"
             ],
             [
              0.8888888888888888,
              "#fdca26"
             ],
             [
              1,
              "#f0f921"
             ]
            ],
            "type": "heatmap"
           }
          ],
          "heatmapgl": [
           {
            "colorbar": {
             "outlinewidth": 0,
             "ticks": ""
            },
            "colorscale": [
             [
              0,
              "#0d0887"
             ],
             [
              0.1111111111111111,
              "#46039f"
             ],
             [
              0.2222222222222222,
              "#7201a8"
             ],
             [
              0.3333333333333333,
              "#9c179e"
             ],
             [
              0.4444444444444444,
              "#bd3786"
             ],
             [
              0.5555555555555556,
              "#d8576b"
             ],
             [
              0.6666666666666666,
              "#ed7953"
             ],
             [
              0.7777777777777778,
              "#fb9f3a"
             ],
             [
              0.8888888888888888,
              "#fdca26"
             ],
             [
              1,
              "#f0f921"
             ]
            ],
            "type": "heatmapgl"
           }
          ],
          "histogram": [
           {
            "marker": {
             "colorbar": {
              "outlinewidth": 0,
              "ticks": ""
             }
            },
            "type": "histogram"
           }
          ],
          "histogram2d": [
           {
            "colorbar": {
             "outlinewidth": 0,
             "ticks": ""
            },
            "colorscale": [
             [
              0,
              "#0d0887"
             ],
             [
              0.1111111111111111,
              "#46039f"
             ],
             [
              0.2222222222222222,
              "#7201a8"
             ],
             [
              0.3333333333333333,
              "#9c179e"
             ],
             [
              0.4444444444444444,
              "#bd3786"
             ],
             [
              0.5555555555555556,
              "#d8576b"
             ],
             [
              0.6666666666666666,
              "#ed7953"
             ],
             [
              0.7777777777777778,
              "#fb9f3a"
             ],
             [
              0.8888888888888888,
              "#fdca26"
             ],
             [
              1,
              "#f0f921"
             ]
            ],
            "type": "histogram2d"
           }
          ],
          "histogram2dcontour": [
           {
            "colorbar": {
             "outlinewidth": 0,
             "ticks": ""
            },
            "colorscale": [
             [
              0,
              "#0d0887"
             ],
             [
              0.1111111111111111,
              "#46039f"
             ],
             [
              0.2222222222222222,
              "#7201a8"
             ],
             [
              0.3333333333333333,
              "#9c179e"
             ],
             [
              0.4444444444444444,
              "#bd3786"
             ],
             [
              0.5555555555555556,
              "#d8576b"
             ],
             [
              0.6666666666666666,
              "#ed7953"
             ],
             [
              0.7777777777777778,
              "#fb9f3a"
             ],
             [
              0.8888888888888888,
              "#fdca26"
             ],
             [
              1,
              "#f0f921"
             ]
            ],
            "type": "histogram2dcontour"
           }
          ],
          "mesh3d": [
           {
            "colorbar": {
             "outlinewidth": 0,
             "ticks": ""
            },
            "type": "mesh3d"
           }
          ],
          "parcoords": [
           {
            "line": {
             "colorbar": {
              "outlinewidth": 0,
              "ticks": ""
             }
            },
            "type": "parcoords"
           }
          ],
          "pie": [
           {
            "automargin": true,
            "type": "pie"
           }
          ],
          "scatter": [
           {
            "marker": {
             "colorbar": {
              "outlinewidth": 0,
              "ticks": ""
             }
            },
            "type": "scatter"
           }
          ],
          "scatter3d": [
           {
            "line": {
             "colorbar": {
              "outlinewidth": 0,
              "ticks": ""
             }
            },
            "marker": {
             "colorbar": {
              "outlinewidth": 0,
              "ticks": ""
             }
            },
            "type": "scatter3d"
           }
          ],
          "scattercarpet": [
           {
            "marker": {
             "colorbar": {
              "outlinewidth": 0,
              "ticks": ""
             }
            },
            "type": "scattercarpet"
           }
          ],
          "scattergeo": [
           {
            "marker": {
             "colorbar": {
              "outlinewidth": 0,
              "ticks": ""
             }
            },
            "type": "scattergeo"
           }
          ],
          "scattergl": [
           {
            "marker": {
             "colorbar": {
              "outlinewidth": 0,
              "ticks": ""
             }
            },
            "type": "scattergl"
           }
          ],
          "scattermapbox": [
           {
            "marker": {
             "colorbar": {
              "outlinewidth": 0,
              "ticks": ""
             }
            },
            "type": "scattermapbox"
           }
          ],
          "scatterpolar": [
           {
            "marker": {
             "colorbar": {
              "outlinewidth": 0,
              "ticks": ""
             }
            },
            "type": "scatterpolar"
           }
          ],
          "scatterpolargl": [
           {
            "marker": {
             "colorbar": {
              "outlinewidth": 0,
              "ticks": ""
             }
            },
            "type": "scatterpolargl"
           }
          ],
          "scatterternary": [
           {
            "marker": {
             "colorbar": {
              "outlinewidth": 0,
              "ticks": ""
             }
            },
            "type": "scatterternary"
           }
          ],
          "surface": [
           {
            "colorbar": {
             "outlinewidth": 0,
             "ticks": ""
            },
            "colorscale": [
             [
              0,
              "#0d0887"
             ],
             [
              0.1111111111111111,
              "#46039f"
             ],
             [
              0.2222222222222222,
              "#7201a8"
             ],
             [
              0.3333333333333333,
              "#9c179e"
             ],
             [
              0.4444444444444444,
              "#bd3786"
             ],
             [
              0.5555555555555556,
              "#d8576b"
             ],
             [
              0.6666666666666666,
              "#ed7953"
             ],
             [
              0.7777777777777778,
              "#fb9f3a"
             ],
             [
              0.8888888888888888,
              "#fdca26"
             ],
             [
              1,
              "#f0f921"
             ]
            ],
            "type": "surface"
           }
          ],
          "table": [
           {
            "cells": {
             "fill": {
              "color": "#EBF0F8"
             },
             "line": {
              "color": "white"
             }
            },
            "header": {
             "fill": {
              "color": "#C8D4E3"
             },
             "line": {
              "color": "white"
             }
            },
            "type": "table"
           }
          ]
         },
         "layout": {
          "annotationdefaults": {
           "arrowcolor": "#2a3f5f",
           "arrowhead": 0,
           "arrowwidth": 1
          },
          "coloraxis": {
           "colorbar": {
            "outlinewidth": 0,
            "ticks": ""
           }
          },
          "colorscale": {
           "diverging": [
            [
             0,
             "#8e0152"
            ],
            [
             0.1,
             "#c51b7d"
            ],
            [
             0.2,
             "#de77ae"
            ],
            [
             0.3,
             "#f1b6da"
            ],
            [
             0.4,
             "#fde0ef"
            ],
            [
             0.5,
             "#f7f7f7"
            ],
            [
             0.6,
             "#e6f5d0"
            ],
            [
             0.7,
             "#b8e186"
            ],
            [
             0.8,
             "#7fbc41"
            ],
            [
             0.9,
             "#4d9221"
            ],
            [
             1,
             "#276419"
            ]
           ],
           "sequential": [
            [
             0,
             "#0d0887"
            ],
            [
             0.1111111111111111,
             "#46039f"
            ],
            [
             0.2222222222222222,
             "#7201a8"
            ],
            [
             0.3333333333333333,
             "#9c179e"
            ],
            [
             0.4444444444444444,
             "#bd3786"
            ],
            [
             0.5555555555555556,
             "#d8576b"
            ],
            [
             0.6666666666666666,
             "#ed7953"
            ],
            [
             0.7777777777777778,
             "#fb9f3a"
            ],
            [
             0.8888888888888888,
             "#fdca26"
            ],
            [
             1,
             "#f0f921"
            ]
           ],
           "sequentialminus": [
            [
             0,
             "#0d0887"
            ],
            [
             0.1111111111111111,
             "#46039f"
            ],
            [
             0.2222222222222222,
             "#7201a8"
            ],
            [
             0.3333333333333333,
             "#9c179e"
            ],
            [
             0.4444444444444444,
             "#bd3786"
            ],
            [
             0.5555555555555556,
             "#d8576b"
            ],
            [
             0.6666666666666666,
             "#ed7953"
            ],
            [
             0.7777777777777778,
             "#fb9f3a"
            ],
            [
             0.8888888888888888,
             "#fdca26"
            ],
            [
             1,
             "#f0f921"
            ]
           ]
          },
          "colorway": [
           "#636efa",
           "#EF553B",
           "#00cc96",
           "#ab63fa",
           "#FFA15A",
           "#19d3f3",
           "#FF6692",
           "#B6E880",
           "#FF97FF",
           "#FECB52"
          ],
          "font": {
           "color": "#2a3f5f"
          },
          "geo": {
           "bgcolor": "white",
           "lakecolor": "white",
           "landcolor": "#E5ECF6",
           "showlakes": true,
           "showland": true,
           "subunitcolor": "white"
          },
          "hoverlabel": {
           "align": "left"
          },
          "hovermode": "closest",
          "mapbox": {
           "style": "light"
          },
          "paper_bgcolor": "white",
          "plot_bgcolor": "#E5ECF6",
          "polar": {
           "angularaxis": {
            "gridcolor": "white",
            "linecolor": "white",
            "ticks": ""
           },
           "bgcolor": "#E5ECF6",
           "radialaxis": {
            "gridcolor": "white",
            "linecolor": "white",
            "ticks": ""
           }
          },
          "scene": {
           "xaxis": {
            "backgroundcolor": "#E5ECF6",
            "gridcolor": "white",
            "gridwidth": 2,
            "linecolor": "white",
            "showbackground": true,
            "ticks": "",
            "zerolinecolor": "white"
           },
           "yaxis": {
            "backgroundcolor": "#E5ECF6",
            "gridcolor": "white",
            "gridwidth": 2,
            "linecolor": "white",
            "showbackground": true,
            "ticks": "",
            "zerolinecolor": "white"
           },
           "zaxis": {
            "backgroundcolor": "#E5ECF6",
            "gridcolor": "white",
            "gridwidth": 2,
            "linecolor": "white",
            "showbackground": true,
            "ticks": "",
            "zerolinecolor": "white"
           }
          },
          "shapedefaults": {
           "line": {
            "color": "#2a3f5f"
           }
          },
          "ternary": {
           "aaxis": {
            "gridcolor": "white",
            "linecolor": "white",
            "ticks": ""
           },
           "baxis": {
            "gridcolor": "white",
            "linecolor": "white",
            "ticks": ""
           },
           "bgcolor": "#E5ECF6",
           "caxis": {
            "gridcolor": "white",
            "linecolor": "white",
            "ticks": ""
           }
          },
          "title": {
           "x": 0.05
          },
          "xaxis": {
           "automargin": true,
           "gridcolor": "white",
           "linecolor": "white",
           "ticks": "",
           "title": {
            "standoff": 15
           },
           "zerolinecolor": "white",
           "zerolinewidth": 2
          },
          "yaxis": {
           "automargin": true,
           "gridcolor": "white",
           "linecolor": "white",
           "ticks": "",
           "title": {
            "standoff": 15
           },
           "zerolinecolor": "white",
           "zerolinewidth": 2
          }
         }
        },
        "title": {
         "text": "Selección Colombia 2020  ...tuits por día"
        }
       }
      },
      "text/html": [
       "<div>                            <div id=\"b9c1cf69-7819-4639-b9d7-723bfae5e08d\" class=\"plotly-graph-div\" style=\"height:525px; width:100%;\"></div>            <script type=\"text/javascript\">                require([\"plotly\"], function(Plotly) {                    window.PLOTLYENV=window.PLOTLYENV || {};                                    if (document.getElementById(\"b9c1cf69-7819-4639-b9d7-723bfae5e08d\")) {                    Plotly.newPlot(                        \"b9c1cf69-7819-4639-b9d7-723bfae5e08d\",                        [{\"hoverinfo\": \"text\", \"line\": {\"color\": \"#1DA1F2\"}, \"mode\": \"lines+markers\", \"name\": \"D\\u00edas\", \"text\": [\"Fecha: 2020-11-03<br>Tuits: 1\", \"Fecha: 2020-11-04<br>Tuits: 1\", \"Fecha: 2020-11-05<br>Tuits: 1\", \"Fecha: 2020-11-06<br>Tuits: 6\", \"Fecha: 2020-11-07<br>Tuits: 4\", \"Fecha: 2020-11-08<br>Tuits: 4\", \"Fecha: 2020-11-09<br>Tuits: 8\", \"Fecha: 2020-11-10<br>Tuits: 3\", \"Fecha: 2020-11-11<br>Tuits: 2\"], \"type\": \"scatter\", \"x\": [\"2020-11-03\", \"2020-11-04\", \"2020-11-05\", \"2020-11-06\", \"2020-11-07\", \"2020-11-08\", \"2020-11-09\", \"2020-11-10\", \"2020-11-11\"], \"y\": [1, 1, 1, 6, 4, 4, 8, 3, 2]}],                        {\"template\": {\"data\": {\"bar\": [{\"error_x\": {\"color\": \"#2a3f5f\"}, \"error_y\": {\"color\": \"#2a3f5f\"}, \"marker\": {\"line\": {\"color\": \"#E5ECF6\", \"width\": 0.5}}, \"type\": \"bar\"}], \"barpolar\": [{\"marker\": {\"line\": {\"color\": \"#E5ECF6\", \"width\": 0.5}}, \"type\": \"barpolar\"}], \"carpet\": [{\"aaxis\": {\"endlinecolor\": \"#2a3f5f\", \"gridcolor\": \"white\", \"linecolor\": \"white\", \"minorgridcolor\": \"white\", \"startlinecolor\": \"#2a3f5f\"}, \"baxis\": {\"endlinecolor\": \"#2a3f5f\", \"gridcolor\": \"white\", \"linecolor\": \"white\", \"minorgridcolor\": \"white\", \"startlinecolor\": \"#2a3f5f\"}, \"type\": \"carpet\"}], \"choropleth\": [{\"colorbar\": {\"outlinewidth\": 0, \"ticks\": \"\"}, \"type\": \"choropleth\"}], \"contour\": [{\"colorbar\": {\"outlinewidth\": 0, \"ticks\": \"\"}, \"colorscale\": [[0.0, \"#0d0887\"], [0.1111111111111111, \"#46039f\"], [0.2222222222222222, \"#7201a8\"], [0.3333333333333333, \"#9c179e\"], [0.4444444444444444, \"#bd3786\"], [0.5555555555555556, \"#d8576b\"], [0.6666666666666666, \"#ed7953\"], [0.7777777777777778, \"#fb9f3a\"], [0.8888888888888888, \"#fdca26\"], [1.0, \"#f0f921\"]], \"type\": \"contour\"}], \"contourcarpet\": [{\"colorbar\": {\"outlinewidth\": 0, \"ticks\": \"\"}, \"type\": \"contourcarpet\"}], \"heatmap\": [{\"colorbar\": {\"outlinewidth\": 0, \"ticks\": \"\"}, \"colorscale\": [[0.0, \"#0d0887\"], [0.1111111111111111, \"#46039f\"], [0.2222222222222222, \"#7201a8\"], [0.3333333333333333, \"#9c179e\"], [0.4444444444444444, \"#bd3786\"], [0.5555555555555556, \"#d8576b\"], [0.6666666666666666, \"#ed7953\"], [0.7777777777777778, \"#fb9f3a\"], [0.8888888888888888, \"#fdca26\"], [1.0, \"#f0f921\"]], \"type\": \"heatmap\"}], \"heatmapgl\": [{\"colorbar\": {\"outlinewidth\": 0, \"ticks\": \"\"}, \"colorscale\": [[0.0, \"#0d0887\"], [0.1111111111111111, \"#46039f\"], [0.2222222222222222, \"#7201a8\"], [0.3333333333333333, \"#9c179e\"], [0.4444444444444444, \"#bd3786\"], [0.5555555555555556, \"#d8576b\"], [0.6666666666666666, \"#ed7953\"], [0.7777777777777778, \"#fb9f3a\"], [0.8888888888888888, \"#fdca26\"], [1.0, \"#f0f921\"]], \"type\": \"heatmapgl\"}], \"histogram\": [{\"marker\": {\"colorbar\": {\"outlinewidth\": 0, \"ticks\": \"\"}}, \"type\": \"histogram\"}], \"histogram2d\": [{\"colorbar\": {\"outlinewidth\": 0, \"ticks\": \"\"}, \"colorscale\": [[0.0, \"#0d0887\"], [0.1111111111111111, \"#46039f\"], [0.2222222222222222, \"#7201a8\"], [0.3333333333333333, \"#9c179e\"], [0.4444444444444444, \"#bd3786\"], [0.5555555555555556, \"#d8576b\"], [0.6666666666666666, \"#ed7953\"], [0.7777777777777778, \"#fb9f3a\"], [0.8888888888888888, \"#fdca26\"], [1.0, \"#f0f921\"]], \"type\": \"histogram2d\"}], \"histogram2dcontour\": [{\"colorbar\": {\"outlinewidth\": 0, \"ticks\": \"\"}, \"colorscale\": [[0.0, \"#0d0887\"], [0.1111111111111111, \"#46039f\"], [0.2222222222222222, \"#7201a8\"], [0.3333333333333333, \"#9c179e\"], [0.4444444444444444, \"#bd3786\"], [0.5555555555555556, \"#d8576b\"], [0.6666666666666666, \"#ed7953\"], [0.7777777777777778, \"#fb9f3a\"], [0.8888888888888888, \"#fdca26\"], [1.0, \"#f0f921\"]], \"type\": \"histogram2dcontour\"}], \"mesh3d\": [{\"colorbar\": {\"outlinewidth\": 0, \"ticks\": \"\"}, \"type\": \"mesh3d\"}], \"parcoords\": [{\"line\": {\"colorbar\": {\"outlinewidth\": 0, \"ticks\": \"\"}}, \"type\": \"parcoords\"}], \"pie\": [{\"automargin\": true, \"type\": \"pie\"}], \"scatter\": [{\"marker\": {\"colorbar\": {\"outlinewidth\": 0, \"ticks\": \"\"}}, \"type\": \"scatter\"}], \"scatter3d\": [{\"line\": {\"colorbar\": {\"outlinewidth\": 0, \"ticks\": \"\"}}, \"marker\": {\"colorbar\": {\"outlinewidth\": 0, \"ticks\": \"\"}}, \"type\": \"scatter3d\"}], \"scattercarpet\": [{\"marker\": {\"colorbar\": {\"outlinewidth\": 0, \"ticks\": \"\"}}, \"type\": \"scattercarpet\"}], \"scattergeo\": [{\"marker\": {\"colorbar\": {\"outlinewidth\": 0, \"ticks\": \"\"}}, \"type\": \"scattergeo\"}], \"scattergl\": [{\"marker\": {\"colorbar\": {\"outlinewidth\": 0, \"ticks\": \"\"}}, \"type\": \"scattergl\"}], \"scattermapbox\": [{\"marker\": {\"colorbar\": {\"outlinewidth\": 0, \"ticks\": \"\"}}, \"type\": \"scattermapbox\"}], \"scatterpolar\": [{\"marker\": {\"colorbar\": {\"outlinewidth\": 0, \"ticks\": \"\"}}, \"type\": \"scatterpolar\"}], \"scatterpolargl\": [{\"marker\": {\"colorbar\": {\"outlinewidth\": 0, \"ticks\": \"\"}}, \"type\": \"scatterpolargl\"}], \"scatterternary\": [{\"marker\": {\"colorbar\": {\"outlinewidth\": 0, \"ticks\": \"\"}}, \"type\": \"scatterternary\"}], \"surface\": [{\"colorbar\": {\"outlinewidth\": 0, \"ticks\": \"\"}, \"colorscale\": [[0.0, \"#0d0887\"], [0.1111111111111111, \"#46039f\"], [0.2222222222222222, \"#7201a8\"], [0.3333333333333333, \"#9c179e\"], [0.4444444444444444, \"#bd3786\"], [0.5555555555555556, \"#d8576b\"], [0.6666666666666666, \"#ed7953\"], [0.7777777777777778, \"#fb9f3a\"], [0.8888888888888888, \"#fdca26\"], [1.0, \"#f0f921\"]], \"type\": \"surface\"}], \"table\": [{\"cells\": {\"fill\": {\"color\": \"#EBF0F8\"}, \"line\": {\"color\": \"white\"}}, \"header\": {\"fill\": {\"color\": \"#C8D4E3\"}, \"line\": {\"color\": \"white\"}}, \"type\": \"table\"}]}, \"layout\": {\"annotationdefaults\": {\"arrowcolor\": \"#2a3f5f\", \"arrowhead\": 0, \"arrowwidth\": 1}, \"coloraxis\": {\"colorbar\": {\"outlinewidth\": 0, \"ticks\": \"\"}}, \"colorscale\": {\"diverging\": [[0, \"#8e0152\"], [0.1, \"#c51b7d\"], [0.2, \"#de77ae\"], [0.3, \"#f1b6da\"], [0.4, \"#fde0ef\"], [0.5, \"#f7f7f7\"], [0.6, \"#e6f5d0\"], [0.7, \"#b8e186\"], [0.8, \"#7fbc41\"], [0.9, \"#4d9221\"], [1, \"#276419\"]], \"sequential\": [[0.0, \"#0d0887\"], [0.1111111111111111, \"#46039f\"], [0.2222222222222222, \"#7201a8\"], [0.3333333333333333, \"#9c179e\"], [0.4444444444444444, \"#bd3786\"], [0.5555555555555556, \"#d8576b\"], [0.6666666666666666, \"#ed7953\"], [0.7777777777777778, \"#fb9f3a\"], [0.8888888888888888, \"#fdca26\"], [1.0, \"#f0f921\"]], \"sequentialminus\": [[0.0, \"#0d0887\"], [0.1111111111111111, \"#46039f\"], [0.2222222222222222, \"#7201a8\"], [0.3333333333333333, \"#9c179e\"], [0.4444444444444444, \"#bd3786\"], [0.5555555555555556, \"#d8576b\"], [0.6666666666666666, \"#ed7953\"], [0.7777777777777778, \"#fb9f3a\"], [0.8888888888888888, \"#fdca26\"], [1.0, \"#f0f921\"]]}, \"colorway\": [\"#636efa\", \"#EF553B\", \"#00cc96\", \"#ab63fa\", \"#FFA15A\", \"#19d3f3\", \"#FF6692\", \"#B6E880\", \"#FF97FF\", \"#FECB52\"], \"font\": {\"color\": \"#2a3f5f\"}, \"geo\": {\"bgcolor\": \"white\", \"lakecolor\": \"white\", \"landcolor\": \"#E5ECF6\", \"showlakes\": true, \"showland\": true, \"subunitcolor\": \"white\"}, \"hoverlabel\": {\"align\": \"left\"}, \"hovermode\": \"closest\", \"mapbox\": {\"style\": \"light\"}, \"paper_bgcolor\": \"white\", \"plot_bgcolor\": \"#E5ECF6\", \"polar\": {\"angularaxis\": {\"gridcolor\": \"white\", \"linecolor\": \"white\", \"ticks\": \"\"}, \"bgcolor\": \"#E5ECF6\", \"radialaxis\": {\"gridcolor\": \"white\", \"linecolor\": \"white\", \"ticks\": \"\"}}, \"scene\": {\"xaxis\": {\"backgroundcolor\": \"#E5ECF6\", \"gridcolor\": \"white\", \"gridwidth\": 2, \"linecolor\": \"white\", \"showbackground\": true, \"ticks\": \"\", \"zerolinecolor\": \"white\"}, \"yaxis\": {\"backgroundcolor\": \"#E5ECF6\", \"gridcolor\": \"white\", \"gridwidth\": 2, \"linecolor\": \"white\", \"showbackground\": true, \"ticks\": \"\", \"zerolinecolor\": \"white\"}, \"zaxis\": {\"backgroundcolor\": \"#E5ECF6\", \"gridcolor\": \"white\", \"gridwidth\": 2, \"linecolor\": \"white\", \"showbackground\": true, \"ticks\": \"\", \"zerolinecolor\": \"white\"}}, \"shapedefaults\": {\"line\": {\"color\": \"#2a3f5f\"}}, \"ternary\": {\"aaxis\": {\"gridcolor\": \"white\", \"linecolor\": \"white\", \"ticks\": \"\"}, \"baxis\": {\"gridcolor\": \"white\", \"linecolor\": \"white\", \"ticks\": \"\"}, \"bgcolor\": \"#E5ECF6\", \"caxis\": {\"gridcolor\": \"white\", \"linecolor\": \"white\", \"ticks\": \"\"}}, \"title\": {\"x\": 0.05}, \"xaxis\": {\"automargin\": true, \"gridcolor\": \"white\", \"linecolor\": \"white\", \"ticks\": \"\", \"title\": {\"standoff\": 15}, \"zerolinecolor\": \"white\", \"zerolinewidth\": 2}, \"yaxis\": {\"automargin\": true, \"gridcolor\": \"white\", \"linecolor\": \"white\", \"ticks\": \"\", \"title\": {\"standoff\": 15}, \"zerolinecolor\": \"white\", \"zerolinewidth\": 2}}}, \"title\": {\"text\": \"Selecci\\u00f3n Colombia 2020  ...tuits por d\\u00eda\"}},                        {\"responsive\": true}                    ).then(function(){\n",
       "                            \n",
       "var gd = document.getElementById('b9c1cf69-7819-4639-b9d7-723bfae5e08d');\n",
       "var x = new MutationObserver(function (mutations, observer) {{\n",
       "        var display = window.getComputedStyle(gd).display;\n",
       "        if (!display || display === 'none') {{\n",
       "            console.log([gd, 'removed!']);\n",
       "            Plotly.purge(gd);\n",
       "            observer.disconnect();\n",
       "        }}\n",
       "}});\n",
       "\n",
       "// Listen for the removal of the full notebook cells\n",
       "var notebookContainer = gd.closest('#notebook-container');\n",
       "if (notebookContainer) {{\n",
       "    x.observe(notebookContainer, {childList: true});\n",
       "}}\n",
       "\n",
       "// Listen for the clearing of the current output cell\n",
       "var outputEl = gd.closest('.output');\n",
       "if (outputEl) {{\n",
       "    x.observe(outputEl, {childList: true});\n",
       "}}\n",
       "\n",
       "                        })                };                });            </script>        </div>"
      ]
     },
     "metadata": {},
     "output_type": "display_data"
    }
   ],
   "source": [
    "trace = go.Scatter(x=temp.fecha.values,\n",
    "                   y=temp.cnt.values,\n",
    "                   text=[f\"Fecha: {f}<br>Tuits: {c}\" for f,c in zip(temp.fecha.values,temp.cnt.values)],\n",
    "                   hoverinfo='text',\n",
    "                   mode='lines+markers',\n",
    "                   name='Días',\n",
    "                   line={'color':'#1DA1F2'})\n",
    "\n",
    "\n",
    "layout = go.Layout(title= 'Selección Colombia 2020  ...tuits por día')\n",
    "\n",
    " \n",
    "fig = go.Figure(data=[trace], layout=layout)\n",
    "iplot(fig)"
   ]
  },
  {
   "cell_type": "code",
   "execution_count": null,
   "metadata": {},
   "outputs": [],
   "source": []
  },
  {
   "cell_type": "code",
   "execution_count": null,
   "metadata": {},
   "outputs": [],
   "source": []
  }
 ],
 "metadata": {
  "kernelspec": {
   "display_name": "Python 3",
   "language": "python",
   "name": "python3"
  },
  "language_info": {
   "codemirror_mode": {
    "name": "ipython",
    "version": 3
   },
   "file_extension": ".py",
   "mimetype": "text/x-python",
   "name": "python",
   "nbconvert_exporter": "python",
   "pygments_lexer": "ipython3",
   "version": "3.8.3"
  }
 },
 "nbformat": 4,
 "nbformat_minor": 2
}
