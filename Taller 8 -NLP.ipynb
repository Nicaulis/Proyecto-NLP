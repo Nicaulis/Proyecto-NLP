{
 "cells": [
  {
   "cell_type": "markdown",
   "metadata": {},
   "source": [
    "<img src='https://encrypted-tbn0.gstatic.com/images?q=tbn%3AANd9GcQ-VfNtOyJbsaxu43Kztf_cv1mgBG6ZIQZEVw&usqp=CAU'>\n",
    "\n",
    "# Procesamiento de Lenguage Natural\n",
    "\n",
    "## Taller #8: Modelado de temas\n",
    "`Fecha de entrega: 🎃Octubre 31, 2020. (Antes del inicio de la próxima clase).`\n",
    "\n",
    "`Modo de entrega: Subir link de GitHub al aula virtual.`"
   ]
  },
  {
   "cell_type": "code",
   "execution_count": 1,
   "metadata": {},
   "outputs": [
    {
     "name": "stderr",
     "output_type": "stream",
     "text": [
      "C:\\ProgramData\\Anaconda3\\lib\\site-packages\\scipy\\sparse\\sparsetools.py:21: DeprecationWarning: `scipy.sparse.sparsetools` is deprecated!\n",
      "scipy.sparse.sparsetools is a private module for scipy.sparse, and should not be used.\n",
      "  _deprecated()\n"
     ]
    }
   ],
   "source": [
    "import re\n",
    "import pandas as pd \n",
    "from pprint import pprint\n",
    "\n",
    "from nltk.corpus import stopwords\n",
    "stopwords = stopwords.words('spanish')\n",
    "\n",
    "import pyLDAvis.gensim\n",
    "from gensim.models import LdaModel\n",
    "from gensim.corpora import Dictionary\n",
    "\n",
    "import warnings\n",
    "warnings.filterwarnings(\"ignore\", category=DeprecationWarning)"
   ]
  },
  {
   "cell_type": "code",
   "execution_count": 2,
   "metadata": {},
   "outputs": [
    {
     "data": {
      "text/html": [
       "<div>\n",
       "<style scoped>\n",
       "    .dataframe tbody tr th:only-of-type {\n",
       "        vertical-align: middle;\n",
       "    }\n",
       "\n",
       "    .dataframe tbody tr th {\n",
       "        vertical-align: top;\n",
       "    }\n",
       "\n",
       "    .dataframe thead th {\n",
       "        text-align: right;\n",
       "    }\n",
       "</style>\n",
       "<table border=\"1\" class=\"dataframe\">\n",
       "  <thead>\n",
       "    <tr style=\"text-align: right;\">\n",
       "      <th></th>\n",
       "      <th>review_id</th>\n",
       "      <th>product_id</th>\n",
       "      <th>reviewer_id</th>\n",
       "      <th>stars</th>\n",
       "      <th>review_body</th>\n",
       "      <th>review_title</th>\n",
       "      <th>language</th>\n",
       "      <th>product_category</th>\n",
       "    </tr>\n",
       "  </thead>\n",
       "  <tbody>\n",
       "    <tr>\n",
       "      <th>0</th>\n",
       "      <td>es_0825565</td>\n",
       "      <td>product_es_0370490</td>\n",
       "      <td>reviewer_es_0174781</td>\n",
       "      <td>3</td>\n",
       "      <td>Buen. Buena calidad, y buena presentación.</td>\n",
       "      <td>Contenta</td>\n",
       "      <td>es</td>\n",
       "      <td>jewelry</td>\n",
       "    </tr>\n",
       "    <tr>\n",
       "      <th>1</th>\n",
       "      <td>es_0227934</td>\n",
       "      <td>product_es_0354224</td>\n",
       "      <td>reviewer_es_0411613</td>\n",
       "      <td>3</td>\n",
       "      <td>Un producto a perfecto, para salir de casa con...</td>\n",
       "      <td>Versatilidad</td>\n",
       "      <td>es</td>\n",
       "      <td>video_games</td>\n",
       "    </tr>\n",
       "    <tr>\n",
       "      <th>2</th>\n",
       "      <td>es_0468601</td>\n",
       "      <td>product_es_0665460</td>\n",
       "      <td>reviewer_es_0348315</td>\n",
       "      <td>1</td>\n",
       "      <td>No funciona con Nintendo Switch. No hay forma ...</td>\n",
       "      <td>Decepción absoluta</td>\n",
       "      <td>es</td>\n",
       "      <td>video_games</td>\n",
       "    </tr>\n",
       "    <tr>\n",
       "      <th>3</th>\n",
       "      <td>es_0814494</td>\n",
       "      <td>product_es_0692692</td>\n",
       "      <td>reviewer_es_0951508</td>\n",
       "      <td>5</td>\n",
       "      <td>Recomendado, los utilizo para pc y no me dan n...</td>\n",
       "      <td>Auriculares Pecham ps4</td>\n",
       "      <td>es</td>\n",
       "      <td>video_games</td>\n",
       "    </tr>\n",
       "    <tr>\n",
       "      <th>4</th>\n",
       "      <td>es_0206329</td>\n",
       "      <td>product_es_0728826</td>\n",
       "      <td>reviewer_es_0493255</td>\n",
       "      <td>4</td>\n",
       "      <td>El cable funciona bien podria ser un poco mas ...</td>\n",
       "      <td>Perfecto</td>\n",
       "      <td>es</td>\n",
       "      <td>video_games</td>\n",
       "    </tr>\n",
       "  </tbody>\n",
       "</table>\n",
       "</div>"
      ],
      "text/plain": [
       "    review_id          product_id          reviewer_id  stars  \\\n",
       "0  es_0825565  product_es_0370490  reviewer_es_0174781      3   \n",
       "1  es_0227934  product_es_0354224  reviewer_es_0411613      3   \n",
       "2  es_0468601  product_es_0665460  reviewer_es_0348315      1   \n",
       "3  es_0814494  product_es_0692692  reviewer_es_0951508      5   \n",
       "4  es_0206329  product_es_0728826  reviewer_es_0493255      4   \n",
       "\n",
       "                                         review_body            review_title  \\\n",
       "0         Buen. Buena calidad, y buena presentación.                Contenta   \n",
       "1  Un producto a perfecto, para salir de casa con...            Versatilidad   \n",
       "2  No funciona con Nintendo Switch. No hay forma ...      Decepción absoluta   \n",
       "3  Recomendado, los utilizo para pc y no me dan n...  Auriculares Pecham ps4   \n",
       "4  El cable funciona bien podria ser un poco mas ...                Perfecto   \n",
       "\n",
       "  language product_category  \n",
       "0       es          jewelry  \n",
       "1       es      video_games  \n",
       "2       es      video_games  \n",
       "3       es      video_games  \n",
       "4       es      video_games  "
      ]
     },
     "execution_count": 2,
     "metadata": {},
     "output_type": "execute_result"
    }
   ],
   "source": [
    "# Cargar datos\n",
    "path = \"C:/Users/practicas/Desktop/reviews_vidjew_es.csv\"\n",
    "data = pd.read_csv(path)\n",
    "data.head()"
   ]
  },
  {
   "cell_type": "markdown",
   "metadata": {},
   "source": [
    "###  `[12 pts]` Punto 1: Hacer pre-procesamiento del texto"
   ]
  },
  {
   "cell_type": "code",
   "execution_count": 3,
   "metadata": {},
   "outputs": [
    {
     "data": {
      "text/html": [
       "<div>\n",
       "<style scoped>\n",
       "    .dataframe tbody tr th:only-of-type {\n",
       "        vertical-align: middle;\n",
       "    }\n",
       "\n",
       "    .dataframe tbody tr th {\n",
       "        vertical-align: top;\n",
       "    }\n",
       "\n",
       "    .dataframe thead th {\n",
       "        text-align: right;\n",
       "    }\n",
       "</style>\n",
       "<table border=\"1\" class=\"dataframe\">\n",
       "  <thead>\n",
       "    <tr style=\"text-align: right;\">\n",
       "      <th></th>\n",
       "      <th>review_id</th>\n",
       "      <th>product_id</th>\n",
       "      <th>reviewer_id</th>\n",
       "      <th>stars</th>\n",
       "      <th>review_body</th>\n",
       "      <th>review_title</th>\n",
       "      <th>language</th>\n",
       "      <th>product_category</th>\n",
       "      <th>preprocesado</th>\n",
       "    </tr>\n",
       "  </thead>\n",
       "  <tbody>\n",
       "    <tr>\n",
       "      <th>0</th>\n",
       "      <td>es_0825565</td>\n",
       "      <td>product_es_0370490</td>\n",
       "      <td>reviewer_es_0174781</td>\n",
       "      <td>3</td>\n",
       "      <td>Buen. Buena calidad, y buena presentación.</td>\n",
       "      <td>Contenta</td>\n",
       "      <td>es</td>\n",
       "      <td>jewelry</td>\n",
       "      <td>[buen, buena, calidad, buena, presentación]</td>\n",
       "    </tr>\n",
       "    <tr>\n",
       "      <th>1</th>\n",
       "      <td>es_0227934</td>\n",
       "      <td>product_es_0354224</td>\n",
       "      <td>reviewer_es_0411613</td>\n",
       "      <td>3</td>\n",
       "      <td>Un producto a perfecto, para salir de casa con...</td>\n",
       "      <td>Versatilidad</td>\n",
       "      <td>es</td>\n",
       "      <td>video_games</td>\n",
       "      <td>[producto, perfecto, salir, casa, nintendo, sw...</td>\n",
       "    </tr>\n",
       "    <tr>\n",
       "      <th>2</th>\n",
       "      <td>es_0468601</td>\n",
       "      <td>product_es_0665460</td>\n",
       "      <td>reviewer_es_0348315</td>\n",
       "      <td>1</td>\n",
       "      <td>No funciona con Nintendo Switch. No hay forma ...</td>\n",
       "      <td>Decepción absoluta</td>\n",
       "      <td>es</td>\n",
       "      <td>video_games</td>\n",
       "      <td>[funciona, nintendo, switch, forma, emparejarl...</td>\n",
       "    </tr>\n",
       "    <tr>\n",
       "      <th>3</th>\n",
       "      <td>es_0814494</td>\n",
       "      <td>product_es_0692692</td>\n",
       "      <td>reviewer_es_0951508</td>\n",
       "      <td>5</td>\n",
       "      <td>Recomendado, los utilizo para pc y no me dan n...</td>\n",
       "      <td>Auriculares Pecham ps4</td>\n",
       "      <td>es</td>\n",
       "      <td>video_games</td>\n",
       "      <td>[recomendado, utilizo, pc, dan, ningún, proble...</td>\n",
       "    </tr>\n",
       "    <tr>\n",
       "      <th>4</th>\n",
       "      <td>es_0206329</td>\n",
       "      <td>product_es_0728826</td>\n",
       "      <td>reviewer_es_0493255</td>\n",
       "      <td>4</td>\n",
       "      <td>El cable funciona bien podria ser un poco mas ...</td>\n",
       "      <td>Perfecto</td>\n",
       "      <td>es</td>\n",
       "      <td>video_games</td>\n",
       "      <td>[cable, funciona, bien, podria, ser, mas, larg...</td>\n",
       "    </tr>\n",
       "  </tbody>\n",
       "</table>\n",
       "</div>"
      ],
      "text/plain": [
       "    review_id          product_id          reviewer_id  stars  \\\n",
       "0  es_0825565  product_es_0370490  reviewer_es_0174781      3   \n",
       "1  es_0227934  product_es_0354224  reviewer_es_0411613      3   \n",
       "2  es_0468601  product_es_0665460  reviewer_es_0348315      1   \n",
       "3  es_0814494  product_es_0692692  reviewer_es_0951508      5   \n",
       "4  es_0206329  product_es_0728826  reviewer_es_0493255      4   \n",
       "\n",
       "                                         review_body            review_title  \\\n",
       "0         Buen. Buena calidad, y buena presentación.                Contenta   \n",
       "1  Un producto a perfecto, para salir de casa con...            Versatilidad   \n",
       "2  No funciona con Nintendo Switch. No hay forma ...      Decepción absoluta   \n",
       "3  Recomendado, los utilizo para pc y no me dan n...  Auriculares Pecham ps4   \n",
       "4  El cable funciona bien podria ser un poco mas ...                Perfecto   \n",
       "\n",
       "  language product_category                                       preprocesado  \n",
       "0       es          jewelry        [buen, buena, calidad, buena, presentación]  \n",
       "1       es      video_games  [producto, perfecto, salir, casa, nintendo, sw...  \n",
       "2       es      video_games  [funciona, nintendo, switch, forma, emparejarl...  \n",
       "3       es      video_games  [recomendado, utilizo, pc, dan, ningún, proble...  \n",
       "4       es      video_games  [cable, funciona, bien, podria, ser, mas, larg...  "
      ]
     },
     "execution_count": 3,
     "metadata": {},
     "output_type": "execute_result"
    }
   ],
   "source": [
    "def pre_procesado(texto):\n",
    "    texto = texto.lower()\n",
    "    texto = re.sub(r\"[\\W\\d_]+\", \" \", texto)\n",
    "    texto = [palabra for palabra in texto.split() if palabra not in stopwords]\n",
    "    return texto\n",
    "data['preprocesado'] = data['review_body'].apply(lambda texto: pre_procesado(texto))\n",
    "data.head()\n"
   ]
  },
  {
   "cell_type": "markdown",
   "metadata": {},
   "source": [
    "###  `[13 pts]` Punto 2: Modelo de LDA"
   ]
  },
  {
   "cell_type": "code",
   "execution_count": 4,
   "metadata": {},
   "outputs": [],
   "source": [
    "# Crear una representación de los documentos en forma de diccionario\n",
    "dictionary = Dictionary(data['preprocesado'].values)"
   ]
  },
  {
   "cell_type": "code",
   "execution_count": 5,
   "metadata": {},
   "outputs": [],
   "source": [
    "# Filtrar palabras muy frecuentes o infrecuentes\n",
    "dictionary.filter_extremes(no_below=5, no_above=0.5) \n",
    "\n",
    "corpus = [dictionary.doc2bow(text) for text in data['preprocesado'].values]"
   ]
  },
  {
   "cell_type": "code",
   "execution_count": 6,
   "metadata": {},
   "outputs": [],
   "source": [
    "# Train the topic model \n",
    "model = LdaModel(corpus=corpus, id2word=dictionary, num_topics=2, passes=100)  # num_topics=2: Numero de temas coloco menos  x que la informacion se sobreponen"
   ]
  },
  {
   "cell_type": "code",
   "execution_count": 7,
   "metadata": {},
   "outputs": [
    {
     "data": {
      "text/plain": [
       "[(0,\n",
       "  '0.038*\"calidad\" + 0.036*\"bien\" + 0.025*\"precio\" + 0.019*\"bonito\" + 0.018*\"regalo\" + 0.017*\"buena\" + 0.015*\"foto\" + 0.013*\"parece\" + 0.012*\"tiempo\" + 0.012*\"bastante\" + 0.011*\"bonitos\" + 0.010*\"dos\" + 0.010*\"plata\" + 0.010*\"tamaño\" + 0.010*\"esperaba\" + 0.010*\"pulsera\" + 0.010*\"cadena\" + 0.009*\"queda\" + 0.009*\"buen\" + 0.009*\"tal\" + 0.009*\"pequeño\" + 0.009*\"grande\" + 0.008*\"pendientes\" + 0.008*\"demasiado\" + 0.008*\"gustado\" + 0.007*\"mas\" + 0.007*\"colgante\" + 0.007*\"grandes\" + 0.007*\"cierre\" + 0.007*\"ser\" + 0.007*\"compra\" + 0.007*\"aunque\" + 0.007*\"tan\" + 0.006*\"quedan\" + 0.006*\"pequeños\" + 0.006*\"color\" + 0.006*\"ve\" + 0.006*\"material\" + 0.006*\"uso\" + 0.006*\"puede\" + 0.006*\"mal\" + 0.006*\"diseño\" + 0.006*\"compré\" + 0.005*\"plástico\" + 0.005*\"parte\" + 0.005*\"fotos\" + 0.005*\"igual\" + 0.005*\"gusto\" + 0.005*\"vez\" + 0.005*\"pequeña\" + 0.005*\"pedir\" + 0.005*\"collar\" + 0.004*\"perfectamente\" + 0.004*\"recomiendo\" + 0.004*\"pone\" + 0.004*\"fina\" + 0.004*\"regalar\" + 0.004*\"encantado\" + 0.004*\"viene\" + 0.004*\"funda\" + 0.004*\"así\" + 0.004*\"bueno\" + 0.004*\"pedí\" + 0.004*\"aspecto\" + 0.004*\"ver\" + 0.004*\"puesto\" + 0.004*\"gusta\" + 0.003*\"contenta\" + 0.003*\"van\" + 0.003*\"vienen\" + 0.003*\"mujer\" + 0.003*\"venía\" + 0.003*\"si\" + 0.003*\"pega\" + 0.003*\"además\" + 0.003*\"da\" + 0.003*\"encantó\" + 0.003*\"rapido\" + 0.003*\"juegos\" + 0.003*\"persona\" + 0.003*\"mejor\" + 0.003*\"verdad\" + 0.003*\"botones\" + 0.003*\"niñas\" + 0.003*\"enseguida\" + 0.003*\"gustan\" + 0.003*\"recomendable\" + 0.003*\"mala\" + 0.003*\"poner\" + 0.003*\"llego\" + 0.003*\"años\" + 0.003*\"aparece\" + 0.003*\"elegante\" + 0.003*\"pandora\" + 0.003*\"encantada\" + 0.003*\"preciosa\" + 0.003*\"quizás\" + 0.003*\"sirve\" + 0.003*\"baja\" + 0.003*\"anillo\"'),\n",
       " (1,\n",
       "  '0.028*\"juego\" + 0.024*\"si\" + 0.023*\"producto\" + 0.015*\"bien\" + 0.014*\"perfecto\" + 0.012*\"mando\" + 0.012*\"llegado\" + 0.011*\"día\" + 0.011*\"caja\" + 0.010*\"solo\" + 0.009*\"mas\" + 0.009*\"llegó\" + 0.008*\"funciona\" + 0.008*\"amazon\" + 0.008*\"jugar\" + 0.008*\"precio\" + 0.007*\"original\" + 0.007*\"puede\" + 0.007*\"buen\" + 0.007*\"pena\" + 0.007*\"ps\" + 0.007*\"así\" + 0.006*\"sido\" + 0.006*\"mejor\" + 0.006*\"viene\" + 0.006*\"comprar\" + 0.006*\"llego\" + 0.006*\"problema\" + 0.006*\"después\" + 0.006*\"cumple\" + 0.006*\"menos\" + 0.006*\"ahora\" + 0.005*\"entrega\" + 0.005*\"perfectamente\" + 0.005*\"cable\" + 0.005*\"pedido\" + 0.005*\"puedo\" + 0.005*\"gracias\" + 0.005*\"aunque\" + 0.005*\"va\" + 0.005*\"consola\" + 0.005*\"bonita\" + 0.005*\"switch\" + 0.005*\"nunca\" + 0.005*\"vale\" + 0.005*\"hacer\" + 0.004*\"vendedor\" + 0.004*\"tener\" + 0.004*\"gran\" + 0.004*\"envío\" + 0.004*\"mal\" + 0.004*\"español\" + 0.004*\"mismo\" + 0.004*\"todas\" + 0.004*\"correcto\" + 0.004*\"nintendo\" + 0.004*\"ningún\" + 0.004*\"demás\" + 0.004*\"rápido\" + 0.004*\"decir\" + 0.004*\"caso\" + 0.004*\"llegar\" + 0.004*\"hijo\" + 0.004*\"q\" + 0.004*\"siempre\" + 0.004*\"mala\" + 0.004*\"trae\" + 0.003*\"entregado\" + 0.003*\"servicio\" + 0.003*\"mandos\" + 0.003*\"carga\" + 0.003*\"creo\" + 0.003*\"bastante\" + 0.003*\"recibido\" + 0.003*\"momento\" + 0.003*\"nuevo\" + 0.003*\"calidad\" + 0.003*\"versión\" + 0.003*\"paquete\" + 0.003*\"verdad\" + 0.003*\"días\" + 0.003*\"llega\" + 0.003*\"hace\" + 0.003*\"mes\" + 0.003*\"juegos\" + 0.003*\"sonido\" + 0.003*\"dia\" + 0.003*\"ser\" + 0.003*\"recomiendo\" + 0.003*\"parte\" + 0.003*\"mano\" + 0.003*\"dinero\" + 0.003*\"compre\" + 0.003*\"bueno\" + 0.003*\"artículo\" + 0.003*\"pueden\" + 0.003*\"meses\" + 0.003*\"xbox\" + 0.003*\"problemas\" + 0.003*\"expectativas\"')]"
      ]
     },
     "execution_count": 7,
     "metadata": {},
     "output_type": "execute_result"
    }
   ],
   "source": [
    "model.print_topics(num_words=100) # colocamo 100 ideal colocar 100 o mas"
   ]
  },
  {
   "cell_type": "markdown",
   "metadata": {},
   "source": [
    "###  `[25 pts]` Punto 3: Visualización de LDA"
   ]
  },
  {
   "cell_type": "code",
   "execution_count": 8,
   "metadata": {},
   "outputs": [
    {
     "data": {
      "text/html": [
       "\n",
       "<link rel=\"stylesheet\" type=\"text/css\" href=\"https://cdn.rawgit.com/bmabey/pyLDAvis/files/ldavis.v1.0.0.css\">\n",
       "\n",
       "\n",
       "<div id=\"ldavis_el1619626071976409608712478655\"></div>\n",
       "<script type=\"text/javascript\">\n",
       "\n",
       "var ldavis_el1619626071976409608712478655_data = {\"mdsDat\": {\"x\": [0.16422683000564572, -0.16422683000564572], \"y\": [0.0, 0.0], \"topics\": [1, 2], \"cluster\": [1, 1], \"Freq\": [55.33072280883789, 44.669273376464844]}, \"tinfo\": {\"Term\": [\"calidad\", \"juego\", \"bonito\", \"regalo\", \"foto\", \"producto\", \"buena\", \"bonitos\", \"si\", \"mando\", \"perfecto\", \"parece\", \"llegado\", \"plata\", \"tama\\u00f1o\", \"d\\u00eda\", \"bien\", \"precio\", \"caja\", \"cadena\", \"tiempo\", \"esperaba\", \"tal\", \"peque\\u00f1o\", \"grande\", \"pendientes\", \"demasiado\", \"dos\", \"colgante\", \"funciona\", \"juego\", \"mando\", \"llegado\", \"caja\", \"jugar\", \"funciona\", \"d\\u00eda\", \"ps\", \"original\", \"amazon\", \"entrega\", \"problema\", \"puedo\", \"comprar\", \"consola\", \"perfecto\", \"gracias\", \"cumple\", \"vale\", \"tener\", \"espa\\u00f1ol\", \"nintendo\", \"caso\", \"entregado\", \"menos\", \"servicio\", \"pena\", \"versi\\u00f3n\", \"paquete\", \"mandos\", \"cable\", \"ning\\u00fan\", \"producto\", \"sido\", \"si\", \"solo\", \"hacer\", \"switch\", \"lleg\\u00f3\", \"ahora\", \"despu\\u00e9s\", \"mas\", \"pedido\", \"bien\", \"puede\", \"as\\u00ed\", \"mejor\", \"buen\", \"precio\", \"viene\", \"llego\", \"bonito\", \"regalo\", \"bonitos\", \"foto\", \"plata\", \"cadena\", \"tama\\u00f1o\", \"tal\", \"peque\\u00f1o\", \"grande\", \"colgante\", \"pendientes\", \"demasiado\", \"grandes\", \"quedan\", \"peque\\u00f1os\", \"color\", \"cierre\", \"material\", \"tan\", \"pl\\u00e1stico\", \"fina\", \"peque\\u00f1a\", \"fotos\", \"dise\\u00f1o\", \"igual\", \"regalar\", \"collar\", \"encantado\", \"contenta\", \"esperaba\", \"calidad\", \"parece\", \"tiempo\", \"buena\", \"dos\", \"queda\", \"pulsera\", \"precio\", \"bien\", \"bastante\", \"gustado\", \"buen\", \"ser\", \"mas\"], \"Freq\": [143.0, 117.0, 63.0, 61.0, 52.0, 105.0, 65.0, 39.0, 112.0, 52.0, 59.0, 48.0, 50.0, 34.0, 34.0, 48.0, 185.0, 116.0, 47.0, 32.0, 42.0, 34.0, 29.0, 29.0, 29.0, 28.0, 28.0, 39.0, 25.0, 34.0, 116.98863220214844, 52.05900192260742, 50.1646842956543, 46.411598205566406, 33.35462188720703, 34.25366973876953, 48.13560104370117, 28.59479522705078, 31.32172393798828, 34.04966354370117, 22.971500396728516, 23.877595901489258, 21.10872459411621, 24.766380310058594, 20.16642951965332, 57.69865417480469, 21.03595542907715, 23.760154724121094, 19.1877498626709, 18.27292823791504, 17.34305191040039, 16.427820205688477, 15.466939926147461, 14.5511474609375, 23.64019203186035, 14.54206371307373, 29.98443603515625, 13.619464874267578, 13.598734855651855, 14.501913070678711, 21.740333557128906, 16.31227684020996, 98.01751708984375, 25.9901180267334, 101.44304656982422, 42.4697265625, 18.879728317260742, 19.716699600219727, 36.496246337890625, 23.309778213500977, 23.83163070678711, 39.682952880859375, 21.65016746520996, 64.06776428222656, 30.952756881713867, 27.396541595458984, 25.567678451538086, 30.520519256591797, 31.97444725036621, 25.09142303466797, 24.516490936279297, 62.97549057006836, 60.994773864746094, 38.7122688293457, 51.585723876953125, 34.03907012939453, 32.185546875, 33.98770523071289, 29.33519744873047, 29.302433013916016, 29.299768447875977, 24.721694946289062, 28.357894897460938, 28.34119987487793, 23.731334686279297, 21.89430046081543, 20.974685668945312, 20.970211029052734, 23.677522659301758, 19.94645881652832, 22.65200424194336, 18.08565902709961, 14.456244468688965, 16.219310760498047, 17.10234260559082, 18.886964797973633, 17.083690643310547, 14.376173973083496, 15.251631736755371, 13.43771743774414, 11.641138076782227, 32.87955856323242, 129.79420471191406, 44.779815673828125, 38.955078125, 57.2814826965332, 34.963294982910156, 31.690601348876953, 32.424354553222656, 84.0377197265625, 121.27348327636719, 38.942657470703125, 25.889392852783203, 30.39280891418457, 23.374753952026367, 25.032421112060547], \"Total\": [143.0, 117.0, 63.0, 61.0, 52.0, 105.0, 65.0, 39.0, 112.0, 52.0, 59.0, 48.0, 50.0, 34.0, 34.0, 48.0, 185.0, 116.0, 47.0, 32.0, 42.0, 34.0, 29.0, 29.0, 29.0, 28.0, 28.0, 39.0, 25.0, 34.0, 117.56989288330078, 52.668296813964844, 50.786991119384766, 47.024715423583984, 33.85723876953125, 34.79746627807617, 48.90469741821289, 29.153730392456055, 31.974781036376953, 34.79595947265625, 23.510290145874023, 24.45062828063965, 21.629281997680664, 25.390775680541992, 20.688661575317383, 59.24537658691406, 21.628679275512695, 24.449636459350586, 19.747718811035156, 18.8073787689209, 17.866851806640625, 16.926496505737305, 15.985715866088867, 15.045340538024902, 24.44882583618164, 15.045245170593262, 31.03118896484375, 14.104829788208008, 14.10462760925293, 15.044886589050293, 22.567501068115234, 16.925493240356445, 105.29244995117188, 27.26704978942871, 112.78716278076172, 46.06195831298828, 19.74542999267578, 20.685243606567383, 43.21694564819336, 25.380043029785156, 27.2512149810791, 64.71537780761719, 24.434131622314453, 185.34124755859375, 50.645851135253906, 40.34910202026367, 35.66717529296875, 60.913330078125, 116.01216888427734, 38.46478271484375, 33.79205322265625, 63.494632720947266, 61.62789535522461, 39.21844482421875, 52.29145050048828, 34.549991607666016, 32.68252944946289, 34.55026626586914, 29.88167953491211, 29.881885528564453, 29.88189125061035, 25.212932586669922, 28.9482364654541, 28.94834327697754, 24.279510498046875, 22.411956787109375, 21.478187561035156, 21.478214263916016, 24.279857635498047, 20.545011520385742, 23.34672737121582, 18.67759132385254, 14.942230224609375, 16.8101863861084, 17.744213104248047, 19.612173080444336, 17.74430274963379, 14.942642211914062, 15.876714706420898, 14.008967399597168, 12.141206741333008, 34.558204650878906, 143.89198303222656, 48.57918930053711, 42.037864685058594, 65.41764068603516, 39.24569320678711, 35.50762176513672, 37.3834228515625, 116.01216888427734, 185.34124755859375, 53.325347900390625, 32.72866439819336, 60.913330078125, 36.50963592529297, 64.71537780761719], \"Category\": [\"Default\", \"Default\", \"Default\", \"Default\", \"Default\", \"Default\", \"Default\", \"Default\", \"Default\", \"Default\", \"Default\", \"Default\", \"Default\", \"Default\", \"Default\", \"Default\", \"Default\", \"Default\", \"Default\", \"Default\", \"Default\", \"Default\", \"Default\", \"Default\", \"Default\", \"Default\", \"Default\", \"Default\", \"Default\", \"Default\", \"Topic1\", \"Topic1\", \"Topic1\", \"Topic1\", \"Topic1\", \"Topic1\", \"Topic1\", \"Topic1\", \"Topic1\", \"Topic1\", \"Topic1\", \"Topic1\", \"Topic1\", \"Topic1\", \"Topic1\", \"Topic1\", \"Topic1\", \"Topic1\", \"Topic1\", \"Topic1\", \"Topic1\", \"Topic1\", \"Topic1\", \"Topic1\", \"Topic1\", \"Topic1\", \"Topic1\", \"Topic1\", \"Topic1\", \"Topic1\", \"Topic1\", \"Topic1\", \"Topic1\", \"Topic1\", \"Topic1\", \"Topic1\", \"Topic1\", \"Topic1\", \"Topic1\", \"Topic1\", \"Topic1\", \"Topic1\", \"Topic1\", \"Topic1\", \"Topic1\", \"Topic1\", \"Topic1\", \"Topic1\", \"Topic1\", \"Topic1\", \"Topic1\", \"Topic2\", \"Topic2\", \"Topic2\", \"Topic2\", \"Topic2\", \"Topic2\", \"Topic2\", \"Topic2\", \"Topic2\", \"Topic2\", \"Topic2\", \"Topic2\", \"Topic2\", \"Topic2\", \"Topic2\", \"Topic2\", \"Topic2\", \"Topic2\", \"Topic2\", \"Topic2\", \"Topic2\", \"Topic2\", \"Topic2\", \"Topic2\", \"Topic2\", \"Topic2\", \"Topic2\", \"Topic2\", \"Topic2\", \"Topic2\", \"Topic2\", \"Topic2\", \"Topic2\", \"Topic2\", \"Topic2\", \"Topic2\", \"Topic2\", \"Topic2\", \"Topic2\", \"Topic2\", \"Topic2\", \"Topic2\", \"Topic2\", \"Topic2\", \"Topic2\"], \"logprob\": [30.0, 29.0, 28.0, 27.0, 26.0, 25.0, 24.0, 23.0, 22.0, 21.0, 20.0, 19.0, 18.0, 17.0, 16.0, 15.0, 14.0, 13.0, 12.0, 11.0, 10.0, 9.0, 8.0, 7.0, 6.0, 5.0, 4.0, 3.0, 2.0, 1.0, -3.577899932861328, -4.387599945068359, -4.424699783325195, -4.502399921417236, -4.832799911499023, -4.80620002746582, -4.466000080108643, -4.986700057983398, -4.895699977874756, -4.81220006942749, -5.205699920654297, -5.166999816894531, -5.290299892425537, -5.130499839782715, -5.335999965667725, -4.2846999168396, -5.293700218200684, -5.171999931335449, -5.385700225830078, -5.434599876403809, -5.486800193786621, -5.540999889373779, -5.60129976272583, -5.662300109863281, -5.177000045776367, -5.662899971008301, -4.939300060272217, -5.728499889373779, -5.730000019073486, -5.6656999588012695, -5.260799884796143, -5.548099994659424, -3.7548000812530518, -5.082300186157227, -3.7204999923706055, -4.59119987487793, -5.401899814605713, -5.358500003814697, -4.742800235748291, -5.191100120544434, -5.169000148773193, -4.65910005569458, -5.264999866485596, -4.179999828338623, -4.90749979019165, -5.029600143432617, -5.098599910736084, -4.921599864959717, -4.875, -5.117400169372559, -5.140600204467773, -3.9832000732421875, -4.015100002288818, -4.469799995422363, -4.182700157165527, -4.598400115966797, -4.654399871826172, -4.599899768829346, -4.747099876403809, -4.748300075531006, -4.7484002113342285, -4.918300151824951, -4.781000137329102, -4.781599998474121, -4.959099769592285, -5.039700031280518, -5.082600116729736, -5.082799911499023, -4.961400032043457, -5.132900238037109, -5.00570011138916, -5.230800151824951, -5.454800128936768, -5.339700222015381, -5.2866997718811035, -5.1875, -5.287799835205078, -5.460400104522705, -5.401199817657471, -5.527900218963623, -5.67140007019043, -4.6331000328063965, -3.259999990463257, -4.32420015335083, -4.463500022888184, -4.078000068664551, -4.571599960327148, -4.669899940490723, -4.646999835968018, -3.694700002670288, -3.327899932861328, -4.463799953460693, -4.872099876403809, -4.711699962615967, -4.974299907684326, -4.905799865722656], \"loglift\": [30.0, 29.0, 28.0, 27.0, 26.0, 25.0, 24.0, 23.0, 22.0, 21.0, 20.0, 19.0, 18.0, 17.0, 16.0, 15.0, 14.0, 13.0, 12.0, 11.0, 10.0, 9.0, 8.0, 7.0, 6.0, 5.0, 4.0, 3.0, 2.0, 1.0, 0.586899995803833, 0.5802000164985657, 0.5795000195503235, 0.5787000060081482, 0.5769000053405762, 0.5760999917984009, 0.5759999752044678, 0.5724999904632568, 0.5712000131607056, 0.5702000260353088, 0.5687000155448914, 0.5680999755859375, 0.5674999952316284, 0.5669000148773193, 0.5662999749183655, 0.5654000043869019, 0.5641000270843506, 0.5631999969482422, 0.5630999803543091, 0.5630000233650208, 0.5620999932289124, 0.5619000196456909, 0.558899998664856, 0.5583999752998352, 0.5582000017166138, 0.5577999949455261, 0.5575000047683716, 0.5568000078201294, 0.5552999973297119, 0.5551000237464905, 0.5544999837875366, 0.5548999905586243, 0.5202000141143799, 0.5439000129699707, 0.48579999804496765, 0.5105999708175659, 0.546999990940094, 0.5439000129699707, 0.4228000044822693, 0.5067999958992004, 0.4578000009059906, 0.10279999673366547, 0.4708999991416931, -0.47040000557899475, 0.09939999878406525, 0.20469999313354492, 0.258899986743927, -0.09920000284910202, -0.6969000101089478, 0.16459999978542328, 0.2709999978542328, 0.7976999878883362, 0.7955999970436096, 0.792900025844574, 0.7922999858856201, 0.7910000085830688, 0.7906000018119812, 0.7894999980926514, 0.7874000072479248, 0.786300003528595, 0.7861999869346619, 0.7861999869346619, 0.7853000164031982, 0.7846999764442444, 0.7829999923706055, 0.7825000286102295, 0.7821999788284302, 0.7818999886512756, 0.7807999849319458, 0.7763000130653381, 0.7756999731063843, 0.7736999988555908, 0.7728000283241272, 0.7700999975204468, 0.7689999938011169, 0.7681999802589417, 0.7678999900817871, 0.7671999931335449, 0.7656999826431274, 0.7642999887466431, 0.7638000249862671, 0.7560999989509583, 0.7027999758720398, 0.724399983882904, 0.7297000288963318, 0.6730999946594238, 0.6902999877929688, 0.6922000050544739, 0.6636000275611877, 0.48350000381469727, 0.3817000091075897, 0.49160000681877136, 0.5715000033378601, 0.11060000211000443, 0.36000001430511475, -0.14390000700950623]}, \"token.table\": {\"Topic\": [1, 2, 1, 2, 1, 2, 1, 2, 1, 2, 1, 2, 1, 2, 1, 2, 1, 2, 1, 2, 2, 1, 2, 1, 2, 1, 2, 1, 2, 2, 1, 2, 1, 2, 1, 2, 1, 2, 1, 2, 1, 2, 1, 2, 1, 2, 1, 2, 1, 2, 1, 2, 1, 2, 1, 2, 1, 1, 2, 1, 2, 2, 1, 2, 1, 2, 1, 2, 1, 2, 1, 2, 1, 2, 1, 2, 1, 2, 1, 2, 1, 2, 1, 2, 1, 2, 1, 2, 1, 2, 1, 2, 1, 2, 1, 2, 1, 2, 1, 2, 1, 2, 1, 2, 1, 1, 2, 1, 2, 1, 2, 1, 2, 1, 2, 1, 2, 1, 2, 1, 2, 1, 2, 1, 2, 1, 2, 1, 2, 1, 2, 1, 2, 1, 2, 1, 2, 1, 2, 1, 2, 1, 2, 1, 2, 1, 2, 1, 2, 1, 2, 1, 2, 1, 2, 1, 2, 1, 2, 1, 2, 1, 2, 1, 2, 1, 2, 1, 2, 1, 2, 1, 2, 1, 2, 1, 1, 2], \"Freq\": [0.9062238335609436, 0.07880207151174545, 0.9771249294281006, 0.028738968074321747, 0.6691598892211914, 0.3221880793571472, 0.2625392973423004, 0.7313594818115234, 0.34530898928642273, 0.6528497934341431, 0.015749363228678703, 0.9922098517417908, 0.025498205795884132, 0.9944300651550293, 0.5089197754859924, 0.4925030469894409, 0.12229117006063461, 0.8713245987892151, 0.9748531579971313, 0.044311508536338806, 0.9791163802146912, 0.9782090187072754, 0.021265413612127304, 0.09729520231485367, 0.9034554958343506, 0.9383376836776733, 0.06255584955215454, 0.04118640348315239, 0.988473653793335, 0.9915546178817749, 0.06298532336950302, 0.9447798132896423, 0.04655880481004715, 0.9777349233627319, 0.9846095442771912, 0.0393843799829483, 0.9667130708694458, 0.04833565279841423, 0.08236413449048996, 0.9883696436882019, 0.9816097021102905, 0.04090040549635887, 0.03454429283738136, 0.9672401547431946, 0.8806946873664856, 0.1100868359208107, 0.05098874121904373, 0.9687860608100891, 0.10192201286554337, 0.8918176293373108, 0.9815008044242859, 0.020447934046387672, 0.07138285040855408, 0.9279770255088806, 0.9782950282096863, 0.042534567415714264, 0.9969863891601562, 0.9514826536178589, 0.05596956983208656, 0.057873375713825226, 0.9549106955528259, 0.9369418025016785, 0.019123585894703865, 0.994426429271698, 0.05635640025138855, 0.9580588340759277, 0.9770826101303101, 0.02873772382736206, 0.9709330797195435, 0.04623490944504738, 0.03346508368849754, 0.9704874157905579, 0.041186992079019547, 0.9884877800941467, 0.21387979388237, 0.7944106459617615, 0.9622479677200317, 0.05064462870359421, 0.05635611712932587, 0.9580540060997009, 0.9951527118682861, 0.008505579084157944, 0.9746807813644409, 0.02953578159213066, 0.9845041036605835, 0.019690081477165222, 0.7398189306259155, 0.26633480191230774, 0.8330065608024597, 0.1619735062122345, 0.9873111844062805, 0.01898675411939621, 0.9970164895057678, 0.0664677694439888, 0.6180911064147949, 0.3863069415092468, 0.048673614859580994, 0.9734722971916199, 0.7289615869522095, 0.2803698480129242, 0.9816422462463379, 0.04090176150202751, 0.9453195929527283, 0.05908247455954552, 0.9452635645866394, 0.9695140719413757, 0.031274646520614624, 0.9925820231437683, 0.07089871913194656, 0.08233978599309921, 0.9263225793838501, 0.9003798365592957, 0.12277907133102417, 0.966769278049469, 0.03222564235329628, 0.03454441949725151, 0.9672437310218811, 0.05948774144053459, 0.9518038630485535, 0.03346509113907814, 0.9704875946044922, 0.046558864414691925, 0.9777361154556274, 0.9789793491363525, 0.03375791013240814, 0.028943566605448723, 0.9840812683105469, 0.05354009568691254, 0.9637216925621033, 0.2758331298828125, 0.7240619659423828, 0.9815698862075806, 0.04089874401688576, 0.930741012096405, 0.06648150086402893, 0.9947268962860107, 0.03430092707276344, 0.6120935678482056, 0.39489907026290894, 0.9709060192108154, 0.04623362049460411, 0.1337491273880005, 0.8559944033622742, 0.11265186965465546, 0.9012149572372437, 0.044619038701057434, 0.9816188812255859, 0.06692256778478622, 0.936915934085846, 0.01622641831636429, 0.9898114800453186, 0.3560703694820404, 0.6299706697463989, 0.9969927072525024, 0.06646618247032166, 0.8954919576644897, 0.09752883017063141, 0.9535318613052368, 0.03667430207133293, 0.911815345287323, 0.08683955669403076, 0.9668728113174438, 0.04834363982081413, 0.033465322107076645, 0.9704943299293518, 0.028943337500095367, 0.9840734601020813, 0.04283255711197853, 0.9851487874984741, 0.9570711851119995, 0.053170621395111084, 0.07136423140764236, 0.9277350306510925, 0.962136447429657, 0.05063876137137413, 0.9925678372383118, 0.6499451994895935, 0.3379714787006378], \"Term\": [\"ahora\", \"ahora\", \"amazon\", \"amazon\", \"as\\u00ed\", \"as\\u00ed\", \"bastante\", \"bastante\", \"bien\", \"bien\", \"bonito\", \"bonito\", \"bonitos\", \"bonitos\", \"buen\", \"buen\", \"buena\", \"buena\", \"cable\", \"cable\", \"cadena\", \"caja\", \"caja\", \"calidad\", \"calidad\", \"caso\", \"caso\", \"cierre\", \"cierre\", \"colgante\", \"collar\", \"collar\", \"color\", \"color\", \"comprar\", \"comprar\", \"consola\", \"consola\", \"contenta\", \"contenta\", \"cumple\", \"cumple\", \"demasiado\", \"demasiado\", \"despu\\u00e9s\", \"despu\\u00e9s\", \"dise\\u00f1o\", \"dise\\u00f1o\", \"dos\", \"dos\", \"d\\u00eda\", \"d\\u00eda\", \"encantado\", \"encantado\", \"entrega\", \"entrega\", \"entregado\", \"espa\\u00f1ol\", \"espa\\u00f1ol\", \"esperaba\", \"esperaba\", \"fina\", \"foto\", \"foto\", \"fotos\", \"fotos\", \"funciona\", \"funciona\", \"gracias\", \"gracias\", \"grande\", \"grande\", \"grandes\", \"grandes\", \"gustado\", \"gustado\", \"hacer\", \"hacer\", \"igual\", \"igual\", \"juego\", \"juego\", \"jugar\", \"jugar\", \"llegado\", \"llegado\", \"llego\", \"llego\", \"lleg\\u00f3\", \"lleg\\u00f3\", \"mando\", \"mando\", \"mandos\", \"mandos\", \"mas\", \"mas\", \"material\", \"material\", \"mejor\", \"mejor\", \"menos\", \"menos\", \"ning\\u00fan\", \"ning\\u00fan\", \"nintendo\", \"original\", \"original\", \"paquete\", \"paquete\", \"parece\", \"parece\", \"pedido\", \"pedido\", \"pena\", \"pena\", \"pendientes\", \"pendientes\", \"peque\\u00f1a\", \"peque\\u00f1a\", \"peque\\u00f1o\", \"peque\\u00f1o\", \"peque\\u00f1os\", \"peque\\u00f1os\", \"perfecto\", \"perfecto\", \"plata\", \"plata\", \"pl\\u00e1stico\", \"pl\\u00e1stico\", \"precio\", \"precio\", \"problema\", \"problema\", \"producto\", \"producto\", \"ps\", \"ps\", \"puede\", \"puede\", \"puedo\", \"puedo\", \"pulsera\", \"pulsera\", \"queda\", \"queda\", \"quedan\", \"quedan\", \"regalar\", \"regalar\", \"regalo\", \"regalo\", \"ser\", \"ser\", \"servicio\", \"servicio\", \"si\", \"si\", \"sido\", \"sido\", \"solo\", \"solo\", \"switch\", \"switch\", \"tal\", \"tal\", \"tama\\u00f1o\", \"tama\\u00f1o\", \"tan\", \"tan\", \"tener\", \"tener\", \"tiempo\", \"tiempo\", \"vale\", \"vale\", \"versi\\u00f3n\", \"viene\", \"viene\"]}, \"R\": 30, \"lambda.step\": 0.01, \"plot.opts\": {\"xlab\": \"PC1\", \"ylab\": \"PC2\"}, \"topic.order\": [2, 1]};\n",
       "\n",
       "function LDAvis_load_lib(url, callback){\n",
       "  var s = document.createElement('script');\n",
       "  s.src = url;\n",
       "  s.async = true;\n",
       "  s.onreadystatechange = s.onload = callback;\n",
       "  s.onerror = function(){console.warn(\"failed to load library \" + url);};\n",
       "  document.getElementsByTagName(\"head\")[0].appendChild(s);\n",
       "}\n",
       "\n",
       "if(typeof(LDAvis) !== \"undefined\"){\n",
       "   // already loaded: just create the visualization\n",
       "   !function(LDAvis){\n",
       "       new LDAvis(\"#\" + \"ldavis_el1619626071976409608712478655\", ldavis_el1619626071976409608712478655_data);\n",
       "   }(LDAvis);\n",
       "}else if(typeof define === \"function\" && define.amd){\n",
       "   // require.js is available: use it to load d3/LDAvis\n",
       "   require.config({paths: {d3: \"https://cdnjs.cloudflare.com/ajax/libs/d3/3.5.5/d3.min\"}});\n",
       "   require([\"d3\"], function(d3){\n",
       "      window.d3 = d3;\n",
       "      LDAvis_load_lib(\"https://cdn.rawgit.com/bmabey/pyLDAvis/files/ldavis.v1.0.0.js\", function(){\n",
       "        new LDAvis(\"#\" + \"ldavis_el1619626071976409608712478655\", ldavis_el1619626071976409608712478655_data);\n",
       "      });\n",
       "    });\n",
       "}else{\n",
       "    // require.js not available: dynamically load d3 & LDAvis\n",
       "    LDAvis_load_lib(\"https://cdnjs.cloudflare.com/ajax/libs/d3/3.5.5/d3.min.js\", function(){\n",
       "         LDAvis_load_lib(\"https://cdn.rawgit.com/bmabey/pyLDAvis/files/ldavis.v1.0.0.js\", function(){\n",
       "                 new LDAvis(\"#\" + \"ldavis_el1619626071976409608712478655\", ldavis_el1619626071976409608712478655_data);\n",
       "            })\n",
       "         });\n",
       "}\n",
       "</script>"
      ],
      "text/plain": [
       "<IPython.core.display.HTML object>"
      ]
     },
     "execution_count": 8,
     "metadata": {},
     "output_type": "execute_result"
    }
   ],
   "source": [
    "#resultados\n",
    "lda_display = pyLDAvis.gensim.prepare(model, corpus, dictionary, sort_topics=True)\n",
    "pyLDAvis.display(lda_display)"
   ]
  },
  {
   "cell_type": "markdown",
   "metadata": {},
   "source": [
    ":)"
   ]
  }
 ],
 "metadata": {
  "kernelspec": {
   "display_name": "Python 3",
   "language": "python",
   "name": "python3"
  },
  "language_info": {
   "codemirror_mode": {
    "name": "ipython",
    "version": 3
   },
   "file_extension": ".py",
   "mimetype": "text/x-python",
   "name": "python",
   "nbconvert_exporter": "python",
   "pygments_lexer": "ipython3",
   "version": "3.8.3"
  }
 },
 "nbformat": 4,
 "nbformat_minor": 2
}
