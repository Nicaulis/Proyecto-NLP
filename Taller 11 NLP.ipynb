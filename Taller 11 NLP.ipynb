{
 "cells": [
  {
   "cell_type": "markdown",
   "metadata": {},
   "source": [
    "<img src='https://encrypted-tbn0.gstatic.com/images?q=tbn%3AANd9GcQ-VfNtOyJbsaxu43Kztf_cv1mgBG6ZIQZEVw&usqp=CAU'>\n",
    "\n",
    "# Procesamiento de Lenguage Natural\n",
    "\n",
    "## Taller #11: Análisis de sentimiento\n",
    "`Fecha de entrega: Noviembre 21, 2020 (Antes del inicio de la próxima clase).`\n",
    "\n",
    "`Modo de entrega: Subir link de GitHub al aula virtual.`"
   ]
  },
  {
   "cell_type": "code",
   "execution_count": 1,
   "metadata": {},
   "outputs": [
    {
     "data": {
      "text/html": [
       "        <script type=\"text/javascript\">\n",
       "        window.PlotlyConfig = {MathJaxConfig: 'local'};\n",
       "        if (window.MathJax) {MathJax.Hub.Config({SVG: {font: \"STIX-Web\"}});}\n",
       "        if (typeof require !== 'undefined') {\n",
       "        require.undef(\"plotly\");\n",
       "        requirejs.config({\n",
       "            paths: {\n",
       "                'plotly': ['https://cdn.plot.ly/plotly-latest.min']\n",
       "            }\n",
       "        });\n",
       "        require(['plotly'], function(Plotly) {\n",
       "            window._Plotly = Plotly;\n",
       "        });\n",
       "        }\n",
       "        </script>\n",
       "        "
      ]
     },
     "metadata": {},
     "output_type": "display_data"
    },
    {
     "name": "stderr",
     "output_type": "stream",
     "text": [
      "C:\\ProgramData\\Anaconda3\\lib\\site-packages\\torch\\cuda\\__init__.py:52: UserWarning:\n",
      "\n",
      "CUDA initialization: Found no NVIDIA driver on your system. Please check that you have an NVIDIA GPU and installed a driver from http://www.nvidia.com/Download/index.aspx (Triggered internally at  ..\\c10\\cuda\\CUDAFunctions.cpp:100.)\n",
      "\n"
     ]
    }
   ],
   "source": [
    "# cargar librerias \n",
    "\n",
    "# Estos paquetes los usaremos para analizar y visualizar los resultados\n",
    "import pandas as pd\n",
    "import tweepy\n",
    "import numpy as np\n",
    "import re\n",
    "import regex\n",
    "import emoji\n",
    "\n",
    "# Libreias Plotly\n",
    "import plotly.io as pio\n",
    "import plotly.express as px\n",
    "import plotly.graph_objs as go\n",
    "from plotly.offline import download_plotlyjs, init_notebook_mode, plot, iplot\n",
    "\n",
    "import matplotlib.pyplot as plt\n",
    "%matplotlib inline\n",
    "init_notebook_mode(connected=True)\n",
    "import seaborn as sns\n",
    "\n",
    "from collections import Counter\n",
    "\n",
    "import urllib.parse\n",
    "import urllib.request\n",
    "import time\n",
    "import hmac\n",
    "import hashlib\n",
    "import random\n",
    "import base64\n",
    "import json\n",
    "\n",
    "# Este es un modulo local de Python que contiene las credenciales de acceso para Twitter\n",
    "import tweepy\n",
    "\n",
    "from googletrans import Translator\n",
    "from vaderSentiment.vaderSentiment import SentimentIntensityAnalyzer\n",
    "from textblob import TextBlob\n",
    "\n",
    "from flair.models import TextClassifier\n",
    "from flair.data import Sentence\n",
    "\n",
    "from wordcloud import WordCloud\n",
    "from wordcloud import ImageColorGenerator\n",
    "\n",
    "from nltk.corpus import stopwords\n",
    "stopwords = stopwords.words('spanish')\n",
    "import PIL.Image\n",
    "from IPython.display import display"
   ]
  },
  {
   "cell_type": "markdown",
   "metadata": {},
   "source": [
    "###  `[25 pts]` Punto 1: Hacer análisis de sentimiento de los datos del anterior taller\n",
    "- Columna con el puntaje numérico del sentimiento\n",
    "- Pueden usar cualquiera de las librerias vistas en clase"
   ]
  },
  {
   "cell_type": "markdown",
   "metadata": {},
   "source": [
    "### Repetimos el ejercio del taller anterior \"taller10\" parta obtener los datos de twiter "
   ]
  },
  {
   "cell_type": "code",
   "execution_count": 2,
   "metadata": {},
   "outputs": [],
   "source": [
    "# Leer llaves\n",
    "keys = pd.read_csv(\"C:/Users/practicas/Documents/Claves Tuit.csv\", header=None)\n",
    "keys= dict(zip(keys[0],keys[1]))"
   ]
  },
  {
   "cell_type": "code",
   "execution_count": 3,
   "metadata": {},
   "outputs": [],
   "source": [
    "# Autorizar a través API\n",
    "auth = tweepy.OAuthHandler(keys['api_key'],keys['api_secret_key'])\n",
    "auth.set_access_token(keys['access_token'], keys['access_token_secret'])\n",
    "api = tweepy.API(auth, wait_on_rate_limit=True) # se autoregula para recolectarinformacion"
   ]
  },
  {
   "cell_type": "code",
   "execution_count": 4,
   "metadata": {},
   "outputs": [
    {
     "data": {
      "text/html": [
       "<div>\n",
       "<style scoped>\n",
       "    .dataframe tbody tr th:only-of-type {\n",
       "        vertical-align: middle;\n",
       "    }\n",
       "\n",
       "    .dataframe tbody tr th {\n",
       "        vertical-align: top;\n",
       "    }\n",
       "\n",
       "    .dataframe thead th {\n",
       "        text-align: right;\n",
       "    }\n",
       "</style>\n",
       "<table border=\"1\" class=\"dataframe\">\n",
       "  <thead>\n",
       "    <tr style=\"text-align: right;\">\n",
       "      <th></th>\n",
       "      <th>city</th>\n",
       "      <th>lat</th>\n",
       "      <th>lng</th>\n",
       "      <th>country</th>\n",
       "      <th>iso2</th>\n",
       "      <th>admin</th>\n",
       "      <th>capital</th>\n",
       "      <th>population</th>\n",
       "      <th>population_proper</th>\n",
       "    </tr>\n",
       "  </thead>\n",
       "  <tbody>\n",
       "    <tr>\n",
       "      <th>0</th>\n",
       "      <td>Bogotá</td>\n",
       "      <td>4.649178</td>\n",
       "      <td>-74.062827</td>\n",
       "      <td>Colombia</td>\n",
       "      <td>CO</td>\n",
       "      <td>Bogotá</td>\n",
       "      <td>primary</td>\n",
       "      <td>7772000.0</td>\n",
       "      <td>6333661.0</td>\n",
       "    </tr>\n",
       "    <tr>\n",
       "      <th>1</th>\n",
       "      <td>Medellín</td>\n",
       "      <td>6.251840</td>\n",
       "      <td>-75.563591</td>\n",
       "      <td>Colombia</td>\n",
       "      <td>CO</td>\n",
       "      <td>Antioquia</td>\n",
       "      <td>admin</td>\n",
       "      <td>3297000.0</td>\n",
       "      <td>1999979.0</td>\n",
       "    </tr>\n",
       "    <tr>\n",
       "      <th>2</th>\n",
       "      <td>Cali</td>\n",
       "      <td>3.437222</td>\n",
       "      <td>-76.522500</td>\n",
       "      <td>Colombia</td>\n",
       "      <td>CO</td>\n",
       "      <td>Valle del Cauca</td>\n",
       "      <td>admin</td>\n",
       "      <td>2254000.0</td>\n",
       "      <td>2178836.0</td>\n",
       "    </tr>\n",
       "    <tr>\n",
       "      <th>3</th>\n",
       "      <td>Barranquilla</td>\n",
       "      <td>10.963889</td>\n",
       "      <td>-74.796389</td>\n",
       "      <td>Colombia</td>\n",
       "      <td>CO</td>\n",
       "      <td>Atlántico</td>\n",
       "      <td>admin</td>\n",
       "      <td>1798000.0</td>\n",
       "      <td>1244491.0</td>\n",
       "    </tr>\n",
       "    <tr>\n",
       "      <th>4</th>\n",
       "      <td>Bucaramanga</td>\n",
       "      <td>7.125393</td>\n",
       "      <td>-73.119804</td>\n",
       "      <td>Colombia</td>\n",
       "      <td>CO</td>\n",
       "      <td>Santander</td>\n",
       "      <td>admin</td>\n",
       "      <td>1009000.0</td>\n",
       "      <td>571820.0</td>\n",
       "    </tr>\n",
       "  </tbody>\n",
       "</table>\n",
       "</div>"
      ],
      "text/plain": [
       "           city        lat        lng   country iso2            admin  \\\n",
       "0        Bogotá   4.649178 -74.062827  Colombia   CO           Bogotá   \n",
       "1      Medellín   6.251840 -75.563591  Colombia   CO        Antioquia   \n",
       "2          Cali   3.437222 -76.522500  Colombia   CO  Valle del Cauca   \n",
       "3  Barranquilla  10.963889 -74.796389  Colombia   CO        Atlántico   \n",
       "4   Bucaramanga   7.125393 -73.119804  Colombia   CO        Santander   \n",
       "\n",
       "   capital  population  population_proper  \n",
       "0  primary   7772000.0          6333661.0  \n",
       "1    admin   3297000.0          1999979.0  \n",
       "2    admin   2254000.0          2178836.0  \n",
       "3    admin   1798000.0          1244491.0  \n",
       "4    admin   1009000.0           571820.0  "
      ]
     },
     "execution_count": 4,
     "metadata": {},
     "output_type": "execute_result"
    }
   ],
   "source": [
    "# Cargar archivo ciudades lat.-ln. bogota\n",
    "ciudades = pd.read_csv(\"C:/Users/practicas/Documents/co_small.csv\")\n",
    "ciudades.head()"
   ]
  },
  {
   "cell_type": "code",
   "execution_count": 5,
   "metadata": {},
   "outputs": [],
   "source": [
    "tweets = tweepy.Cursor(api.search,\n",
    "                       q=['Selección Colombia futbol -RT'], # RT no incluir los retuis\n",
    "                       lang='es', # solo tui en español\n",
    "                           geocode=f'4.649178,-74.062827,45mi', #direccion geografica  bogota cambia a la que se quiera\n",
    "                       tweet_mode='extended', # para que no recorte los texto del tuit\n",
    "                       include_rts=False).items(100) # limitar el numero de twitwes"
   ]
  },
  {
   "cell_type": "code",
   "execution_count": 6,
   "metadata": {},
   "outputs": [],
   "source": [
    "t = []\n",
    "for tweet in tweets:\n",
    "    temp = []\n",
    "    temp.append(tweet.full_text)\n",
    "    temp.append(tweet.created_at)\n",
    "    \n",
    "    t.append(temp)"
   ]
  },
  {
   "cell_type": "code",
   "execution_count": 7,
   "metadata": {
    "scrolled": true
   },
   "outputs": [
    {
     "data": {
      "text/html": [
       "<div>\n",
       "<style scoped>\n",
       "    .dataframe tbody tr th:only-of-type {\n",
       "        vertical-align: middle;\n",
       "    }\n",
       "\n",
       "    .dataframe tbody tr th {\n",
       "        vertical-align: top;\n",
       "    }\n",
       "\n",
       "    .dataframe thead th {\n",
       "        text-align: right;\n",
       "    }\n",
       "</style>\n",
       "<table border=\"1\" class=\"dataframe\">\n",
       "  <thead>\n",
       "    <tr style=\"text-align: right;\">\n",
       "      <th></th>\n",
       "      <th>tweet</th>\n",
       "      <th>date</th>\n",
       "    </tr>\n",
       "  </thead>\n",
       "  <tbody>\n",
       "    <tr>\n",
       "      <th>0</th>\n",
       "      <td>El mensaje de James para la Selección y el paí...</td>\n",
       "      <td>2020-11-16 03:04:34</td>\n",
       "    </tr>\n",
       "    <tr>\n",
       "      <th>1</th>\n",
       "      <td>El mal trabajador le echa la culpa a las herra...</td>\n",
       "      <td>2020-11-16 02:09:48</td>\n",
       "    </tr>\n",
       "    <tr>\n",
       "      <th>2</th>\n",
       "      <td>Noviembre 13 -  Bogotá, día de fútbol, un part...</td>\n",
       "      <td>2020-11-16 00:17:33</td>\n",
       "    </tr>\n",
       "    <tr>\n",
       "      <th>3</th>\n",
       "      <td>Por favor sr Queiroz....asuma que a la selecci...</td>\n",
       "      <td>2020-11-15 23:32:03</td>\n",
       "    </tr>\n",
       "    <tr>\n",
       "      <th>4</th>\n",
       "      <td>La crítica de Queiroz al árbitro de Colombia-U...</td>\n",
       "      <td>2020-11-15 20:39:57</td>\n",
       "    </tr>\n",
       "  </tbody>\n",
       "</table>\n",
       "</div>"
      ],
      "text/plain": [
       "                                               tweet                date\n",
       "0  El mensaje de James para la Selección y el paí... 2020-11-16 03:04:34\n",
       "1  El mal trabajador le echa la culpa a las herra... 2020-11-16 02:09:48\n",
       "2  Noviembre 13 -  Bogotá, día de fútbol, un part... 2020-11-16 00:17:33\n",
       "3  Por favor sr Queiroz....asuma que a la selecci... 2020-11-15 23:32:03\n",
       "4  La crítica de Queiroz al árbitro de Colombia-U... 2020-11-15 20:39:57"
      ]
     },
     "execution_count": 7,
     "metadata": {},
     "output_type": "execute_result"
    }
   ],
   "source": [
    "data = pd.DataFrame(t)\n",
    "data.columns = ['tweet', 'date']\n",
    "data.head()"
   ]
  },
  {
   "cell_type": "code",
   "execution_count": 8,
   "metadata": {},
   "outputs": [],
   "source": [
    "#quitar enlaces y menciones\n",
    "#quitar emojis\n",
    "\n",
    "import re\n",
    "\n",
    "pattern1 = '?P<pic>pic.twitter.com/[^\\s]+'\n",
    "pattern2 = '?P<url>https?://[^\\s]+'\n",
    "\n",
    "def text_clean(row):\n",
    "    text = row['tweet']\n",
    "    \n",
    "    links = [tuple(j for j in i if j)[-1] for i in re.findall(f\"({pattern1})|({pattern2})\",text)]\n",
    "    for link in links:\n",
    "        text = text.replace(link,\"\")\n",
    "             \n",
    "    hashtags = [interaction for interaction in text.split() if interaction.startswith(\"#\")]\n",
    "    for hashtag in hashtags:\n",
    "        text = text.replace(hashtag,\"\")\n",
    "        \n",
    "    mentions = [interaction for interaction in text.split() if interaction.startswith(\"@\")]\n",
    "    for mention in mentions:\n",
    "        text = text.replace(mention,\"\")\n",
    "        \n",
    "    return text, links, hashtags, mentions"
   ]
  },
  {
   "cell_type": "code",
   "execution_count": 9,
   "metadata": {},
   "outputs": [
    {
     "data": {
      "text/html": [
       "<div>\n",
       "<style scoped>\n",
       "    .dataframe tbody tr th:only-of-type {\n",
       "        vertical-align: middle;\n",
       "    }\n",
       "\n",
       "    .dataframe tbody tr th {\n",
       "        vertical-align: top;\n",
       "    }\n",
       "\n",
       "    .dataframe thead th {\n",
       "        text-align: right;\n",
       "    }\n",
       "</style>\n",
       "<table border=\"1\" class=\"dataframe\">\n",
       "  <thead>\n",
       "    <tr style=\"text-align: right;\">\n",
       "      <th></th>\n",
       "      <th>tweet</th>\n",
       "      <th>date</th>\n",
       "      <th>ing</th>\n",
       "    </tr>\n",
       "  </thead>\n",
       "  <tbody>\n",
       "    <tr>\n",
       "      <th>0</th>\n",
       "      <td>El mensaje de James para la Selección y el paí...</td>\n",
       "      <td>2020-11-16 03:04:34</td>\n",
       "      <td>Translated(src=es, dest=en, text=James's messa...</td>\n",
       "    </tr>\n",
       "    <tr>\n",
       "      <th>1</th>\n",
       "      <td>El mal trabajador le echa la culpa a las herra...</td>\n",
       "      <td>2020-11-16 02:09:48</td>\n",
       "      <td>Translated(src=es, dest=en, text=The bad worke...</td>\n",
       "    </tr>\n",
       "    <tr>\n",
       "      <th>2</th>\n",
       "      <td>Noviembre 13 -  Bogotá, día de fútbol, un part...</td>\n",
       "      <td>2020-11-16 00:17:33</td>\n",
       "      <td>Translated(src=es, dest=en, text=November 13 -...</td>\n",
       "    </tr>\n",
       "    <tr>\n",
       "      <th>3</th>\n",
       "      <td>Por favor sr Queiroz....asuma que a la selecci...</td>\n",
       "      <td>2020-11-15 23:32:03</td>\n",
       "      <td>Translated(src=es, dest=en, text=Please, Mr. Q...</td>\n",
       "    </tr>\n",
       "    <tr>\n",
       "      <th>4</th>\n",
       "      <td>La crítica de Queiroz al árbitro de Colombia-U...</td>\n",
       "      <td>2020-11-15 20:39:57</td>\n",
       "      <td>Translated(src=es, dest=en, text=Queiroz's cri...</td>\n",
       "    </tr>\n",
       "  </tbody>\n",
       "</table>\n",
       "</div>"
      ],
      "text/plain": [
       "                                               tweet                date  \\\n",
       "0  El mensaje de James para la Selección y el paí... 2020-11-16 03:04:34   \n",
       "1  El mal trabajador le echa la culpa a las herra... 2020-11-16 02:09:48   \n",
       "2  Noviembre 13 -  Bogotá, día de fútbol, un part... 2020-11-16 00:17:33   \n",
       "3  Por favor sr Queiroz....asuma que a la selecci... 2020-11-15 23:32:03   \n",
       "4  La crítica de Queiroz al árbitro de Colombia-U... 2020-11-15 20:39:57   \n",
       "\n",
       "                                                 ing  \n",
       "0  Translated(src=es, dest=en, text=James's messa...  \n",
       "1  Translated(src=es, dest=en, text=The bad worke...  \n",
       "2  Translated(src=es, dest=en, text=November 13 -...  \n",
       "3  Translated(src=es, dest=en, text=Please, Mr. Q...  \n",
       "4  Translated(src=es, dest=en, text=Queiroz's cri...  "
      ]
     },
     "execution_count": 9,
     "metadata": {},
     "output_type": "execute_result"
    }
   ],
   "source": [
    "#traducir tweet a ingles\n",
    "\n",
    "translator = Translator()\n",
    "data['ing'] = data['tweet'].apply(lambda valor: translator.translate(valor, src='es', dest='en'))\n",
    "data.head()"
   ]
  },
  {
   "cell_type": "markdown",
   "metadata": {},
   "source": [
    "## Librerias  para analisis de sentimientos vistas en clases\n",
    "#### no es nesesario lipiar la data"
   ]
  },
  {
   "cell_type": "code",
   "execution_count": 11,
   "metadata": {},
   "outputs": [],
   "source": [
    "# Modelos BvaderSentiment\n",
    "\n",
    "#data['Sentiment'] = data['ingles'].apply(lambda valor:vader.polarity_scores(valor)['compound'])\n",
    "#data.head()"
   ]
  },
  {
   "cell_type": "code",
   "execution_count": 13,
   "metadata": {},
   "outputs": [
    {
     "name": "stdout",
     "output_type": "stream",
     "text": [
      "2020-11-15 23:06:59,629 loading file C:\\Users\\practicas\\.flair\\models\\sentiment-en-mix-distillbert_3.1.pt\n"
     ]
    },
    {
     "data": {
      "text/html": [
       "<div>\n",
       "<style scoped>\n",
       "    .dataframe tbody tr th:only-of-type {\n",
       "        vertical-align: middle;\n",
       "    }\n",
       "\n",
       "    .dataframe tbody tr th {\n",
       "        vertical-align: top;\n",
       "    }\n",
       "\n",
       "    .dataframe thead th {\n",
       "        text-align: right;\n",
       "    }\n",
       "</style>\n",
       "<table border=\"1\" class=\"dataframe\">\n",
       "  <thead>\n",
       "    <tr style=\"text-align: right;\">\n",
       "      <th></th>\n",
       "      <th>tweet</th>\n",
       "      <th>date</th>\n",
       "      <th>ing</th>\n",
       "      <th>ingles</th>\n",
       "      <th>sentimiento</th>\n",
       "    </tr>\n",
       "  </thead>\n",
       "  <tbody>\n",
       "    <tr>\n",
       "      <th>0</th>\n",
       "      <td>El mensaje de James para la Selección y el paí...</td>\n",
       "      <td>2020-11-16 03:04:34</td>\n",
       "      <td>Translated(src=es, dest=en, text=James's messa...</td>\n",
       "      <td>James's message for the National Team and the ...</td>\n",
       "      <td>0.995395</td>\n",
       "    </tr>\n",
       "    <tr>\n",
       "      <th>1</th>\n",
       "      <td>El mal trabajador le echa la culpa a las herra...</td>\n",
       "      <td>2020-11-16 02:09:48</td>\n",
       "      <td>Translated(src=es, dest=en, text=The bad worke...</td>\n",
       "      <td>The bad worker blames the tools\\nhttps://t.co/...</td>\n",
       "      <td>-0.999821</td>\n",
       "    </tr>\n",
       "    <tr>\n",
       "      <th>2</th>\n",
       "      <td>Noviembre 13 -  Bogotá, día de fútbol, un part...</td>\n",
       "      <td>2020-11-16 00:17:33</td>\n",
       "      <td>Translated(src=es, dest=en, text=November 13 -...</td>\n",
       "      <td>November 13 - Bogotá, football day, a match ne...</td>\n",
       "      <td>-0.934919</td>\n",
       "    </tr>\n",
       "    <tr>\n",
       "      <th>3</th>\n",
       "      <td>Por favor sr Queiroz....asuma que a la selecci...</td>\n",
       "      <td>2020-11-15 23:32:03</td>\n",
       "      <td>Translated(src=es, dest=en, text=Please, Mr. Q...</td>\n",
       "      <td>Please, Mr. Queiroz .... assume that the natio...</td>\n",
       "      <td>-0.999260</td>\n",
       "    </tr>\n",
       "    <tr>\n",
       "      <th>4</th>\n",
       "      <td>La crítica de Queiroz al árbitro de Colombia-U...</td>\n",
       "      <td>2020-11-15 20:39:57</td>\n",
       "      <td>Translated(src=es, dest=en, text=Queiroz's cri...</td>\n",
       "      <td>Queiroz's criticism of the Colombian-Uruguay r...</td>\n",
       "      <td>-0.997736</td>\n",
       "    </tr>\n",
       "  </tbody>\n",
       "</table>\n",
       "</div>"
      ],
      "text/plain": [
       "                                               tweet                date  \\\n",
       "0  El mensaje de James para la Selección y el paí... 2020-11-16 03:04:34   \n",
       "1  El mal trabajador le echa la culpa a las herra... 2020-11-16 02:09:48   \n",
       "2  Noviembre 13 -  Bogotá, día de fútbol, un part... 2020-11-16 00:17:33   \n",
       "3  Por favor sr Queiroz....asuma que a la selecci... 2020-11-15 23:32:03   \n",
       "4  La crítica de Queiroz al árbitro de Colombia-U... 2020-11-15 20:39:57   \n",
       "\n",
       "                                                 ing  \\\n",
       "0  Translated(src=es, dest=en, text=James's messa...   \n",
       "1  Translated(src=es, dest=en, text=The bad worke...   \n",
       "2  Translated(src=es, dest=en, text=November 13 -...   \n",
       "3  Translated(src=es, dest=en, text=Please, Mr. Q...   \n",
       "4  Translated(src=es, dest=en, text=Queiroz's cri...   \n",
       "\n",
       "                                              ingles  sentimiento  \n",
       "0  James's message for the National Team and the ...     0.995395  \n",
       "1  The bad worker blames the tools\\nhttps://t.co/...    -0.999821  \n",
       "2  November 13 - Bogotá, football day, a match ne...    -0.934919  \n",
       "3  Please, Mr. Queiroz .... assume that the natio...    -0.999260  \n",
       "4  Queiroz's criticism of the Colombian-Uruguay r...    -0.997736  "
      ]
     },
     "execution_count": 13,
     "metadata": {},
     "output_type": "execute_result"
    }
   ],
   "source": [
    "#Modelos Basados en Redes Neuronales \n",
    "classifier = TextClassifier.load('en-sentiment')\n",
    "\n",
    "def sent_flair(texto):\n",
    "    sentence = Sentence(texto)\n",
    "    classifier.predict(sentence)\n",
    "    result = sentence.labels[0]\n",
    "    label = result.value\n",
    "    score = result.score\n",
    "    if label == 'POSITIVE':\n",
    "        return score\n",
    "    if label == 'NEGATIVE':\n",
    "        return -1 * score\n",
    "    return score\n",
    "\n",
    "data['sentimiento'] = data['ingles'].apply(lambda valor: sent_flair(valor))\n",
    "data.head()"
   ]
  },
  {
   "cell_type": "markdown",
   "metadata": {},
   "source": [
    "## Columna con el puntaje numérico del sentimiento"
   ]
  },
  {
   "cell_type": "code",
   "execution_count": 14,
   "metadata": {},
   "outputs": [
    {
     "data": {
      "text/html": [
       "<div>\n",
       "<style scoped>\n",
       "    .dataframe tbody tr th:only-of-type {\n",
       "        vertical-align: middle;\n",
       "    }\n",
       "\n",
       "    .dataframe tbody tr th {\n",
       "        vertical-align: top;\n",
       "    }\n",
       "\n",
       "    .dataframe thead th {\n",
       "        text-align: right;\n",
       "    }\n",
       "</style>\n",
       "<table border=\"1\" class=\"dataframe\">\n",
       "  <thead>\n",
       "    <tr style=\"text-align: right;\">\n",
       "      <th></th>\n",
       "      <th>tweet</th>\n",
       "      <th>date</th>\n",
       "      <th>ing</th>\n",
       "      <th>ingles</th>\n",
       "      <th>sentimiento</th>\n",
       "    </tr>\n",
       "  </thead>\n",
       "  <tbody>\n",
       "    <tr>\n",
       "      <th>0</th>\n",
       "      <td>El mensaje de James para la Selección y el paí...</td>\n",
       "      <td>2020-11-16 03:04:34</td>\n",
       "      <td>Translated(src=es, dest=en, text=James's messa...</td>\n",
       "      <td>James's message for the National Team and the ...</td>\n",
       "      <td>0.995395</td>\n",
       "    </tr>\n",
       "    <tr>\n",
       "      <th>1</th>\n",
       "      <td>El mal trabajador le echa la culpa a las herra...</td>\n",
       "      <td>2020-11-16 02:09:48</td>\n",
       "      <td>Translated(src=es, dest=en, text=The bad worke...</td>\n",
       "      <td>The bad worker blames the tools\\nhttps://t.co/...</td>\n",
       "      <td>-0.999821</td>\n",
       "    </tr>\n",
       "    <tr>\n",
       "      <th>2</th>\n",
       "      <td>Noviembre 13 -  Bogotá, día de fútbol, un part...</td>\n",
       "      <td>2020-11-16 00:17:33</td>\n",
       "      <td>Translated(src=es, dest=en, text=November 13 -...</td>\n",
       "      <td>November 13 - Bogotá, football day, a match ne...</td>\n",
       "      <td>-0.934919</td>\n",
       "    </tr>\n",
       "    <tr>\n",
       "      <th>3</th>\n",
       "      <td>Por favor sr Queiroz....asuma que a la selecci...</td>\n",
       "      <td>2020-11-15 23:32:03</td>\n",
       "      <td>Translated(src=es, dest=en, text=Please, Mr. Q...</td>\n",
       "      <td>Please, Mr. Queiroz .... assume that the natio...</td>\n",
       "      <td>-0.999260</td>\n",
       "    </tr>\n",
       "    <tr>\n",
       "      <th>4</th>\n",
       "      <td>La crítica de Queiroz al árbitro de Colombia-U...</td>\n",
       "      <td>2020-11-15 20:39:57</td>\n",
       "      <td>Translated(src=es, dest=en, text=Queiroz's cri...</td>\n",
       "      <td>Queiroz's criticism of the Colombian-Uruguay r...</td>\n",
       "      <td>-0.997736</td>\n",
       "    </tr>\n",
       "  </tbody>\n",
       "</table>\n",
       "</div>"
      ],
      "text/plain": [
       "                                               tweet                date  \\\n",
       "0  El mensaje de James para la Selección y el paí... 2020-11-16 03:04:34   \n",
       "1  El mal trabajador le echa la culpa a las herra... 2020-11-16 02:09:48   \n",
       "2  Noviembre 13 -  Bogotá, día de fútbol, un part... 2020-11-16 00:17:33   \n",
       "3  Por favor sr Queiroz....asuma que a la selecci... 2020-11-15 23:32:03   \n",
       "4  La crítica de Queiroz al árbitro de Colombia-U... 2020-11-15 20:39:57   \n",
       "\n",
       "                                                 ing  \\\n",
       "0  Translated(src=es, dest=en, text=James's messa...   \n",
       "1  Translated(src=es, dest=en, text=The bad worke...   \n",
       "2  Translated(src=es, dest=en, text=November 13 -...   \n",
       "3  Translated(src=es, dest=en, text=Please, Mr. Q...   \n",
       "4  Translated(src=es, dest=en, text=Queiroz's cri...   \n",
       "\n",
       "                                              ingles  sentimiento  \n",
       "0  James's message for the National Team and the ...     0.995395  \n",
       "1  The bad worker blames the tools\\nhttps://t.co/...    -0.999821  \n",
       "2  November 13 - Bogotá, football day, a match ne...    -0.934919  \n",
       "3  Please, Mr. Queiroz .... assume that the natio...    -0.999260  \n",
       "4  Queiroz's criticism of the Colombian-Uruguay r...    -0.997736  "
      ]
     },
     "execution_count": 14,
     "metadata": {},
     "output_type": "execute_result"
    }
   ],
   "source": [
    "data[['tweet', 'sentimiento']].sort_values('sentimiento')\n",
    "data.head()"
   ]
  },
  {
   "cell_type": "code",
   "execution_count": 15,
   "metadata": {},
   "outputs": [
    {
     "data": {
      "text/html": [
       "<div>\n",
       "<style scoped>\n",
       "    .dataframe tbody tr th:only-of-type {\n",
       "        vertical-align: middle;\n",
       "    }\n",
       "\n",
       "    .dataframe tbody tr th {\n",
       "        vertical-align: top;\n",
       "    }\n",
       "\n",
       "    .dataframe thead th {\n",
       "        text-align: right;\n",
       "    }\n",
       "</style>\n",
       "<table border=\"1\" class=\"dataframe\">\n",
       "  <thead>\n",
       "    <tr style=\"text-align: right;\">\n",
       "      <th></th>\n",
       "      <th>tweet</th>\n",
       "      <th>date</th>\n",
       "      <th>ing</th>\n",
       "      <th>ingles</th>\n",
       "      <th>sentimiento</th>\n",
       "    </tr>\n",
       "  </thead>\n",
       "  <tbody>\n",
       "    <tr>\n",
       "      <th>95</th>\n",
       "      <td>La Selección Colombia para mi no son penas, lo...</td>\n",
       "      <td>2020-11-13 21:51:17</td>\n",
       "      <td>Translated(src=es, dest=en, text=The Colombian...</td>\n",
       "      <td>The Colombian National Team for me are not pen...</td>\n",
       "      <td>0.997195</td>\n",
       "    </tr>\n",
       "    <tr>\n",
       "      <th>96</th>\n",
       "      <td>#NuestraSele | #COL 0-2 #URU | ⏱ 54' | ¡GOL! d...</td>\n",
       "      <td>2020-11-13 21:48:07</td>\n",
       "      <td>Translated(src=es, dest=en, text=#OurSele | #C...</td>\n",
       "      <td>#OurSele | #COL 0-2 #URU | ⏱ 54 '| GOAL! from ...</td>\n",
       "      <td>0.986182</td>\n",
       "    </tr>\n",
       "    <tr>\n",
       "      <th>97</th>\n",
       "      <td>#NuestraSele | #COL 0-1 #URU |⏱ 51' | Penal a ...</td>\n",
       "      <td>2020-11-13 21:45:44</td>\n",
       "      <td>Translated(src=es, dest=en, text=#OurSele | #C...</td>\n",
       "      <td>#OurSele | #COL 0-1 #URU | ⏱ 51 '| Penalty in ...</td>\n",
       "      <td>-0.999769</td>\n",
       "    </tr>\n",
       "    <tr>\n",
       "      <th>98</th>\n",
       "      <td>Así fue el gol del atacante uruguayo Edinson C...</td>\n",
       "      <td>2020-11-13 21:45:38</td>\n",
       "      <td>Translated(src=es, dest=en, text=This was the ...</td>\n",
       "      <td>This was the goal of the Uruguayan attacker Ed...</td>\n",
       "      <td>0.961208</td>\n",
       "    </tr>\n",
       "    <tr>\n",
       "      <th>99</th>\n",
       "      <td>#NuestraSele | #COL 0-1 #URU |⏱ 49' | ¡PAAAALO...</td>\n",
       "      <td>2020-11-13 21:43:49</td>\n",
       "      <td>Translated(src=es, dest=en, text=#OurSele | #C...</td>\n",
       "      <td>#OurSele | #COL 0-1 #URU | ⏱ 49 '| PAAAALO! Ur...</td>\n",
       "      <td>-0.936629</td>\n",
       "    </tr>\n",
       "  </tbody>\n",
       "</table>\n",
       "</div>"
      ],
      "text/plain": [
       "                                                tweet                date  \\\n",
       "95  La Selección Colombia para mi no son penas, lo... 2020-11-13 21:51:17   \n",
       "96  #NuestraSele | #COL 0-2 #URU | ⏱ 54' | ¡GOL! d... 2020-11-13 21:48:07   \n",
       "97  #NuestraSele | #COL 0-1 #URU |⏱ 51' | Penal a ... 2020-11-13 21:45:44   \n",
       "98  Así fue el gol del atacante uruguayo Edinson C... 2020-11-13 21:45:38   \n",
       "99  #NuestraSele | #COL 0-1 #URU |⏱ 49' | ¡PAAAALO... 2020-11-13 21:43:49   \n",
       "\n",
       "                                                  ing  \\\n",
       "95  Translated(src=es, dest=en, text=The Colombian...   \n",
       "96  Translated(src=es, dest=en, text=#OurSele | #C...   \n",
       "97  Translated(src=es, dest=en, text=#OurSele | #C...   \n",
       "98  Translated(src=es, dest=en, text=This was the ...   \n",
       "99  Translated(src=es, dest=en, text=#OurSele | #C...   \n",
       "\n",
       "                                               ingles  sentimiento  \n",
       "95  The Colombian National Team for me are not pen...     0.997195  \n",
       "96  #OurSele | #COL 0-2 #URU | ⏱ 54 '| GOAL! from ...     0.986182  \n",
       "97  #OurSele | #COL 0-1 #URU | ⏱ 51 '| Penalty in ...    -0.999769  \n",
       "98  This was the goal of the Uruguayan attacker Ed...     0.961208  \n",
       "99  #OurSele | #COL 0-1 #URU | ⏱ 49 '| PAAAALO! Ur...    -0.936629  "
      ]
     },
     "execution_count": 15,
     "metadata": {},
     "output_type": "execute_result"
    }
   ],
   "source": [
    "data.tail()"
   ]
  },
  {
   "cell_type": "markdown",
   "metadata": {},
   "source": [
    "### [10 pts] Punto 2: ¿Cuál es el tuit más positivo y más negativo?"
   ]
  },
  {
   "cell_type": "code",
   "execution_count": 20,
   "metadata": {},
   "outputs": [
    {
     "data": {
      "text/plain": [
       "'El mensaje de James para la Selección y el país ► https://t.co/U1KfGGEkvJ https://t.co/pic5yQ4Xal'"
      ]
     },
     "execution_count": 20,
     "metadata": {},
     "output_type": "execute_result"
    }
   ],
   "source": [
    "#tuit Positivo\n",
    "data.loc[0]['tweet']"
   ]
  },
  {
   "cell_type": "code",
   "execution_count": 18,
   "metadata": {},
   "outputs": [
    {
     "data": {
      "text/plain": [
       "\"#NuestraSele | #COL 0-1 #URU |⏱ 49' | ¡PAAAALO! Se salva Uruguay \\n\\n¡Vamos, Colombia! 🇨🇴🇨🇴\\n#EliminatoriasSudamericanas \\n\\nSigue aquí el #MinutoAMinuto: https://t.co/TKMqnsG20x\""
      ]
     },
     "execution_count": 18,
     "metadata": {},
     "output_type": "execute_result"
    }
   ],
   "source": [
    "#tuit Negativo\n",
    "data.loc[99]['tweet']"
   ]
  },
  {
   "cell_type": "markdown",
   "metadata": {},
   "source": [
    "### `[15 pts]` Punto 3: ¿Cuántos tuits positivos/negativos hay en sus datos?"
   ]
  },
  {
   "cell_type": "markdown",
   "metadata": {},
   "source": [
    "from sent_flair.sent_flair import SentimentIntensityAnalyzer\n",
    " \n",
    "analyzer = SentimentIntensityAnalyzer()\n",
    " \n",
    "pos_count = 0\n",
    "pos_correct = 0\n",
    " \n",
    "with open(\"positive.txt\",\"r\") as f:\n",
    "for line in f.read().split('\\n'):\n",
    "    vs = analyzer.polarity_scores(line)\n",
    "    if vs['compound'] > 0:\n",
    "    pos_correct += 1\n",
    "    pos_count +=1\n",
    " \n",
    "    neg_count = 0\n",
    "    neg_correct = 0\n",
    "\n",
    "with open(\"negative.txt\",\"r\") as f:\n",
    "for line in f.read().split('\\n'):\n",
    "    vs = analyzer.polarity_scores(line)\n",
    "    if vs['compound'] <= 0:\n",
    "    neg_correct += 1\n",
    "    neg_count +=1\n",
    "    \n",
    "print(\"Positiva = {}% via {} samples\".format(pos_correct/pos_count*100.0, pos_count))\n",
    "print(\"Precisión Negativa = {}% via {} samples\".format(neg_correct/neg_count*100.0, neg_count))"
   ]
  },
  {
   "cell_type": "markdown",
   "metadata": {},
   "source": [
    "###  `[BONUS 5pts]` : Diagrama de barras de la pregunta 3\n",
    "\n",
    "###  `[BONUS 7pts]` : Nubes de palabras por sentimiento"
   ]
  }
 ],
 "metadata": {
  "kernelspec": {
   "display_name": "Python 3",
   "language": "python",
   "name": "python3"
  },
  "language_info": {
   "codemirror_mode": {
    "name": "ipython",
    "version": 3
   },
   "file_extension": ".py",
   "mimetype": "text/x-python",
   "name": "python",
   "nbconvert_exporter": "python",
   "pygments_lexer": "ipython3",
   "version": "3.8.3"
  }
 },
 "nbformat": 4,
 "nbformat_minor": 2
}
